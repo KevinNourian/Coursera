{
 "cells": [
  {
   "cell_type": "markdown",
   "id": "answering-lawrence",
   "metadata": {},
   "source": [
    "# Coursera"
   ]
  },
  {
   "cell_type": "markdown",
   "id": "charming-triangle",
   "metadata": {},
   "source": [
    "##  Introduction\n",
    "Tilto, Inc. is a Lithuanian company, registered in the United States. Tilto is planning to become a company like Coursera which partners with more than 200 leading universities and companies to bring flexible, affordable, job-relevant online learning to individuals and organizations worldwide. Tilto means bridge in Lithuanian and the company plans to become a bridge between citizens of the world and their potential as human beings. \n",
    "\n",
    "Coursera was founded by Daphne Koller and Andrew Ng in 2012 with a vision of providing life-transforming learning experiences to learners around the world. Today, Coursera is a global online learning platform that offers anyone, anywhere, access to online courses and degrees from leading universities and companies. \n",
    "\n",
    "Coursera offers a range of learning opportunities from hands-on projects and courses to job-ready certificates and degree programs. 82 million learners, 100+ Fortune 500 companies, and more than 6,000 campuses, businesses, and governments come to Coursera to access world-class learning—anytime, anywhere.\n",
    " \n",
    "Coursera received B Corp certification in February 2021, which means that they have a legal duty not only to their shareholders, but to also make a positive impact on society and continue to reduce barriers to world-class education for all. \n",
    "\n",
    "Titlo has a vision to become an international company that impacts the world by making its citizens realize their innate potentials. They wish to understand what makes Coursera successful and what has not worked. They want to do what has worked and avoid what has not. Furthermore, they want to become a better company than Coursera. \n",
    "\n",
    "For this analysis, I will work with a dataset provided by Coursea and obtained from Kaggle to help Tilto, Inc achieve their vision."
   ]
  },
  {
   "cell_type": "markdown",
   "id": "veterinary-australian",
   "metadata": {},
   "source": [
    "## Goals\n",
    "\n",
    "The goal of this project is to analyze Coursera's current offering and advise the leadership of Tilto, Inc on how to move forward with their vision. This analysis will answer the following questions:\n",
    "\n",
    "**Organizations**\n",
    "1. Which learning organizations have been most successful with learners?\n",
    "\n",
    "**Enrollment**\n",
    "1. How many students can Tilto Inc project to attract?\n",
    "\n",
    "**Certificates**\n",
    "1. How does offereing certificates affect learner satisfaction?\n",
    "2. Which type of certificate is more beneficial?\n",
    "3. Which type of certificate attracts more learners?\n",
    "\n",
    "**Ratings**\n",
    "1. Which are the highest rated courses by learners?\n",
    "2. What factors affect a learner to give a higher rating to a course?\n",
    "\n",
    "**Difficulty**\n",
    "1. Which level of courses are more popular among learners?\n",
    "2. How does difficulty level and offering certificates interrelate?\n",
    "\n",
    "**Imrpovements**\n",
    "1. How can Tilto Inc become a better organization than Coursera?"
   ]
  },
  {
   "cell_type": "markdown",
   "id": "detailed-interstate",
   "metadata": {},
   "source": [
    "## Importing Libraries and Loading Data"
   ]
  },
  {
   "cell_type": "markdown",
   "id": "growing-organizer",
   "metadata": {},
   "source": [
    "### Importing Libraries"
   ]
  },
  {
   "cell_type": "code",
   "execution_count": 59,
   "id": "sunset-halloween",
   "metadata": {},
   "outputs": [],
   "source": [
    "%matplotlib inline\n",
    "\n",
    "import pandas as pd\n",
    "import numpy as np\n",
    "import seaborn as sns\n",
    "import matplotlib.pyplot as plt\n",
    "import warnings # Supresses FutureWarning that are unnecessary."
   ]
  },
  {
   "cell_type": "markdown",
   "id": "fatty-berlin",
   "metadata": {},
   "source": [
    "### Loading Data in Pandas\n",
    "\n",
    "The data is a csv file that I have dowloaded from Kaggle. In this section, I create a pandas dataframe object so I can work with the data."
   ]
  },
  {
   "cell_type": "code",
   "execution_count": 60,
   "id": "detected-computer",
   "metadata": {},
   "outputs": [],
   "source": [
    "coursera = pd.read_csv('C:\\py\\Projects\\TuringCollege\\Coursera\\DataSet\\coursera.csv', index_col = 0)"
   ]
  },
  {
   "cell_type": "markdown",
   "id": "confused-smoke",
   "metadata": {},
   "source": [
    "## Basic Information\n",
    "\n",
    "In this section, I will display the following information about this dataset:\n",
    "\n",
    "1. Number of rows and columns\n",
    "2. Total number of data enteries\n",
    "3. The first 5 rows\n",
    "4. The data types in this dataset"
   ]
  },
  {
   "cell_type": "markdown",
   "id": "demanding-sacramento",
   "metadata": {},
   "source": [
    "### Number of Rows and Columns \n",
    "\n",
    "This dataset is made of 891 rows and 6 columns."
   ]
  },
  {
   "cell_type": "code",
   "execution_count": 61,
   "id": "tired-contribution",
   "metadata": {},
   "outputs": [
    {
     "data": {
      "text/plain": [
       "(891, 6)"
      ]
     },
     "execution_count": 61,
     "metadata": {},
     "output_type": "execute_result"
    }
   ],
   "source": [
    "coursera.shape"
   ]
  },
  {
   "cell_type": "markdown",
   "id": "arctic-knowing",
   "metadata": {},
   "source": [
    "### Total Number of Entries \n",
    "\n",
    "This dataset is made of 5346 data enteries."
   ]
  },
  {
   "cell_type": "code",
   "execution_count": 62,
   "id": "upset-twins",
   "metadata": {},
   "outputs": [
    {
     "data": {
      "text/plain": [
       "5346"
      ]
     },
     "execution_count": 62,
     "metadata": {},
     "output_type": "execute_result"
    }
   ],
   "source": [
    "coursera.size"
   ]
  },
  {
   "cell_type": "markdown",
   "id": "editorial-closure",
   "metadata": {},
   "source": [
    "### The First Five Rows"
   ]
  },
  {
   "cell_type": "code",
   "execution_count": 63,
   "id": "grave-procedure",
   "metadata": {},
   "outputs": [
    {
     "data": {
      "text/html": [
       "<div>\n",
       "<style scoped>\n",
       "    .dataframe tbody tr th:only-of-type {\n",
       "        vertical-align: middle;\n",
       "    }\n",
       "\n",
       "    .dataframe tbody tr th {\n",
       "        vertical-align: top;\n",
       "    }\n",
       "\n",
       "    .dataframe thead th {\n",
       "        text-align: right;\n",
       "    }\n",
       "</style>\n",
       "<table border=\"1\" class=\"dataframe\">\n",
       "  <thead>\n",
       "    <tr style=\"text-align: right;\">\n",
       "      <th></th>\n",
       "      <th>course_title</th>\n",
       "      <th>course_organization</th>\n",
       "      <th>course_Certificate_type</th>\n",
       "      <th>course_rating</th>\n",
       "      <th>course_difficulty</th>\n",
       "      <th>course_students_enrolled</th>\n",
       "    </tr>\n",
       "  </thead>\n",
       "  <tbody>\n",
       "    <tr>\n",
       "      <th>0</th>\n",
       "      <td>IBM Data Science</td>\n",
       "      <td>IBM</td>\n",
       "      <td>PROFESSIONAL CERTIFICATE</td>\n",
       "      <td>5</td>\n",
       "      <td>Beginner</td>\n",
       "      <td>480k</td>\n",
       "    </tr>\n",
       "    <tr>\n",
       "      <th>1</th>\n",
       "      <td>Introduction to Data Science</td>\n",
       "      <td>IBM</td>\n",
       "      <td>SPECIALIZATION</td>\n",
       "      <td>5</td>\n",
       "      <td>Beginner</td>\n",
       "      <td>310k</td>\n",
       "    </tr>\n",
       "    <tr>\n",
       "      <th>2</th>\n",
       "      <td>The Science of Well-Being</td>\n",
       "      <td>Yale University</td>\n",
       "      <td>COURSE</td>\n",
       "      <td>5</td>\n",
       "      <td>Mixed</td>\n",
       "      <td>2.5m</td>\n",
       "    </tr>\n",
       "    <tr>\n",
       "      <th>3</th>\n",
       "      <td>Python for Everybody</td>\n",
       "      <td>University of Michigan</td>\n",
       "      <td>SPECIALIZATION</td>\n",
       "      <td>5</td>\n",
       "      <td>Beginner</td>\n",
       "      <td>1.5m</td>\n",
       "    </tr>\n",
       "    <tr>\n",
       "      <th>4</th>\n",
       "      <td>Google IT Support</td>\n",
       "      <td>Google</td>\n",
       "      <td>PROFESSIONAL CERTIFICATE</td>\n",
       "      <td>5</td>\n",
       "      <td>Beginner</td>\n",
       "      <td>350k</td>\n",
       "    </tr>\n",
       "  </tbody>\n",
       "</table>\n",
       "</div>"
      ],
      "text/plain": [
       "                   course_title     course_organization  \\\n",
       "0              IBM Data Science                     IBM   \n",
       "1  Introduction to Data Science                     IBM   \n",
       "2     The Science of Well-Being         Yale University   \n",
       "3          Python for Everybody  University of Michigan   \n",
       "4             Google IT Support                  Google   \n",
       "\n",
       "    course_Certificate_type  course_rating course_difficulty  \\\n",
       "0  PROFESSIONAL CERTIFICATE              5          Beginner   \n",
       "1            SPECIALIZATION              5          Beginner   \n",
       "2                    COURSE              5             Mixed   \n",
       "3            SPECIALIZATION              5          Beginner   \n",
       "4  PROFESSIONAL CERTIFICATE              5          Beginner   \n",
       "\n",
       "  course_students_enrolled  \n",
       "0                     480k  \n",
       "1                     310k  \n",
       "2                     2.5m  \n",
       "3                     1.5m  \n",
       "4                     350k  "
      ]
     },
     "execution_count": 63,
     "metadata": {},
     "output_type": "execute_result"
    }
   ],
   "source": [
    "pd.set_option(\"display.max.columns\", None) \n",
    "coursera.sort_index(inplace=True)\n",
    "coursera.head()"
   ]
  },
  {
   "cell_type": "markdown",
   "id": "upper-component",
   "metadata": {},
   "source": [
    "### Data Types\n",
    "\n",
    "All data types of this dataset are string except for course_rating."
   ]
  },
  {
   "cell_type": "code",
   "execution_count": 64,
   "id": "fifteen-comparison",
   "metadata": {},
   "outputs": [
    {
     "data": {
      "text/plain": [
       "course_title                 object\n",
       "course_organization          object\n",
       "course_Certificate_type      object\n",
       "course_rating               float64\n",
       "course_difficulty            object\n",
       "course_students_enrolled     object\n",
       "dtype: object"
      ]
     },
     "execution_count": 64,
     "metadata": {},
     "output_type": "execute_result"
    }
   ],
   "source": [
    "coursera.dtypes"
   ]
  },
  {
   "cell_type": "markdown",
   "id": "commercial-frequency",
   "metadata": {},
   "source": [
    "## Data Cleaning"
   ]
  },
  {
   "cell_type": "markdown",
   "id": "sunrise-dover",
   "metadata": {},
   "source": [
    "### Missing Values\n",
    "This dataset has no missing values"
   ]
  },
  {
   "cell_type": "code",
   "execution_count": 65,
   "id": "limited-hormone",
   "metadata": {},
   "outputs": [
    {
     "data": {
      "text/plain": [
       "course_title                0\n",
       "course_organization         0\n",
       "course_Certificate_type     0\n",
       "course_rating               0\n",
       "course_difficulty           0\n",
       "course_students_enrolled    0\n",
       "dtype: int64"
      ]
     },
     "execution_count": 65,
     "metadata": {},
     "output_type": "execute_result"
    }
   ],
   "source": [
    "coursera.isnull().sum()"
   ]
  },
  {
   "cell_type": "markdown",
   "id": "relevant-excuse",
   "metadata": {},
   "source": [
    "### Duplicate Values\n",
    "\n",
    "This dataset has no duplicate values."
   ]
  },
  {
   "cell_type": "code",
   "execution_count": 66,
   "id": "industrial-failure",
   "metadata": {},
   "outputs": [
    {
     "data": {
      "text/plain": [
       "course_title               0\n",
       "course_organization        0\n",
       "course_Certificate_type    0\n",
       "course_rating              0\n",
       "course_difficulty          0\n",
       "course_students_enrolled   0\n",
       "dtype: float64"
      ]
     },
     "execution_count": 66,
     "metadata": {},
     "output_type": "execute_result"
    }
   ],
   "source": [
    "coursera[coursera.duplicated(keep = False)].sum()"
   ]
  },
  {
   "cell_type": "markdown",
   "id": "mental-sending",
   "metadata": {},
   "source": [
    "### Modification of Column Names\n",
    "\n",
    "I modified the name of each column to be clearer and more attractive."
   ]
  },
  {
   "cell_type": "code",
   "execution_count": 67,
   "id": "behavioral-taiwan",
   "metadata": {},
   "outputs": [],
   "source": [
    "coursera.rename(columns = {'course_title':'Title', \n",
    "                           'course_organization':'Organization', \n",
    "                           'course_Certificate_type':'Certificate',\n",
    "                           'course_rating':'Rating',\n",
    "                          'course_difficulty':'Difficulty',\n",
    "                          'course_students_enrolled':'Enrollment'}, inplace = True)"
   ]
  },
  {
   "cell_type": "code",
   "execution_count": 68,
   "id": "sufficient-radar",
   "metadata": {
    "scrolled": true
   },
   "outputs": [
    {
     "data": {
      "text/html": [
       "<div>\n",
       "<style scoped>\n",
       "    .dataframe tbody tr th:only-of-type {\n",
       "        vertical-align: middle;\n",
       "    }\n",
       "\n",
       "    .dataframe tbody tr th {\n",
       "        vertical-align: top;\n",
       "    }\n",
       "\n",
       "    .dataframe thead th {\n",
       "        text-align: right;\n",
       "    }\n",
       "</style>\n",
       "<table border=\"1\" class=\"dataframe\">\n",
       "  <thead>\n",
       "    <tr style=\"text-align: right;\">\n",
       "      <th></th>\n",
       "      <th>Title</th>\n",
       "      <th>Organization</th>\n",
       "      <th>Certificate</th>\n",
       "      <th>Rating</th>\n",
       "      <th>Difficulty</th>\n",
       "      <th>Enrollment</th>\n",
       "    </tr>\n",
       "  </thead>\n",
       "  <tbody>\n",
       "    <tr>\n",
       "      <th>0</th>\n",
       "      <td>IBM Data Science</td>\n",
       "      <td>IBM</td>\n",
       "      <td>PROFESSIONAL CERTIFICATE</td>\n",
       "      <td>5</td>\n",
       "      <td>Beginner</td>\n",
       "      <td>480k</td>\n",
       "    </tr>\n",
       "    <tr>\n",
       "      <th>1</th>\n",
       "      <td>Introduction to Data Science</td>\n",
       "      <td>IBM</td>\n",
       "      <td>SPECIALIZATION</td>\n",
       "      <td>5</td>\n",
       "      <td>Beginner</td>\n",
       "      <td>310k</td>\n",
       "    </tr>\n",
       "    <tr>\n",
       "      <th>2</th>\n",
       "      <td>The Science of Well-Being</td>\n",
       "      <td>Yale University</td>\n",
       "      <td>COURSE</td>\n",
       "      <td>5</td>\n",
       "      <td>Mixed</td>\n",
       "      <td>2.5m</td>\n",
       "    </tr>\n",
       "    <tr>\n",
       "      <th>3</th>\n",
       "      <td>Python for Everybody</td>\n",
       "      <td>University of Michigan</td>\n",
       "      <td>SPECIALIZATION</td>\n",
       "      <td>5</td>\n",
       "      <td>Beginner</td>\n",
       "      <td>1.5m</td>\n",
       "    </tr>\n",
       "    <tr>\n",
       "      <th>4</th>\n",
       "      <td>Google IT Support</td>\n",
       "      <td>Google</td>\n",
       "      <td>PROFESSIONAL CERTIFICATE</td>\n",
       "      <td>5</td>\n",
       "      <td>Beginner</td>\n",
       "      <td>350k</td>\n",
       "    </tr>\n",
       "  </tbody>\n",
       "</table>\n",
       "</div>"
      ],
      "text/plain": [
       "                          Title            Organization  \\\n",
       "0              IBM Data Science                     IBM   \n",
       "1  Introduction to Data Science                     IBM   \n",
       "2     The Science of Well-Being         Yale University   \n",
       "3          Python for Everybody  University of Michigan   \n",
       "4             Google IT Support                  Google   \n",
       "\n",
       "                Certificate  Rating Difficulty Enrollment  \n",
       "0  PROFESSIONAL CERTIFICATE       5   Beginner       480k  \n",
       "1            SPECIALIZATION       5   Beginner       310k  \n",
       "2                    COURSE       5      Mixed       2.5m  \n",
       "3            SPECIALIZATION       5   Beginner       1.5m  \n",
       "4  PROFESSIONAL CERTIFICATE       5   Beginner       350k  "
      ]
     },
     "execution_count": 68,
     "metadata": {},
     "output_type": "execute_result"
    }
   ],
   "source": [
    "coursera.head()"
   ]
  },
  {
   "cell_type": "markdown",
   "id": "reserved-sheet",
   "metadata": {},
   "source": [
    "### Modification of Certificate Column\n",
    "\n",
    "I modified the Certificate column so the text is in title case. I also removed the uncessary text, 'Certificate' from some of the enteries. "
   ]
  },
  {
   "cell_type": "code",
   "execution_count": 69,
   "id": "optional-allowance",
   "metadata": {
    "scrolled": false
   },
   "outputs": [],
   "source": [
    "coursera['Certificate'] = coursera['Certificate'].str.title()\n",
    "coursera['Certificate'] = coursera['Certificate'].str.replace(r'Certificate', '')"
   ]
  },
  {
   "cell_type": "code",
   "execution_count": 70,
   "id": "premier-intervention",
   "metadata": {},
   "outputs": [
    {
     "data": {
      "text/html": [
       "<div>\n",
       "<style scoped>\n",
       "    .dataframe tbody tr th:only-of-type {\n",
       "        vertical-align: middle;\n",
       "    }\n",
       "\n",
       "    .dataframe tbody tr th {\n",
       "        vertical-align: top;\n",
       "    }\n",
       "\n",
       "    .dataframe thead th {\n",
       "        text-align: right;\n",
       "    }\n",
       "</style>\n",
       "<table border=\"1\" class=\"dataframe\">\n",
       "  <thead>\n",
       "    <tr style=\"text-align: right;\">\n",
       "      <th></th>\n",
       "      <th>Title</th>\n",
       "      <th>Organization</th>\n",
       "      <th>Certificate</th>\n",
       "      <th>Rating</th>\n",
       "      <th>Difficulty</th>\n",
       "      <th>Enrollment</th>\n",
       "    </tr>\n",
       "  </thead>\n",
       "  <tbody>\n",
       "    <tr>\n",
       "      <th>0</th>\n",
       "      <td>IBM Data Science</td>\n",
       "      <td>IBM</td>\n",
       "      <td>Professional</td>\n",
       "      <td>5</td>\n",
       "      <td>Beginner</td>\n",
       "      <td>480k</td>\n",
       "    </tr>\n",
       "    <tr>\n",
       "      <th>1</th>\n",
       "      <td>Introduction to Data Science</td>\n",
       "      <td>IBM</td>\n",
       "      <td>Specialization</td>\n",
       "      <td>5</td>\n",
       "      <td>Beginner</td>\n",
       "      <td>310k</td>\n",
       "    </tr>\n",
       "    <tr>\n",
       "      <th>2</th>\n",
       "      <td>The Science of Well-Being</td>\n",
       "      <td>Yale University</td>\n",
       "      <td>Course</td>\n",
       "      <td>5</td>\n",
       "      <td>Mixed</td>\n",
       "      <td>2.5m</td>\n",
       "    </tr>\n",
       "    <tr>\n",
       "      <th>3</th>\n",
       "      <td>Python for Everybody</td>\n",
       "      <td>University of Michigan</td>\n",
       "      <td>Specialization</td>\n",
       "      <td>5</td>\n",
       "      <td>Beginner</td>\n",
       "      <td>1.5m</td>\n",
       "    </tr>\n",
       "    <tr>\n",
       "      <th>4</th>\n",
       "      <td>Google IT Support</td>\n",
       "      <td>Google</td>\n",
       "      <td>Professional</td>\n",
       "      <td>5</td>\n",
       "      <td>Beginner</td>\n",
       "      <td>350k</td>\n",
       "    </tr>\n",
       "  </tbody>\n",
       "</table>\n",
       "</div>"
      ],
      "text/plain": [
       "                          Title            Organization     Certificate  \\\n",
       "0              IBM Data Science                     IBM   Professional    \n",
       "1  Introduction to Data Science                     IBM  Specialization   \n",
       "2     The Science of Well-Being         Yale University          Course   \n",
       "3          Python for Everybody  University of Michigan  Specialization   \n",
       "4             Google IT Support                  Google   Professional    \n",
       "\n",
       "   Rating Difficulty Enrollment  \n",
       "0       5   Beginner       480k  \n",
       "1       5   Beginner       310k  \n",
       "2       5      Mixed       2.5m  \n",
       "3       5   Beginner       1.5m  \n",
       "4       5   Beginner       350k  "
      ]
     },
     "execution_count": 70,
     "metadata": {},
     "output_type": "execute_result"
    }
   ],
   "source": [
    "coursera.head()"
   ]
  },
  {
   "cell_type": "markdown",
   "id": "requested-objective",
   "metadata": {},
   "source": [
    "### Modification of Enrollment Column\n",
    "\n",
    "I modified this column so numbers appear as comma-separated integers. "
   ]
  },
  {
   "cell_type": "code",
   "execution_count": 71,
   "id": "unlikely-structure",
   "metadata": {},
   "outputs": [],
   "source": [
    "# Extracted the symbol 'k' or 'm' from the text in the Enrollment column. Created a new column called 'Symbol' for it.\n",
    "\n",
    "coursera['Symbol'] = coursera['Enrollment'].str[-1:]"
   ]
  },
  {
   "cell_type": "code",
   "execution_count": 72,
   "id": "reverse-tuner",
   "metadata": {},
   "outputs": [],
   "source": [
    "# Extractd the digits from the Enrollment column and set the digits as float.\n",
    "\n",
    "pd.set_option(\"max_rows\", None)\n",
    "coursera['Enrollment'] = coursera['Enrollment'].str.extract(r'(\\d+[.\\d]*)').astype(float)"
   ]
  },
  {
   "cell_type": "code",
   "execution_count": 73,
   "id": "latter-paradise",
   "metadata": {},
   "outputs": [],
   "source": [
    "# If the 'Symbol' column shows 'k', the number in the Enrollment column is multiplied by 1000.\n",
    "# If it shows 'm', the number is multiplied by 1,000,000.\n",
    "\n",
    "coursera.loc[coursera['Symbol'] == 'k', 'Multiple'] = 1000\n",
    "coursera.loc[coursera['Symbol'] == 'm', 'Multiple'] = 1000000\n",
    "coursera['Multiple'] = coursera['Multiple'].astype(int)"
   ]
  },
  {
   "cell_type": "code",
   "execution_count": 74,
   "id": "arabic-handling",
   "metadata": {},
   "outputs": [],
   "source": [
    "# I created a new column called, 'Enrolled' with the product of the multiplication as explained above.\n",
    "# This column is formated to display numbers with comma separator on each 3 digits from the right.\n",
    "\n",
    "coursera['Enrolled'] = coursera['Enrollment'] * coursera['Multiple']\n",
    "coursera['Enrolled'] = coursera['Enrolled'].astype(float)\n",
    "pd.options.display.float_format = '{:,.0f}'.format"
   ]
  },
  {
   "cell_type": "code",
   "execution_count": 75,
   "id": "lovely-highland",
   "metadata": {
    "scrolled": true
   },
   "outputs": [],
   "source": [
    "# Finally, I deleted the unnecssary columns after the operations above. \n",
    "\n",
    "coursera = coursera.drop(['Symbol', 'Multiple', 'Enrollment'], axis = 1)"
   ]
  },
  {
   "cell_type": "code",
   "execution_count": 76,
   "id": "material-detail",
   "metadata": {},
   "outputs": [
    {
     "data": {
      "text/html": [
       "<div>\n",
       "<style scoped>\n",
       "    .dataframe tbody tr th:only-of-type {\n",
       "        vertical-align: middle;\n",
       "    }\n",
       "\n",
       "    .dataframe tbody tr th {\n",
       "        vertical-align: top;\n",
       "    }\n",
       "\n",
       "    .dataframe thead th {\n",
       "        text-align: right;\n",
       "    }\n",
       "</style>\n",
       "<table border=\"1\" class=\"dataframe\">\n",
       "  <thead>\n",
       "    <tr style=\"text-align: right;\">\n",
       "      <th></th>\n",
       "      <th>Title</th>\n",
       "      <th>Organization</th>\n",
       "      <th>Certificate</th>\n",
       "      <th>Rating</th>\n",
       "      <th>Difficulty</th>\n",
       "      <th>Enrolled</th>\n",
       "    </tr>\n",
       "  </thead>\n",
       "  <tbody>\n",
       "    <tr>\n",
       "      <th>0</th>\n",
       "      <td>IBM Data Science</td>\n",
       "      <td>IBM</td>\n",
       "      <td>Professional</td>\n",
       "      <td>5</td>\n",
       "      <td>Beginner</td>\n",
       "      <td>480,000</td>\n",
       "    </tr>\n",
       "    <tr>\n",
       "      <th>1</th>\n",
       "      <td>Introduction to Data Science</td>\n",
       "      <td>IBM</td>\n",
       "      <td>Specialization</td>\n",
       "      <td>5</td>\n",
       "      <td>Beginner</td>\n",
       "      <td>310,000</td>\n",
       "    </tr>\n",
       "    <tr>\n",
       "      <th>2</th>\n",
       "      <td>The Science of Well-Being</td>\n",
       "      <td>Yale University</td>\n",
       "      <td>Course</td>\n",
       "      <td>5</td>\n",
       "      <td>Mixed</td>\n",
       "      <td>2,500,000</td>\n",
       "    </tr>\n",
       "    <tr>\n",
       "      <th>3</th>\n",
       "      <td>Python for Everybody</td>\n",
       "      <td>University of Michigan</td>\n",
       "      <td>Specialization</td>\n",
       "      <td>5</td>\n",
       "      <td>Beginner</td>\n",
       "      <td>1,500,000</td>\n",
       "    </tr>\n",
       "    <tr>\n",
       "      <th>4</th>\n",
       "      <td>Google IT Support</td>\n",
       "      <td>Google</td>\n",
       "      <td>Professional</td>\n",
       "      <td>5</td>\n",
       "      <td>Beginner</td>\n",
       "      <td>350,000</td>\n",
       "    </tr>\n",
       "    <tr>\n",
       "      <th>5</th>\n",
       "      <td>Deep Learning</td>\n",
       "      <td>deeplearning.ai</td>\n",
       "      <td>Specialization</td>\n",
       "      <td>5</td>\n",
       "      <td>Intermediate</td>\n",
       "      <td>690,000</td>\n",
       "    </tr>\n",
       "    <tr>\n",
       "      <th>6</th>\n",
       "      <td>Machine Learning</td>\n",
       "      <td>Stanford University</td>\n",
       "      <td>Course</td>\n",
       "      <td>5</td>\n",
       "      <td>Mixed</td>\n",
       "      <td>3,200,000</td>\n",
       "    </tr>\n",
       "    <tr>\n",
       "      <th>7</th>\n",
       "      <td>Business Foundations</td>\n",
       "      <td>University of Pennsylvania</td>\n",
       "      <td>Specialization</td>\n",
       "      <td>5</td>\n",
       "      <td>Beginner</td>\n",
       "      <td>510,000</td>\n",
       "    </tr>\n",
       "    <tr>\n",
       "      <th>8</th>\n",
       "      <td>Applied Data Science</td>\n",
       "      <td>IBM</td>\n",
       "      <td>Specialization</td>\n",
       "      <td>5</td>\n",
       "      <td>Beginner</td>\n",
       "      <td>220,000</td>\n",
       "    </tr>\n",
       "    <tr>\n",
       "      <th>9</th>\n",
       "      <td>Cloud Engineering with Google Cloud</td>\n",
       "      <td>Google Cloud</td>\n",
       "      <td>Professional</td>\n",
       "      <td>5</td>\n",
       "      <td>Intermediate</td>\n",
       "      <td>310,000</td>\n",
       "    </tr>\n",
       "  </tbody>\n",
       "</table>\n",
       "</div>"
      ],
      "text/plain": [
       "                                 Title                Organization  \\\n",
       "0                     IBM Data Science                         IBM   \n",
       "1         Introduction to Data Science                         IBM   \n",
       "2            The Science of Well-Being             Yale University   \n",
       "3                 Python for Everybody      University of Michigan   \n",
       "4                    Google IT Support                      Google   \n",
       "5                        Deep Learning             deeplearning.ai   \n",
       "6                     Machine Learning         Stanford University   \n",
       "7                 Business Foundations  University of Pennsylvania   \n",
       "8                 Applied Data Science                         IBM   \n",
       "9  Cloud Engineering with Google Cloud                Google Cloud   \n",
       "\n",
       "      Certificate  Rating    Difficulty  Enrolled  \n",
       "0   Professional        5      Beginner   480,000  \n",
       "1  Specialization       5      Beginner   310,000  \n",
       "2          Course       5         Mixed 2,500,000  \n",
       "3  Specialization       5      Beginner 1,500,000  \n",
       "4   Professional        5      Beginner   350,000  \n",
       "5  Specialization       5  Intermediate   690,000  \n",
       "6          Course       5         Mixed 3,200,000  \n",
       "7  Specialization       5      Beginner   510,000  \n",
       "8  Specialization       5      Beginner   220,000  \n",
       "9   Professional        5  Intermediate   310,000  "
      ]
     },
     "execution_count": 76,
     "metadata": {},
     "output_type": "execute_result"
    }
   ],
   "source": [
    "coursera.head(10)"
   ]
  },
  {
   "cell_type": "markdown",
   "id": "approximate-involvement",
   "metadata": {},
   "source": [
    "## Descriptive Analysis\n",
    "\n",
    "In this section, I provide basic statistical details summarize the data on 2 numerical features of this dataset.\n",
    "\n",
    "1.  **Rating:** The values of the Energy feature range from 0 to 1. Higher value means that the songs is more energetic.\n",
    "2.  **Enrolled:** The values of the Danceability feature range from 0 to 1. Higher value means that it is easier to dance."
   ]
  },
  {
   "cell_type": "code",
   "execution_count": 78,
   "id": "other-mitchell",
   "metadata": {},
   "outputs": [
    {
     "data": {
      "text/html": [
       "<div>\n",
       "<style scoped>\n",
       "    .dataframe tbody tr th:only-of-type {\n",
       "        vertical-align: middle;\n",
       "    }\n",
       "\n",
       "    .dataframe tbody tr th {\n",
       "        vertical-align: top;\n",
       "    }\n",
       "\n",
       "    .dataframe thead th {\n",
       "        text-align: right;\n",
       "    }\n",
       "</style>\n",
       "<table border=\"1\" class=\"dataframe\">\n",
       "  <thead>\n",
       "    <tr style=\"text-align: right;\">\n",
       "      <th></th>\n",
       "      <th>Rating</th>\n",
       "      <th>Enrolled</th>\n",
       "    </tr>\n",
       "  </thead>\n",
       "  <tbody>\n",
       "    <tr>\n",
       "      <th>count</th>\n",
       "      <td>891</td>\n",
       "      <td>891</td>\n",
       "    </tr>\n",
       "    <tr>\n",
       "      <th>mean</th>\n",
       "      <td>5</td>\n",
       "      <td>90,552</td>\n",
       "    </tr>\n",
       "    <tr>\n",
       "      <th>std</th>\n",
       "      <td>0</td>\n",
       "      <td>181,936</td>\n",
       "    </tr>\n",
       "    <tr>\n",
       "      <th>min</th>\n",
       "      <td>3</td>\n",
       "      <td>1,500</td>\n",
       "    </tr>\n",
       "    <tr>\n",
       "      <th>25%</th>\n",
       "      <td>5</td>\n",
       "      <td>17,500</td>\n",
       "    </tr>\n",
       "    <tr>\n",
       "      <th>50%</th>\n",
       "      <td>5</td>\n",
       "      <td>42,000</td>\n",
       "    </tr>\n",
       "    <tr>\n",
       "      <th>75%</th>\n",
       "      <td>5</td>\n",
       "      <td>99,500</td>\n",
       "    </tr>\n",
       "    <tr>\n",
       "      <th>max</th>\n",
       "      <td>5</td>\n",
       "      <td>3,200,000</td>\n",
       "    </tr>\n",
       "  </tbody>\n",
       "</table>\n",
       "</div>"
      ],
      "text/plain": [
       "       Rating  Enrolled\n",
       "count     891       891\n",
       "mean        5    90,552\n",
       "std         0   181,936\n",
       "min         3     1,500\n",
       "25%         5    17,500\n",
       "50%         5    42,000\n",
       "75%         5    99,500\n",
       "max         5 3,200,000"
      ]
     },
     "execution_count": 78,
     "metadata": {},
     "output_type": "execute_result"
    }
   ],
   "source": [
    "coursera.describe()"
   ]
  },
  {
   "cell_type": "markdown",
   "id": "leading-venezuela",
   "metadata": {},
   "source": [
    "## Outliers"
   ]
  },
  {
   "cell_type": "code",
   "execution_count": null,
   "id": "everyday-leather",
   "metadata": {},
   "outputs": [],
   "source": [
    "Ignores FutureWarning message that appears with the code below.\n",
    "\n",
    "warnings.simplefilter(action = \"ignore\", category = FutureWarning) "
   ]
  },
  {
   "cell_type": "markdown",
   "id": "boolean-gothic",
   "metadata": {},
   "source": [
    "Q1 = top_fifty.quantile(0.25)\n",
    "Q3 = top_fifty.quantile(0.75)\n",
    "IQR = Q3 - Q1\n",
    "\n",
    "outliers_df = (top_fifty < (Q1 - 1.5 * IQR)) | (\n",
    "    top_fifty > (Q3 + 1.5 * IQR)\n",
    ")\n",
    "\n",
    "((top_fifty < (Q1 - 1.5 * IQR)) | (top_fifty > (Q3 + 1.5 * IQR))).sum()"
   ]
  },
  {
   "cell_type": "code",
   "execution_count": null,
   "id": "excess-brazil",
   "metadata": {},
   "outputs": [],
   "source": [
    "fig, axes = plt.subplots(3, 3, figsize=(20, 20))\n",
    "\n",
    "sns.boxplot(ax=axes[0, 0], data = top_fifty, x = top_fifty ['acousticness'])\n",
    "sns.boxplot(ax=axes[0, 1], data = top_fifty, x = top_fifty ['danceability'])\n",
    "sns.boxplot(ax=axes[0, 2], data = top_fifty, x = top_fifty ['duration_ms'])\n",
    "sns.boxplot(ax=axes[1, 0], data = top_fifty, x = top_fifty ['instrumentalness'])\n",
    "sns.boxplot(ax=axes[1, 1], data = top_fifty, x = top_fifty ['liveness'])\n",
    "sns.boxplot(ax=axes[1, 2], data = top_fifty, x = top_fifty ['loudness'])\n",
    "sns.boxplot(ax=axes[2, 0], data = top_fifty, x = top_fifty ['speechiness'])\n",
    "\n",
    "fig.delaxes(ax = axes[2,1]) \n",
    "fig.delaxes(ax = axes[2,2]) "
   ]
  },
  {
   "cell_type": "markdown",
   "id": "purple-convention",
   "metadata": {},
   "source": [
    "## Exploratory Data Analysis (EDA)"
   ]
  },
  {
   "cell_type": "markdown",
   "id": "returning-robert",
   "metadata": {},
   "source": [
    "### Organization vs Enrollment"
   ]
  },
  {
   "cell_type": "code",
   "execution_count": 83,
   "id": "received-harvey",
   "metadata": {
    "scrolled": false
   },
   "outputs": [
    {
     "data": {
      "text/html": [
       "<div>\n",
       "<style scoped>\n",
       "    .dataframe tbody tr th:only-of-type {\n",
       "        vertical-align: middle;\n",
       "    }\n",
       "\n",
       "    .dataframe tbody tr th {\n",
       "        vertical-align: top;\n",
       "    }\n",
       "\n",
       "    .dataframe thead th {\n",
       "        text-align: right;\n",
       "    }\n",
       "</style>\n",
       "<table border=\"1\" class=\"dataframe\">\n",
       "  <thead>\n",
       "    <tr style=\"text-align: right;\">\n",
       "      <th></th>\n",
       "      <th>Enrolled</th>\n",
       "    </tr>\n",
       "    <tr>\n",
       "      <th>Organization</th>\n",
       "      <th></th>\n",
       "    </tr>\n",
       "  </thead>\n",
       "  <tbody>\n",
       "    <tr>\n",
       "      <th>University of Michigan</th>\n",
       "      <td>7,437,700</td>\n",
       "    </tr>\n",
       "    <tr>\n",
       "      <th>University of Pennsylvania</th>\n",
       "      <td>5,501,300</td>\n",
       "    </tr>\n",
       "    <tr>\n",
       "      <th>Stanford University</th>\n",
       "      <td>4,854,000</td>\n",
       "    </tr>\n",
       "    <tr>\n",
       "      <th>University of California, Irvine</th>\n",
       "      <td>4,326,000</td>\n",
       "    </tr>\n",
       "    <tr>\n",
       "      <th>Johns Hopkins University</th>\n",
       "      <td>4,298,900</td>\n",
       "    </tr>\n",
       "    <tr>\n",
       "      <th>Duke University</th>\n",
       "      <td>3,967,600</td>\n",
       "    </tr>\n",
       "    <tr>\n",
       "      <th>Yale University</th>\n",
       "      <td>3,952,000</td>\n",
       "    </tr>\n",
       "    <tr>\n",
       "      <th>IBM</th>\n",
       "      <td>2,956,400</td>\n",
       "    </tr>\n",
       "    <tr>\n",
       "      <th>deeplearning.ai</th>\n",
       "      <td>2,863,400</td>\n",
       "    </tr>\n",
       "    <tr>\n",
       "      <th>Google Cloud</th>\n",
       "      <td>2,604,300</td>\n",
       "    </tr>\n",
       "  </tbody>\n",
       "</table>\n",
       "</div>"
      ],
      "text/plain": [
       "                                  Enrolled\n",
       "Organization                              \n",
       "University of Michigan           7,437,700\n",
       "University of Pennsylvania       5,501,300\n",
       "Stanford University              4,854,000\n",
       "University of California, Irvine 4,326,000\n",
       "Johns Hopkins University         4,298,900\n",
       "Duke University                  3,967,600\n",
       "Yale University                  3,952,000\n",
       "IBM                              2,956,400\n",
       "deeplearning.ai                  2,863,400\n",
       "Google Cloud                     2,604,300"
      ]
     },
     "execution_count": 83,
     "metadata": {},
     "output_type": "execute_result"
    }
   ],
   "source": [
    "organization_enrollment = coursera.groupby(\"Organization\")[\"Enrolled\"].sum()\n",
    "organization_enrollment.sort_values(ascending=False, inplace = True)\n",
    "organization_enrollment_df = pd.DataFrame(organization_enrollment)\n",
    "organization_enrollment_df.head(10)"
   ]
  },
  {
   "cell_type": "markdown",
   "id": "lovely-address",
   "metadata": {},
   "source": [
    "### Rating vs Enrollment"
   ]
  },
  {
   "cell_type": "code",
   "execution_count": 84,
   "id": "dominican-davis",
   "metadata": {},
   "outputs": [
    {
     "data": {
      "text/html": [
       "<div>\n",
       "<style scoped>\n",
       "    .dataframe tbody tr th:only-of-type {\n",
       "        vertical-align: middle;\n",
       "    }\n",
       "\n",
       "    .dataframe tbody tr th {\n",
       "        vertical-align: top;\n",
       "    }\n",
       "\n",
       "    .dataframe thead th {\n",
       "        text-align: right;\n",
       "    }\n",
       "</style>\n",
       "<table border=\"1\" class=\"dataframe\">\n",
       "  <thead>\n",
       "    <tr style=\"text-align: right;\">\n",
       "      <th></th>\n",
       "      <th>Enrolled</th>\n",
       "    </tr>\n",
       "    <tr>\n",
       "      <th>Rating</th>\n",
       "      <th></th>\n",
       "    </tr>\n",
       "  </thead>\n",
       "  <tbody>\n",
       "    <tr>\n",
       "      <th>5</th>\n",
       "      <td>3,100</td>\n",
       "    </tr>\n",
       "    <tr>\n",
       "      <th>5</th>\n",
       "      <td>11,639,300</td>\n",
       "    </tr>\n",
       "    <tr>\n",
       "      <th>5</th>\n",
       "      <td>22,335,600</td>\n",
       "    </tr>\n",
       "    <tr>\n",
       "      <th>5</th>\n",
       "      <td>20,574,900</td>\n",
       "    </tr>\n",
       "    <tr>\n",
       "      <th>5</th>\n",
       "      <td>15,783,200</td>\n",
       "    </tr>\n",
       "    <tr>\n",
       "      <th>4</th>\n",
       "      <td>5,962,000</td>\n",
       "    </tr>\n",
       "    <tr>\n",
       "      <th>4</th>\n",
       "      <td>2,782,600</td>\n",
       "    </tr>\n",
       "    <tr>\n",
       "      <th>4</th>\n",
       "      <td>624,000</td>\n",
       "    </tr>\n",
       "    <tr>\n",
       "      <th>4</th>\n",
       "      <td>637,200</td>\n",
       "    </tr>\n",
       "    <tr>\n",
       "      <th>4</th>\n",
       "      <td>34,000</td>\n",
       "    </tr>\n",
       "  </tbody>\n",
       "</table>\n",
       "</div>"
      ],
      "text/plain": [
       "         Enrolled\n",
       "Rating           \n",
       "5           3,100\n",
       "5      11,639,300\n",
       "5      22,335,600\n",
       "5      20,574,900\n",
       "5      15,783,200\n",
       "4       5,962,000\n",
       "4       2,782,600\n",
       "4         624,000\n",
       "4         637,200\n",
       "4          34,000"
      ]
     },
     "execution_count": 84,
     "metadata": {},
     "output_type": "execute_result"
    }
   ],
   "source": [
    "rating_enrollment = coursera.groupby(\"Rating\")[\"Enrolled\"].sum()\n",
    "rating_enrollment.sort_index(ascending=False, inplace = True)\n",
    "rating_enrollment"
   ]
  },
  {
   "cell_type": "markdown",
   "id": "increasing-barcelona",
   "metadata": {},
   "source": [
    "### Organization vs Rating"
   ]
  },
  {
   "cell_type": "code",
   "execution_count": null,
   "id": "polar-china",
   "metadata": {
    "scrolled": true
   },
   "outputs": [],
   "source": [
    "ratings_organization = coursera.groupby(\"Organization\")[\"Rating\"].sum()\n",
    "ratings_organization.sort_values(ascending=False, inplace = True)\n",
    "ratings_organization.head(10)"
   ]
  },
  {
   "cell_type": "markdown",
   "id": "textile-shopper",
   "metadata": {},
   "source": [
    "### Difficulty vs Enrollment"
   ]
  },
  {
   "cell_type": "code",
   "execution_count": null,
   "id": "caroline-ceramic",
   "metadata": {},
   "outputs": [],
   "source": [
    "difficulty_enrollment = coursera.groupby(\"Difficulty\")[\"Enrolled\"].sum()\n",
    "difficulty_enrollment.sort_values(ascending=False, inplace = True)\n",
    "difficulty_enrollment"
   ]
  },
  {
   "cell_type": "markdown",
   "id": "latest-grocery",
   "metadata": {},
   "source": [
    "### Certificate vs Enrollment"
   ]
  },
  {
   "cell_type": "code",
   "execution_count": null,
   "id": "careful-census",
   "metadata": {
    "scrolled": true
   },
   "outputs": [],
   "source": [
    "certificate_enrollment = coursera.groupby(\"Certificate\")[\"Enrolled\"].sum()\n",
    "certificate_enrollment.sort_values(ascending=False, inplace = True)\n",
    "certificate_enrollment"
   ]
  },
  {
   "cell_type": "code",
   "execution_count": null,
   "id": "proper-intranet",
   "metadata": {},
   "outputs": [],
   "source": [
    "size = 25\n",
    "pad = 25\n",
    "\n",
    "params = {'legend.fontsize': 'large',\n",
    "          'figure.figsize': (20,12),\n",
    "          'axes.labelsize': size,\n",
    "          'axes.titlesize': size,\n",
    "          'xtick.labelsize': size*0.75,\n",
    "          'ytick.labelsize': size*0.75,\n",
    "          'axes.titlepad': pad,\n",
    "          'axes.labelpad': pad,\n",
    "          'font.family':'times new roman',\n",
    "         }\n",
    "\n",
    "plt.rcParams.update(params)\n",
    "\n",
    "certificate = coursera['Certificate'].values\n",
    "enrollment = coursera['Enrolled'].values\n",
    "plt.xlabel('Certificate')\n",
    "plt.ylabel('Enrolled')\n",
    "plt.title('Number of Students Enrolled for Each Certificate Type')\n",
    "\n",
    "plt.bar(certificate,enrollment, width = 0.5, color = ('mediumseagreen'))\n",
    "plt.show();"
   ]
  },
  {
   "cell_type": "code",
   "execution_count": null,
   "id": "joint-pasta",
   "metadata": {},
   "outputs": [],
   "source": [
    "plt.bar(pos, popularity, align = 'center')\n",
    "plt.xticks(pos, languages)\n",
    "plt.ylabel('% Popularity')\n",
    "plt.title('Top 5 Languages for Math & Data \\nby % popularity on Stack Overflow', alpha=0.8)\n",
    "\n",
    "plt.show()"
   ]
  },
  {
   "cell_type": "code",
   "execution_count": null,
   "id": "separate-walnut",
   "metadata": {},
   "outputs": [],
   "source": [
    "coursera.head()"
   ]
  }
 ],
 "metadata": {
  "kernelspec": {
   "display_name": "Python 3",
   "language": "python",
   "name": "python3"
  },
  "language_info": {
   "codemirror_mode": {
    "name": "ipython",
    "version": 3
   },
   "file_extension": ".py",
   "mimetype": "text/x-python",
   "name": "python",
   "nbconvert_exporter": "python",
   "pygments_lexer": "ipython3",
   "version": "3.9.6"
  },
  "toc": {
   "base_numbering": 1,
   "nav_menu": {},
   "number_sections": true,
   "sideBar": true,
   "skip_h1_title": false,
   "title_cell": "Table of Contents",
   "title_sidebar": "Contents",
   "toc_cell": false,
   "toc_position": {},
   "toc_section_display": true,
   "toc_window_display": false
  }
 },
 "nbformat": 4,
 "nbformat_minor": 5
}
