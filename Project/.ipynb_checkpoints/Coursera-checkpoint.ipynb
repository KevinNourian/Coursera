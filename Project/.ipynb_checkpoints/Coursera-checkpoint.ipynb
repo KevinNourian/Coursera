{
 "cells": [
  {
   "cell_type": "markdown",
   "id": "answering-lawrence",
   "metadata": {},
   "source": [
    "# Coursera"
   ]
  },
  {
   "cell_type": "markdown",
   "id": "charming-triangle",
   "metadata": {},
   "source": [
    "##  Introduction\n",
    "Tilto, Inc. is a Lithuanian company, registered in the United States. Tilto is planning to become a company like Coursera which partners with more than 200 leading universities and companies to bring flexible, affordable, job-relevant online learning to individuals and organizations worldwide. Tilto means bridge in Lithuanian and the company plans to become a bridge between citizens of the world and their potential. \n",
    "\n",
    "Coursera was founded by Daphne Koller and Andrew Ng in 2012 with a vision of providing life-transforming learning experiences to learners around the world. Today, Coursera is a global online learning platform that offers anyone, anywhere, access to online courses and degrees from leading universities and companies. \n",
    "\n",
    "Coursera offers a range of learning opportunities from hands-on projects and courses to job-ready certificates and degree programs. 82 million learners, 100+ Fortune 500 companies, and more than 6,000 campuses, businesses, and governments come to Coursera to access world-class learning—anytime, anywhere.\n",
    " \n",
    "Coursera received B Corp certification in February 2021, which means that they have a legal duty not only to their shareholders, but to also make a positive impact on society and continue to reduce barriers to world-class education for all. Titlo has a similiar vision to become an international company that impacts the world by making its citizens realized their innate potentials. \n",
    "\n",
    "For this analysis, I will work with a dataset provided by Coursea and obtained from Kaggle. "
   ]
  },
  {
   "cell_type": "markdown",
   "id": "veterinary-australian",
   "metadata": {},
   "source": [
    "## Goals\n",
    "\n",
    "The goal of this project is to analyze Coursera's current offering and advise the leadership of Tilto, Inc on how to move forward with their vision. This analysis will answer the following questions:\n",
    "\n",
    "**Organizations**\n",
    "1. Which learning organizations have been most successful with learners?\n",
    "\n",
    "**Enrollment**\n",
    "1. How many students can Tilto Inc project to attract?\n",
    "\n",
    "**Certificates**\n",
    "1. How does offereing certificates affect learner satisfaction?\n",
    "2. Which type of certificate is more beneficial?\n",
    "3. Which type of certificate attracts more learners?\n",
    "\n",
    "**Ratings**\n",
    "1. Which are the highest rated courses by learners?\n",
    "2. What factors affect a learner to give a higher rating to a course?\n",
    "\n",
    "**Difficulty**\n",
    "1. Which level of courses are more popular among learners?\n",
    "2. How does difficulty level and offering certificates interrelate?\n",
    "\n",
    "**Imrpovements**\n",
    "1. How can Tilto Inc become a better organization than Coursera?"
   ]
  },
  {
   "cell_type": "markdown",
   "id": "detailed-interstate",
   "metadata": {},
   "source": [
    "## Importing Libraries and Loading Data"
   ]
  },
  {
   "cell_type": "markdown",
   "id": "growing-organizer",
   "metadata": {},
   "source": [
    "### Importing Libraries"
   ]
  },
  {
   "cell_type": "code",
   "execution_count": null,
   "id": "sunset-halloween",
   "metadata": {},
   "outputs": [],
   "source": [
    "%matplotlib inline\n",
    "\n",
    "import pandas as pd\n",
    "import numpy as np\n",
    "import seaborn as sns\n",
    "import matplotlib.pyplot as plt\n",
    "import warnings # Supresses FutureWarning that are unnecessary."
   ]
  },
  {
   "cell_type": "markdown",
   "id": "fatty-berlin",
   "metadata": {},
   "source": [
    "### Loading Data in Pandas\n",
    "\n",
    "The data is a csv file that I have dowloaded from Kaggle. In this section, I create a pandas dataframe object so I can work with the data."
   ]
  },
  {
   "cell_type": "code",
   "execution_count": null,
   "id": "detected-computer",
   "metadata": {},
   "outputs": [],
   "source": [
    "coursera = pd.read_csv('C:\\py\\Projects\\TuringCollege\\Coursera\\DataSet\\coursera.csv', index_col = 0)"
   ]
  },
  {
   "cell_type": "markdown",
   "id": "confused-smoke",
   "metadata": {},
   "source": [
    "## Basic Information\n",
    "\n",
    "In this section, I will display the following information about this dataset:\n",
    "\n",
    "1. Number of rows and columns\n",
    "2. Total number of data enteries\n",
    "3. The first 5 rows\n",
    "4. The data types in this dataset"
   ]
  },
  {
   "cell_type": "markdown",
   "id": "demanding-sacramento",
   "metadata": {},
   "source": [
    "### Number of Rows and Columns \n",
    "\n",
    "This dataset is made of 50 rows and 16 columns."
   ]
  },
  {
   "cell_type": "code",
   "execution_count": null,
   "id": "tired-contribution",
   "metadata": {},
   "outputs": [],
   "source": [
    "coursera.shape"
   ]
  },
  {
   "cell_type": "markdown",
   "id": "arctic-knowing",
   "metadata": {},
   "source": [
    "### Total Number of Entries \n",
    "\n",
    "This dataset is made of 50 rows and 16 columns."
   ]
  },
  {
   "cell_type": "code",
   "execution_count": null,
   "id": "upset-twins",
   "metadata": {},
   "outputs": [],
   "source": [
    "coursera.size"
   ]
  },
  {
   "cell_type": "markdown",
   "id": "editorial-closure",
   "metadata": {},
   "source": [
    "### The First Five Rows"
   ]
  },
  {
   "cell_type": "code",
   "execution_count": null,
   "id": "grave-procedure",
   "metadata": {},
   "outputs": [],
   "source": [
    "pd.set_option(\"display.max.columns\", None) \n",
    "coursera.sort_index(inplace=True)\n",
    "coursera.head()"
   ]
  },
  {
   "cell_type": "markdown",
   "id": "upper-component",
   "metadata": {},
   "source": [
    "### Data Types"
   ]
  },
  {
   "cell_type": "code",
   "execution_count": null,
   "id": "fifteen-comparison",
   "metadata": {},
   "outputs": [],
   "source": [
    "coursera.dtypes()"
   ]
  },
  {
   "cell_type": "markdown",
   "id": "commercial-frequency",
   "metadata": {},
   "source": [
    "## Data Cleaning"
   ]
  },
  {
   "cell_type": "markdown",
   "id": "sunrise-dover",
   "metadata": {},
   "source": [
    "### NaN or Null Values"
   ]
  },
  {
   "cell_type": "code",
   "execution_count": null,
   "id": "limited-hormone",
   "metadata": {},
   "outputs": [],
   "source": [
    "coursera.isnull().sum()"
   ]
  },
  {
   "cell_type": "markdown",
   "id": "relevant-excuse",
   "metadata": {},
   "source": [
    "### Duplicate Values"
   ]
  },
  {
   "cell_type": "code",
   "execution_count": null,
   "id": "industrial-failure",
   "metadata": {},
   "outputs": [],
   "source": [
    "coursera[coursera.duplicated(keep = False)].sum()"
   ]
  },
  {
   "cell_type": "markdown",
   "id": "intimate-penalty",
   "metadata": {},
   "source": [
    "### Alignment"
   ]
  },
  {
   "cell_type": "markdown",
   "id": "mental-sending",
   "metadata": {},
   "source": [
    "### Modification of Column Names"
   ]
  },
  {
   "cell_type": "code",
   "execution_count": null,
   "id": "behavioral-taiwan",
   "metadata": {},
   "outputs": [],
   "source": [
    "coursera.rename(columns = {'course_title':'Title', \n",
    "                           'course_organization':'Organization', \n",
    "                           'course_Certificate_type':'Certificate',\n",
    "                           'course_rating':'Rating',\n",
    "                          'course_difficulty':'Difficulty',\n",
    "                          'course_students_enrolled':'Enrollment'}, inplace = True)"
   ]
  },
  {
   "cell_type": "code",
   "execution_count": null,
   "id": "sufficient-radar",
   "metadata": {
    "scrolled": true
   },
   "outputs": [],
   "source": [
    "coursera.head()"
   ]
  },
  {
   "cell_type": "markdown",
   "id": "reserved-sheet",
   "metadata": {},
   "source": [
    "### Modification of Certificate Column"
   ]
  },
  {
   "cell_type": "code",
   "execution_count": null,
   "id": "optional-allowance",
   "metadata": {
    "scrolled": false
   },
   "outputs": [],
   "source": [
    "coursera['Certificate'] = coursera['Certificate'].str.title()\n",
    "coursera['Certificate'] = coursera['Certificate'].str.replace(r'Certificate', '')\n",
    "coursera.head(10)"
   ]
  },
  {
   "cell_type": "markdown",
   "id": "requested-objective",
   "metadata": {},
   "source": [
    "### Modification of Enrollment Column"
   ]
  },
  {
   "cell_type": "code",
   "execution_count": null,
   "id": "unlikely-structure",
   "metadata": {},
   "outputs": [],
   "source": [
    "coursera['Symbol'] = coursera['Enrollment'].str[-1:]"
   ]
  },
  {
   "cell_type": "code",
   "execution_count": null,
   "id": "reverse-tuner",
   "metadata": {},
   "outputs": [],
   "source": [
    "pd.set_option(\"max_rows\", None)\n",
    "coursera['Enrollment'] = coursera['Enrollment'].str.extract(r'(\\d+[.\\d]*)').astype(float)"
   ]
  },
  {
   "cell_type": "code",
   "execution_count": null,
   "id": "latter-paradise",
   "metadata": {},
   "outputs": [],
   "source": [
    "coursera.loc[coursera['Symbol'] == 'k', 'Multiple'] = 1000\n",
    "coursera.loc[coursera['Symbol'] == 'm', 'Multiple'] = 1000000\n",
    "coursera['Multiple'] = coursera['Multiple'].astype(int)"
   ]
  },
  {
   "cell_type": "code",
   "execution_count": null,
   "id": "arabic-handling",
   "metadata": {},
   "outputs": [],
   "source": [
    "coursera['Enrolled'] = coursera['Enrollment'] * coursera['Multiple']\n",
    "coursera['Enrolled'] = coursera['Enrolled'].astype(float)\n",
    "pd.options.display.float_format = '{:,.0f}'.format"
   ]
  },
  {
   "cell_type": "code",
   "execution_count": null,
   "id": "lovely-highland",
   "metadata": {
    "scrolled": true
   },
   "outputs": [],
   "source": [
    "coursera = coursera.drop(['Symbol', 'Multiple', 'Enrollment'], axis = 1)\n",
    "coursera.head(10)"
   ]
  },
  {
   "cell_type": "markdown",
   "id": "approximate-involvement",
   "metadata": {},
   "source": [
    "## Descriptive Analysis"
   ]
  },
  {
   "cell_type": "code",
   "execution_count": null,
   "id": "other-mitchell",
   "metadata": {},
   "outputs": [],
   "source": [
    "coursera.describe()"
   ]
  },
  {
   "cell_type": "markdown",
   "id": "leading-venezuela",
   "metadata": {},
   "source": [
    "## Outliers"
   ]
  },
  {
   "cell_type": "code",
   "execution_count": null,
   "id": "everyday-leather",
   "metadata": {},
   "outputs": [],
   "source": [
    "Ignores FutureWarning message that appears with the code below.\n",
    "\n",
    "warnings.simplefilter(action = \"ignore\", category = FutureWarning) "
   ]
  },
  {
   "cell_type": "markdown",
   "id": "boolean-gothic",
   "metadata": {},
   "source": [
    "Q1 = top_fifty.quantile(0.25)\n",
    "Q3 = top_fifty.quantile(0.75)\n",
    "IQR = Q3 - Q1\n",
    "\n",
    "outliers_df = (top_fifty < (Q1 - 1.5 * IQR)) | (\n",
    "    top_fifty > (Q3 + 1.5 * IQR)\n",
    ")\n",
    "\n",
    "((top_fifty < (Q1 - 1.5 * IQR)) | (top_fifty > (Q3 + 1.5 * IQR))).sum()"
   ]
  },
  {
   "cell_type": "code",
   "execution_count": null,
   "id": "excess-brazil",
   "metadata": {},
   "outputs": [],
   "source": [
    "fig, axes = plt.subplots(3, 3, figsize=(20, 20))\n",
    "\n",
    "sns.boxplot(ax=axes[0, 0], data = top_fifty, x = top_fifty ['acousticness'])\n",
    "sns.boxplot(ax=axes[0, 1], data = top_fifty, x = top_fifty ['danceability'])\n",
    "sns.boxplot(ax=axes[0, 2], data = top_fifty, x = top_fifty ['duration_ms'])\n",
    "sns.boxplot(ax=axes[1, 0], data = top_fifty, x = top_fifty ['instrumentalness'])\n",
    "sns.boxplot(ax=axes[1, 1], data = top_fifty, x = top_fifty ['liveness'])\n",
    "sns.boxplot(ax=axes[1, 2], data = top_fifty, x = top_fifty ['loudness'])\n",
    "sns.boxplot(ax=axes[2, 0], data = top_fifty, x = top_fifty ['speechiness'])\n",
    "\n",
    "fig.delaxes(ax = axes[2,1]) \n",
    "fig.delaxes(ax = axes[2,2]) "
   ]
  },
  {
   "cell_type": "markdown",
   "id": "purple-convention",
   "metadata": {},
   "source": [
    "## Exploratory Data Analysis (EDA)"
   ]
  },
  {
   "cell_type": "markdown",
   "id": "covered-indonesian",
   "metadata": {},
   "source": [
    "### Sort by Enrolled"
   ]
  },
  {
   "cell_type": "code",
   "execution_count": null,
   "id": "twenty-discovery",
   "metadata": {
    "scrolled": true
   },
   "outputs": [],
   "source": [
    "sorted_enrollment = coursera.sort_values(\"Enrolled\", axis = 0, ascending = False, inplace = False, na_position ='last')\n",
    "sorted_enrollment.head(10)"
   ]
  },
  {
   "cell_type": "markdown",
   "id": "adjacent-rings",
   "metadata": {},
   "source": [
    "### Sort by Rating"
   ]
  },
  {
   "cell_type": "code",
   "execution_count": null,
   "id": "preliminary-brighton",
   "metadata": {
    "scrolled": true
   },
   "outputs": [],
   "source": [
    "sorted_rating = coursera.sort_values(\"Rating\", axis = 0, ascending = False, inplace = False, na_position ='last')\n",
    "sorted_rating.head(10)"
   ]
  },
  {
   "cell_type": "markdown",
   "id": "returning-robert",
   "metadata": {},
   "source": [
    "### Organization vs Enrollment"
   ]
  },
  {
   "cell_type": "code",
   "execution_count": null,
   "id": "received-harvey",
   "metadata": {
    "scrolled": false
   },
   "outputs": [],
   "source": [
    "organization_enrollment = coursera.groupby(\"Organization\")[\"Enrolled\"].sum()\n",
    "organization_enrollment.sort_values(ascending=False, inplace = True)\n",
    "organization_enrollment.head(10)"
   ]
  },
  {
   "cell_type": "code",
   "execution_count": null,
   "id": "dynamic-bible",
   "metadata": {},
   "outputs": [],
   "source": [
    "organization_enrollment_df = pd.DataFrame(organization_enrollment)\n",
    "organization_enrollment_df.head(10)"
   ]
  },
  {
   "cell_type": "markdown",
   "id": "lovely-address",
   "metadata": {},
   "source": [
    "### Rating vs Enrollment"
   ]
  },
  {
   "cell_type": "code",
   "execution_count": null,
   "id": "dominican-davis",
   "metadata": {},
   "outputs": [],
   "source": [
    "rating_enrollment = coursera.groupby(\"Rating\")[\"Enrolled\"].sum()\n",
    "rating_enrollment.sort_index(ascending=False, inplace = True)\n",
    "rating_enrollment"
   ]
  },
  {
   "cell_type": "markdown",
   "id": "increasing-barcelona",
   "metadata": {},
   "source": [
    "### Organization vs Rating"
   ]
  },
  {
   "cell_type": "code",
   "execution_count": null,
   "id": "polar-china",
   "metadata": {
    "scrolled": true
   },
   "outputs": [],
   "source": [
    "ratings_organization = coursera.groupby(\"Organization\")[\"Rating\"].sum()\n",
    "ratings_organization.sort_values(ascending=False, inplace = True)\n",
    "ratings_organization.head(10)"
   ]
  },
  {
   "cell_type": "markdown",
   "id": "textile-shopper",
   "metadata": {},
   "source": [
    "### Difficulty vs Enrollment"
   ]
  },
  {
   "cell_type": "code",
   "execution_count": null,
   "id": "caroline-ceramic",
   "metadata": {},
   "outputs": [],
   "source": [
    "difficulty_enrollment = coursera.groupby(\"Difficulty\")[\"Enrolled\"].sum()\n",
    "difficulty_enrollment.sort_values(ascending=False, inplace = True)\n",
    "difficulty_enrollment"
   ]
  },
  {
   "cell_type": "markdown",
   "id": "latest-grocery",
   "metadata": {},
   "source": [
    "### Certificate vs Enrollment"
   ]
  },
  {
   "cell_type": "code",
   "execution_count": null,
   "id": "careful-census",
   "metadata": {
    "scrolled": true
   },
   "outputs": [],
   "source": [
    "certificate_enrollment = coursera.groupby(\"Certificate\")[\"Enrolled\"].sum()\n",
    "certificate_enrollment.sort_values(ascending=False, inplace = True)\n",
    "certificate_enrollment"
   ]
  },
  {
   "cell_type": "code",
   "execution_count": null,
   "id": "proper-intranet",
   "metadata": {},
   "outputs": [],
   "source": [
    "size = 25\n",
    "pad = 25\n",
    "\n",
    "params = {'legend.fontsize': 'large',\n",
    "          'figure.figsize': (20,12),\n",
    "          'axes.labelsize': size,\n",
    "          'axes.titlesize': size,\n",
    "          'xtick.labelsize': size*0.75,\n",
    "          'ytick.labelsize': size*0.75,\n",
    "          'axes.titlepad': pad,\n",
    "          'axes.labelpad': pad,\n",
    "          'font.family':'times new roman',\n",
    "         }\n",
    "\n",
    "plt.rcParams.update(params)\n",
    "\n",
    "certificate = coursera['Certificate'].values\n",
    "enrollment = coursera['Enrolled'].values\n",
    "plt.xlabel('Certificate')\n",
    "plt.ylabel('Enrolled')\n",
    "plt.title('Number of Students Enrolled for Each Certificate Type')\n",
    "\n",
    "plt.bar(certificate,enrollment, width = 0.5, color = ('mediumseagreen'))\n",
    "plt.show();"
   ]
  },
  {
   "cell_type": "code",
   "execution_count": null,
   "id": "joint-pasta",
   "metadata": {},
   "outputs": [],
   "source": [
    "plt.bar(pos, popularity, align = 'center')\n",
    "plt.xticks(pos, languages)\n",
    "plt.ylabel('% Popularity')\n",
    "plt.title('Top 5 Languages for Math & Data \\nby % popularity on Stack Overflow', alpha=0.8)\n",
    "\n",
    "plt.show()"
   ]
  },
  {
   "cell_type": "code",
   "execution_count": null,
   "id": "separate-walnut",
   "metadata": {},
   "outputs": [],
   "source": [
    "coursera.head()"
   ]
  }
 ],
 "metadata": {
  "kernelspec": {
   "display_name": "Python 3",
   "language": "python",
   "name": "python3"
  },
  "language_info": {
   "codemirror_mode": {
    "name": "ipython",
    "version": 3
   },
   "file_extension": ".py",
   "mimetype": "text/x-python",
   "name": "python",
   "nbconvert_exporter": "python",
   "pygments_lexer": "ipython3",
   "version": "3.9.6"
  },
  "toc": {
   "base_numbering": 1,
   "nav_menu": {},
   "number_sections": true,
   "sideBar": true,
   "skip_h1_title": false,
   "title_cell": "Table of Contents",
   "title_sidebar": "Contents",
   "toc_cell": false,
   "toc_position": {},
   "toc_section_display": true,
   "toc_window_display": false
  }
 },
 "nbformat": 4,
 "nbformat_minor": 5
}
