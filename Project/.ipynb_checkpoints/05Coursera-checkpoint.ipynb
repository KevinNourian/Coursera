{
 "cells": [
  {
   "cell_type": "markdown",
   "id": "answering-lawrence",
   "metadata": {},
   "source": [
    "# Coursera Dataset Analysis for Tilto, Inc."
   ]
  },
  {
   "cell_type": "markdown",
   "id": "charming-triangle",
   "metadata": {},
   "source": [
    "#  Introduction\n",
    "Tilto, Inc. is a Lithuanian education and technology company, registered in the United States. Tilto is planning to create a company with Coursera as a model. Coursera was founded by Daphne Koller and Andrew Ng in 2012 with a vision of providing life-transforming learning experiences to learners around the world. Today, Coursera is a global online learning platform that offers anyone, anywhere, access to online courses and degrees from leading universities and companies. \n",
    "\n",
    "In Lithuanian, Tilto means bridge. The company plans to create a bridge between citizens of the world and their human potentials. Tilto plans to become an international company that impacts the world by making its citizens realize their innate potentials. Tilto's leaderhip wishes to understand what makes Coursera successful. They also want to know what can be done better, so Tilto can become an even stronger organization than Coursera. For this analysis, I will work with a dataset provided by Coursea and obtained from Kaggle to help Tilto, Inc. achieve its vision."
   ]
  },
  {
   "cell_type": "markdown",
   "id": "veterinary-australian",
   "metadata": {},
   "source": [
    "# Goals\n",
    "\n",
    "The goal of this project is to analyze Coursera's content offering and advise Tilto's leadership on how to move forward with their vision. This analysis will answer the following questions:\n",
    "\n",
    "**Total Enrollment**\n",
    "1. How many students have enrolled at Coursera?\n",
    "\n",
    "**Organizations**\n",
    "1. Which ten organizations offer educational content with the highest enrollment at Coursera?\n",
    "2. Which ten organizations offer the most highest number of courses?\n",
    "\n",
    "**Courses**\n",
    "1. How many courses are taught at Coursera?\n",
    "2. What are the top ten course titles at Coursera?\n",
    "\n",
    "**Difficulty Levels**\n",
    "1. What are the difficulty levels of courses at Coursea?\n",
    "2. What is the enrollment numbers in courses at each difficulty level?\n",
    "\n",
    "**Certificates**\n",
    "1. What types of certificates can students earn at Coursera?\n",
    "2. What is the total number of each type of certificate offered?\n",
    "\n",
    "**Ratings**\n",
    "1. What are the top ten highest rated courses at Coursera?\n",
    "2. What are the bottom ten lowest rated courses?\n",
    "3. What are the top ten highest rated educational organizations? \n",
    "4. What are the bottom ten lowest rated organizations?\n",
    "\n",
    "**Correlations**\n",
    "1. What is the corrleations between difficulty level of a course and enrollment? \n",
    "2. What is the corrleations between difficulty level and rating?\n",
    "3. What is the correlation between certificate type and enrollement? \n",
    "4. What is the correlation between certificate type and rating?\n",
    "\n",
    "**Imrpovements**\n",
    "1. What can Tilto, Inc. learn from Coursera? \n",
    "2. How can Tilto become a better organization than Coursera?"
   ]
  },
  {
   "cell_type": "markdown",
   "id": "detailed-interstate",
   "metadata": {},
   "source": [
    "# Importing Libraries and Loading Data"
   ]
  },
  {
   "cell_type": "markdown",
   "id": "growing-organizer",
   "metadata": {},
   "source": [
    "## Importing Libraries"
   ]
  },
  {
   "cell_type": "code",
   "execution_count": 97,
   "id": "sunset-halloween",
   "metadata": {},
   "outputs": [],
   "source": [
    "%matplotlib inline\n",
    "\n",
    "import pandas as pd\n",
    "import numpy as np\n",
    "import seaborn as sns\n",
    "import matplotlib.pyplot as plt\n",
    "import warnings # Supresses FutureWarning that are unnecessary."
   ]
  },
  {
   "cell_type": "markdown",
   "id": "fatty-berlin",
   "metadata": {},
   "source": [
    "## Loading Data in Pandas\n",
    "\n",
    "The data is a csv file that I have dowloaded from Kaggle. In this section, I create a pandas dataframe object so I can work with the data."
   ]
  },
  {
   "cell_type": "code",
   "execution_count": 98,
   "id": "detected-computer",
   "metadata": {},
   "outputs": [],
   "source": [
    "coursera = pd.read_csv('C:\\py\\Projects\\TuringCollege\\Coursera\\DataSet\\coursera.csv', index_col = 0, skipinitialspace = True)"
   ]
  },
  {
   "cell_type": "markdown",
   "id": "confused-smoke",
   "metadata": {},
   "source": [
    "# Basic Information\n",
    "\n",
    "In this section, I will display the following information about this dataset:\n",
    "\n",
    "1. Number of rows and columns\n",
    "2. Total number of data enteries\n",
    "3. The first 5 rows\n",
    "4. The data types in this dataset"
   ]
  },
  {
   "cell_type": "markdown",
   "id": "demanding-sacramento",
   "metadata": {},
   "source": [
    "## Number of Rows and Columns \n",
    "\n",
    "This dataset is made of 891 rows and 6 columns."
   ]
  },
  {
   "cell_type": "code",
   "execution_count": 99,
   "id": "tired-contribution",
   "metadata": {},
   "outputs": [
    {
     "data": {
      "text/plain": [
       "(891, 6)"
      ]
     },
     "execution_count": 99,
     "metadata": {},
     "output_type": "execute_result"
    }
   ],
   "source": [
    "coursera.shape"
   ]
  },
  {
   "cell_type": "markdown",
   "id": "arctic-knowing",
   "metadata": {},
   "source": [
    "## Number of Entries\n",
    "\n",
    "This dataset is made of 5346 data enteries."
   ]
  },
  {
   "cell_type": "code",
   "execution_count": 100,
   "id": "upset-twins",
   "metadata": {},
   "outputs": [
    {
     "data": {
      "text/plain": [
       "5346"
      ]
     },
     "execution_count": 100,
     "metadata": {},
     "output_type": "execute_result"
    }
   ],
   "source": [
    "coursera.size"
   ]
  },
  {
   "cell_type": "markdown",
   "id": "editorial-closure",
   "metadata": {},
   "source": [
    "## The First Ten Rows"
   ]
  },
  {
   "cell_type": "code",
   "execution_count": 101,
   "id": "grave-procedure",
   "metadata": {
    "scrolled": true
   },
   "outputs": [
    {
     "data": {
      "text/html": [
       "<div>\n",
       "<style scoped>\n",
       "    .dataframe tbody tr th:only-of-type {\n",
       "        vertical-align: middle;\n",
       "    }\n",
       "\n",
       "    .dataframe tbody tr th {\n",
       "        vertical-align: top;\n",
       "    }\n",
       "\n",
       "    .dataframe thead th {\n",
       "        text-align: right;\n",
       "    }\n",
       "</style>\n",
       "<table border=\"1\" class=\"dataframe\">\n",
       "  <thead>\n",
       "    <tr style=\"text-align: right;\">\n",
       "      <th></th>\n",
       "      <th>course_title</th>\n",
       "      <th>course_organization</th>\n",
       "      <th>course_Certificate_type</th>\n",
       "      <th>course_rating</th>\n",
       "      <th>course_difficulty</th>\n",
       "      <th>course_students_enrolled</th>\n",
       "    </tr>\n",
       "  </thead>\n",
       "  <tbody>\n",
       "    <tr>\n",
       "      <th>0</th>\n",
       "      <td>IBM Data Science</td>\n",
       "      <td>IBM</td>\n",
       "      <td>PROFESSIONAL CERTIFICATE</td>\n",
       "      <td>4.6</td>\n",
       "      <td>Beginner</td>\n",
       "      <td>480k</td>\n",
       "    </tr>\n",
       "    <tr>\n",
       "      <th>1</th>\n",
       "      <td>Introduction to Data Science</td>\n",
       "      <td>IBM</td>\n",
       "      <td>SPECIALIZATION</td>\n",
       "      <td>4.6</td>\n",
       "      <td>Beginner</td>\n",
       "      <td>310k</td>\n",
       "    </tr>\n",
       "    <tr>\n",
       "      <th>2</th>\n",
       "      <td>The Science of Well-Being</td>\n",
       "      <td>Yale University</td>\n",
       "      <td>COURSE</td>\n",
       "      <td>4.9</td>\n",
       "      <td>Mixed</td>\n",
       "      <td>2.5m</td>\n",
       "    </tr>\n",
       "    <tr>\n",
       "      <th>3</th>\n",
       "      <td>Python for Everybody</td>\n",
       "      <td>University of Michigan</td>\n",
       "      <td>SPECIALIZATION</td>\n",
       "      <td>4.8</td>\n",
       "      <td>Beginner</td>\n",
       "      <td>1.5m</td>\n",
       "    </tr>\n",
       "    <tr>\n",
       "      <th>4</th>\n",
       "      <td>Google IT Support</td>\n",
       "      <td>Google</td>\n",
       "      <td>PROFESSIONAL CERTIFICATE</td>\n",
       "      <td>4.8</td>\n",
       "      <td>Beginner</td>\n",
       "      <td>350k</td>\n",
       "    </tr>\n",
       "    <tr>\n",
       "      <th>5</th>\n",
       "      <td>Deep Learning</td>\n",
       "      <td>deeplearning.ai</td>\n",
       "      <td>SPECIALIZATION</td>\n",
       "      <td>4.8</td>\n",
       "      <td>Intermediate</td>\n",
       "      <td>690k</td>\n",
       "    </tr>\n",
       "    <tr>\n",
       "      <th>6</th>\n",
       "      <td>Machine Learning</td>\n",
       "      <td>Stanford University</td>\n",
       "      <td>COURSE</td>\n",
       "      <td>4.9</td>\n",
       "      <td>Mixed</td>\n",
       "      <td>3.2m</td>\n",
       "    </tr>\n",
       "    <tr>\n",
       "      <th>7</th>\n",
       "      <td>Business Foundations</td>\n",
       "      <td>University of Pennsylvania</td>\n",
       "      <td>SPECIALIZATION</td>\n",
       "      <td>4.7</td>\n",
       "      <td>Beginner</td>\n",
       "      <td>510k</td>\n",
       "    </tr>\n",
       "    <tr>\n",
       "      <th>8</th>\n",
       "      <td>Applied Data Science</td>\n",
       "      <td>IBM</td>\n",
       "      <td>SPECIALIZATION</td>\n",
       "      <td>4.6</td>\n",
       "      <td>Beginner</td>\n",
       "      <td>220k</td>\n",
       "    </tr>\n",
       "    <tr>\n",
       "      <th>9</th>\n",
       "      <td>Cloud Engineering with Google Cloud</td>\n",
       "      <td>Google Cloud</td>\n",
       "      <td>PROFESSIONAL CERTIFICATE</td>\n",
       "      <td>4.7</td>\n",
       "      <td>Intermediate</td>\n",
       "      <td>310k</td>\n",
       "    </tr>\n",
       "  </tbody>\n",
       "</table>\n",
       "</div>"
      ],
      "text/plain": [
       "                          course_title         course_organization  \\\n",
       "0                     IBM Data Science                         IBM   \n",
       "1         Introduction to Data Science                         IBM   \n",
       "2            The Science of Well-Being             Yale University   \n",
       "3                 Python for Everybody      University of Michigan   \n",
       "4                    Google IT Support                      Google   \n",
       "5                        Deep Learning             deeplearning.ai   \n",
       "6                     Machine Learning         Stanford University   \n",
       "7                 Business Foundations  University of Pennsylvania   \n",
       "8                 Applied Data Science                         IBM   \n",
       "9  Cloud Engineering with Google Cloud                Google Cloud   \n",
       "\n",
       "    course_Certificate_type  course_rating course_difficulty  \\\n",
       "0  PROFESSIONAL CERTIFICATE            4.6          Beginner   \n",
       "1            SPECIALIZATION            4.6          Beginner   \n",
       "2                    COURSE            4.9             Mixed   \n",
       "3            SPECIALIZATION            4.8          Beginner   \n",
       "4  PROFESSIONAL CERTIFICATE            4.8          Beginner   \n",
       "5            SPECIALIZATION            4.8      Intermediate   \n",
       "6                    COURSE            4.9             Mixed   \n",
       "7            SPECIALIZATION            4.7          Beginner   \n",
       "8            SPECIALIZATION            4.6          Beginner   \n",
       "9  PROFESSIONAL CERTIFICATE            4.7      Intermediate   \n",
       "\n",
       "  course_students_enrolled  \n",
       "0                     480k  \n",
       "1                     310k  \n",
       "2                     2.5m  \n",
       "3                     1.5m  \n",
       "4                     350k  \n",
       "5                     690k  \n",
       "6                     3.2m  \n",
       "7                     510k  \n",
       "8                     220k  \n",
       "9                     310k  "
      ]
     },
     "execution_count": 101,
     "metadata": {},
     "output_type": "execute_result"
    }
   ],
   "source": [
    "pd.set_option(\"display.max.columns\", None) \n",
    "coursera.sort_index(inplace=True)\n",
    "coursera.head(10)"
   ]
  },
  {
   "cell_type": "markdown",
   "id": "upper-component",
   "metadata": {},
   "source": [
    "## Data Types\n",
    "\n",
    "All data types of this dataset are string except course_rating, which is a float."
   ]
  },
  {
   "cell_type": "code",
   "execution_count": 102,
   "id": "fifteen-comparison",
   "metadata": {},
   "outputs": [
    {
     "data": {
      "text/plain": [
       "course_title                 object\n",
       "course_organization          object\n",
       "course_Certificate_type      object\n",
       "course_rating               float64\n",
       "course_difficulty            object\n",
       "course_students_enrolled     object\n",
       "dtype: object"
      ]
     },
     "execution_count": 102,
     "metadata": {},
     "output_type": "execute_result"
    }
   ],
   "source": [
    "coursera.dtypes"
   ]
  },
  {
   "cell_type": "markdown",
   "id": "commercial-frequency",
   "metadata": {},
   "source": [
    "# Data Cleaning"
   ]
  },
  {
   "cell_type": "markdown",
   "id": "sunrise-dover",
   "metadata": {},
   "source": [
    "## Missing Values\n",
    "This dataset has no missing values"
   ]
  },
  {
   "cell_type": "code",
   "execution_count": 103,
   "id": "limited-hormone",
   "metadata": {},
   "outputs": [
    {
     "data": {
      "text/plain": [
       "course_title                0\n",
       "course_organization         0\n",
       "course_Certificate_type     0\n",
       "course_rating               0\n",
       "course_difficulty           0\n",
       "course_students_enrolled    0\n",
       "dtype: int64"
      ]
     },
     "execution_count": 103,
     "metadata": {},
     "output_type": "execute_result"
    }
   ],
   "source": [
    "coursera.isnull().sum()"
   ]
  },
  {
   "cell_type": "markdown",
   "id": "relevant-excuse",
   "metadata": {},
   "source": [
    "## Duplicate Values\n",
    "\n",
    "This dataset has no duplicate values."
   ]
  },
  {
   "cell_type": "code",
   "execution_count": 104,
   "id": "industrial-failure",
   "metadata": {},
   "outputs": [
    {
     "data": {
      "text/plain": [
       "course_title                0.0\n",
       "course_organization         0.0\n",
       "course_Certificate_type     0.0\n",
       "course_rating               0.0\n",
       "course_difficulty           0.0\n",
       "course_students_enrolled    0.0\n",
       "dtype: float64"
      ]
     },
     "execution_count": 104,
     "metadata": {},
     "output_type": "execute_result"
    }
   ],
   "source": [
    "coursera[coursera.duplicated(keep = False)].sum()"
   ]
  },
  {
   "cell_type": "markdown",
   "id": "mental-sending",
   "metadata": {},
   "source": [
    "## Modification of Column Names\n",
    "\n",
    "I modified the name of each column to be clearer and more attractive."
   ]
  },
  {
   "cell_type": "code",
   "execution_count": 105,
   "id": "behavioral-taiwan",
   "metadata": {},
   "outputs": [],
   "source": [
    "coursera.rename(columns = {'course_title':'Course', \n",
    "                           'course_organization':'Organization', \n",
    "                           'course_Certificate_type':'Certificate',\n",
    "                           'course_rating':'Rating',\n",
    "                          'course_difficulty':'Difficulty',\n",
    "                          'course_students_enrolled':'Students'}, inplace = True)"
   ]
  },
  {
   "cell_type": "code",
   "execution_count": 106,
   "id": "sufficient-radar",
   "metadata": {
    "scrolled": true
   },
   "outputs": [
    {
     "data": {
      "text/html": [
       "<div>\n",
       "<style scoped>\n",
       "    .dataframe tbody tr th:only-of-type {\n",
       "        vertical-align: middle;\n",
       "    }\n",
       "\n",
       "    .dataframe tbody tr th {\n",
       "        vertical-align: top;\n",
       "    }\n",
       "\n",
       "    .dataframe thead th {\n",
       "        text-align: right;\n",
       "    }\n",
       "</style>\n",
       "<table border=\"1\" class=\"dataframe\">\n",
       "  <thead>\n",
       "    <tr style=\"text-align: right;\">\n",
       "      <th></th>\n",
       "      <th>Course</th>\n",
       "      <th>Organization</th>\n",
       "      <th>Certificate</th>\n",
       "      <th>Rating</th>\n",
       "      <th>Difficulty</th>\n",
       "      <th>Students</th>\n",
       "    </tr>\n",
       "  </thead>\n",
       "  <tbody>\n",
       "    <tr>\n",
       "      <th>0</th>\n",
       "      <td>IBM Data Science</td>\n",
       "      <td>IBM</td>\n",
       "      <td>PROFESSIONAL CERTIFICATE</td>\n",
       "      <td>4.6</td>\n",
       "      <td>Beginner</td>\n",
       "      <td>480k</td>\n",
       "    </tr>\n",
       "    <tr>\n",
       "      <th>1</th>\n",
       "      <td>Introduction to Data Science</td>\n",
       "      <td>IBM</td>\n",
       "      <td>SPECIALIZATION</td>\n",
       "      <td>4.6</td>\n",
       "      <td>Beginner</td>\n",
       "      <td>310k</td>\n",
       "    </tr>\n",
       "    <tr>\n",
       "      <th>2</th>\n",
       "      <td>The Science of Well-Being</td>\n",
       "      <td>Yale University</td>\n",
       "      <td>COURSE</td>\n",
       "      <td>4.9</td>\n",
       "      <td>Mixed</td>\n",
       "      <td>2.5m</td>\n",
       "    </tr>\n",
       "    <tr>\n",
       "      <th>3</th>\n",
       "      <td>Python for Everybody</td>\n",
       "      <td>University of Michigan</td>\n",
       "      <td>SPECIALIZATION</td>\n",
       "      <td>4.8</td>\n",
       "      <td>Beginner</td>\n",
       "      <td>1.5m</td>\n",
       "    </tr>\n",
       "    <tr>\n",
       "      <th>4</th>\n",
       "      <td>Google IT Support</td>\n",
       "      <td>Google</td>\n",
       "      <td>PROFESSIONAL CERTIFICATE</td>\n",
       "      <td>4.8</td>\n",
       "      <td>Beginner</td>\n",
       "      <td>350k</td>\n",
       "    </tr>\n",
       "    <tr>\n",
       "      <th>5</th>\n",
       "      <td>Deep Learning</td>\n",
       "      <td>deeplearning.ai</td>\n",
       "      <td>SPECIALIZATION</td>\n",
       "      <td>4.8</td>\n",
       "      <td>Intermediate</td>\n",
       "      <td>690k</td>\n",
       "    </tr>\n",
       "    <tr>\n",
       "      <th>6</th>\n",
       "      <td>Machine Learning</td>\n",
       "      <td>Stanford University</td>\n",
       "      <td>COURSE</td>\n",
       "      <td>4.9</td>\n",
       "      <td>Mixed</td>\n",
       "      <td>3.2m</td>\n",
       "    </tr>\n",
       "    <tr>\n",
       "      <th>7</th>\n",
       "      <td>Business Foundations</td>\n",
       "      <td>University of Pennsylvania</td>\n",
       "      <td>SPECIALIZATION</td>\n",
       "      <td>4.7</td>\n",
       "      <td>Beginner</td>\n",
       "      <td>510k</td>\n",
       "    </tr>\n",
       "    <tr>\n",
       "      <th>8</th>\n",
       "      <td>Applied Data Science</td>\n",
       "      <td>IBM</td>\n",
       "      <td>SPECIALIZATION</td>\n",
       "      <td>4.6</td>\n",
       "      <td>Beginner</td>\n",
       "      <td>220k</td>\n",
       "    </tr>\n",
       "    <tr>\n",
       "      <th>9</th>\n",
       "      <td>Cloud Engineering with Google Cloud</td>\n",
       "      <td>Google Cloud</td>\n",
       "      <td>PROFESSIONAL CERTIFICATE</td>\n",
       "      <td>4.7</td>\n",
       "      <td>Intermediate</td>\n",
       "      <td>310k</td>\n",
       "    </tr>\n",
       "  </tbody>\n",
       "</table>\n",
       "</div>"
      ],
      "text/plain": [
       "                                Course                Organization  \\\n",
       "0                     IBM Data Science                         IBM   \n",
       "1         Introduction to Data Science                         IBM   \n",
       "2            The Science of Well-Being             Yale University   \n",
       "3                 Python for Everybody      University of Michigan   \n",
       "4                    Google IT Support                      Google   \n",
       "5                        Deep Learning             deeplearning.ai   \n",
       "6                     Machine Learning         Stanford University   \n",
       "7                 Business Foundations  University of Pennsylvania   \n",
       "8                 Applied Data Science                         IBM   \n",
       "9  Cloud Engineering with Google Cloud                Google Cloud   \n",
       "\n",
       "                Certificate  Rating    Difficulty Students  \n",
       "0  PROFESSIONAL CERTIFICATE     4.6      Beginner     480k  \n",
       "1            SPECIALIZATION     4.6      Beginner     310k  \n",
       "2                    COURSE     4.9         Mixed     2.5m  \n",
       "3            SPECIALIZATION     4.8      Beginner     1.5m  \n",
       "4  PROFESSIONAL CERTIFICATE     4.8      Beginner     350k  \n",
       "5            SPECIALIZATION     4.8  Intermediate     690k  \n",
       "6                    COURSE     4.9         Mixed     3.2m  \n",
       "7            SPECIALIZATION     4.7      Beginner     510k  \n",
       "8            SPECIALIZATION     4.6      Beginner     220k  \n",
       "9  PROFESSIONAL CERTIFICATE     4.7  Intermediate     310k  "
      ]
     },
     "execution_count": 106,
     "metadata": {},
     "output_type": "execute_result"
    }
   ],
   "source": [
    "coursera.head(10)"
   ]
  },
  {
   "cell_type": "markdown",
   "id": "reserved-sheet",
   "metadata": {},
   "source": [
    "## Modification of Certificate Column\n",
    "\n",
    "I modified the Certificate column so the text is in title case. I also removed the uncessary text, 'Certificate' from some of the enteries. "
   ]
  },
  {
   "cell_type": "code",
   "execution_count": 107,
   "id": "optional-allowance",
   "metadata": {
    "scrolled": false
   },
   "outputs": [
    {
     "data": {
      "text/html": [
       "<div>\n",
       "<style scoped>\n",
       "    .dataframe tbody tr th:only-of-type {\n",
       "        vertical-align: middle;\n",
       "    }\n",
       "\n",
       "    .dataframe tbody tr th {\n",
       "        vertical-align: top;\n",
       "    }\n",
       "\n",
       "    .dataframe thead th {\n",
       "        text-align: right;\n",
       "    }\n",
       "</style>\n",
       "<table border=\"1\" class=\"dataframe\">\n",
       "  <thead>\n",
       "    <tr style=\"text-align: right;\">\n",
       "      <th></th>\n",
       "      <th>Course</th>\n",
       "      <th>Organization</th>\n",
       "      <th>Certificate</th>\n",
       "      <th>Rating</th>\n",
       "      <th>Difficulty</th>\n",
       "      <th>Students</th>\n",
       "    </tr>\n",
       "  </thead>\n",
       "  <tbody>\n",
       "    <tr>\n",
       "      <th>0</th>\n",
       "      <td>IBM Data Science</td>\n",
       "      <td>IBM</td>\n",
       "      <td>Professional</td>\n",
       "      <td>4.6</td>\n",
       "      <td>Beginner</td>\n",
       "      <td>480k</td>\n",
       "    </tr>\n",
       "    <tr>\n",
       "      <th>1</th>\n",
       "      <td>Introduction to Data Science</td>\n",
       "      <td>IBM</td>\n",
       "      <td>Specialization</td>\n",
       "      <td>4.6</td>\n",
       "      <td>Beginner</td>\n",
       "      <td>310k</td>\n",
       "    </tr>\n",
       "    <tr>\n",
       "      <th>2</th>\n",
       "      <td>The Science of Well-Being</td>\n",
       "      <td>Yale University</td>\n",
       "      <td>Course</td>\n",
       "      <td>4.9</td>\n",
       "      <td>Mixed</td>\n",
       "      <td>2.5m</td>\n",
       "    </tr>\n",
       "    <tr>\n",
       "      <th>3</th>\n",
       "      <td>Python for Everybody</td>\n",
       "      <td>University of Michigan</td>\n",
       "      <td>Specialization</td>\n",
       "      <td>4.8</td>\n",
       "      <td>Beginner</td>\n",
       "      <td>1.5m</td>\n",
       "    </tr>\n",
       "    <tr>\n",
       "      <th>4</th>\n",
       "      <td>Google IT Support</td>\n",
       "      <td>Google</td>\n",
       "      <td>Professional</td>\n",
       "      <td>4.8</td>\n",
       "      <td>Beginner</td>\n",
       "      <td>350k</td>\n",
       "    </tr>\n",
       "    <tr>\n",
       "      <th>5</th>\n",
       "      <td>Deep Learning</td>\n",
       "      <td>deeplearning.ai</td>\n",
       "      <td>Specialization</td>\n",
       "      <td>4.8</td>\n",
       "      <td>Intermediate</td>\n",
       "      <td>690k</td>\n",
       "    </tr>\n",
       "    <tr>\n",
       "      <th>6</th>\n",
       "      <td>Machine Learning</td>\n",
       "      <td>Stanford University</td>\n",
       "      <td>Course</td>\n",
       "      <td>4.9</td>\n",
       "      <td>Mixed</td>\n",
       "      <td>3.2m</td>\n",
       "    </tr>\n",
       "    <tr>\n",
       "      <th>7</th>\n",
       "      <td>Business Foundations</td>\n",
       "      <td>University of Pennsylvania</td>\n",
       "      <td>Specialization</td>\n",
       "      <td>4.7</td>\n",
       "      <td>Beginner</td>\n",
       "      <td>510k</td>\n",
       "    </tr>\n",
       "    <tr>\n",
       "      <th>8</th>\n",
       "      <td>Applied Data Science</td>\n",
       "      <td>IBM</td>\n",
       "      <td>Specialization</td>\n",
       "      <td>4.6</td>\n",
       "      <td>Beginner</td>\n",
       "      <td>220k</td>\n",
       "    </tr>\n",
       "    <tr>\n",
       "      <th>9</th>\n",
       "      <td>Cloud Engineering with Google Cloud</td>\n",
       "      <td>Google Cloud</td>\n",
       "      <td>Professional</td>\n",
       "      <td>4.7</td>\n",
       "      <td>Intermediate</td>\n",
       "      <td>310k</td>\n",
       "    </tr>\n",
       "  </tbody>\n",
       "</table>\n",
       "</div>"
      ],
      "text/plain": [
       "                                Course                Organization  \\\n",
       "0                     IBM Data Science                         IBM   \n",
       "1         Introduction to Data Science                         IBM   \n",
       "2            The Science of Well-Being             Yale University   \n",
       "3                 Python for Everybody      University of Michigan   \n",
       "4                    Google IT Support                      Google   \n",
       "5                        Deep Learning             deeplearning.ai   \n",
       "6                     Machine Learning         Stanford University   \n",
       "7                 Business Foundations  University of Pennsylvania   \n",
       "8                 Applied Data Science                         IBM   \n",
       "9  Cloud Engineering with Google Cloud                Google Cloud   \n",
       "\n",
       "      Certificate  Rating    Difficulty Students  \n",
       "0   Professional      4.6      Beginner     480k  \n",
       "1  Specialization     4.6      Beginner     310k  \n",
       "2          Course     4.9         Mixed     2.5m  \n",
       "3  Specialization     4.8      Beginner     1.5m  \n",
       "4   Professional      4.8      Beginner     350k  \n",
       "5  Specialization     4.8  Intermediate     690k  \n",
       "6          Course     4.9         Mixed     3.2m  \n",
       "7  Specialization     4.7      Beginner     510k  \n",
       "8  Specialization     4.6      Beginner     220k  \n",
       "9   Professional      4.7  Intermediate     310k  "
      ]
     },
     "execution_count": 107,
     "metadata": {},
     "output_type": "execute_result"
    }
   ],
   "source": [
    "# Makes each string into title case.\n",
    "coursera['Certificate'] = coursera['Certificate'].str.title()\n",
    "\n",
    "# Removes text 'Certificate' from any value in this column.\n",
    "coursera['Certificate'] = coursera['Certificate'].str.replace(r'Certificate', '') \n",
    "\n",
    "# Removes ALL white spaces from values of this column.\n",
    "coursera['Certificate'].str.strip()\n",
    "\n",
    "coursera.head(10)"
   ]
  },
  {
   "cell_type": "markdown",
   "id": "requested-objective",
   "metadata": {},
   "source": [
    "## Modification of Student Column\n",
    "\n",
    "I modified this column so it's values are in integer format."
   ]
  },
  {
   "cell_type": "code",
   "execution_count": 108,
   "id": "controlling-pulse",
   "metadata": {},
   "outputs": [
    {
     "data": {
      "text/plain": [
       "['480k',\n",
       " '310k',\n",
       " '2.5m',\n",
       " '1.5m',\n",
       " '350k',\n",
       " '690k',\n",
       " '3.2m',\n",
       " '510k',\n",
       " '220k',\n",
       " '240k',\n",
       " '830k',\n",
       " '470k',\n",
       " '740k',\n",
       " '260k',\n",
       " '280k',\n",
       " '300k',\n",
       " '290k',\n",
       " '120k',\n",
       " '160k',\n",
       " '93k',\n",
       " '170k',\n",
       " '380k',\n",
       " '270k',\n",
       " '230k',\n",
       " '440k',\n",
       " '89k',\n",
       " '110k',\n",
       " '140k',\n",
       " '13k',\n",
       " '610k',\n",
       " '190k',\n",
       " '490k',\n",
       " '750k',\n",
       " '130k',\n",
       " '790k',\n",
       " '68k',\n",
       " '1.3m',\n",
       " '61k',\n",
       " '82k',\n",
       " '98k',\n",
       " '150k',\n",
       " '31k',\n",
       " '630k',\n",
       " '540k',\n",
       " '22k',\n",
       " '20k',\n",
       " '100k',\n",
       " '370k',\n",
       " '96k',\n",
       " '57k',\n",
       " '94k',\n",
       " '80k',\n",
       " '97k',\n",
       " '99k',\n",
       " '23k',\n",
       " '65k',\n",
       " '330k',\n",
       " '200k',\n",
       " '70k',\n",
       " '84k',\n",
       " '35k',\n",
       " '180k',\n",
       " '210k',\n",
       " '340k',\n",
       " '36k',\n",
       " '51k',\n",
       " '420k',\n",
       " '400k',\n",
       " '79k',\n",
       " '10k',\n",
       " '92k',\n",
       " '320k',\n",
       " '30k',\n",
       " '8.7k',\n",
       " '56k',\n",
       " '72k',\n",
       " '24k',\n",
       " '34k',\n",
       " '12k',\n",
       " '14k',\n",
       " '77k',\n",
       " '5.3k',\n",
       " '67k',\n",
       " '21k',\n",
       " '9.4k',\n",
       " '76k',\n",
       " '44k',\n",
       " '39k',\n",
       " '43k',\n",
       " '38k',\n",
       " '18k',\n",
       " '16k',\n",
       " '42k',\n",
       " '760k',\n",
       " '28k',\n",
       " '15k',\n",
       " '81k',\n",
       " '7k',\n",
       " '32k',\n",
       " '60k',\n",
       " '390k',\n",
       " '49k',\n",
       " '75k',\n",
       " '71k',\n",
       " '26k',\n",
       " '54k',\n",
       " '64k',\n",
       " '40k',\n",
       " '33k',\n",
       " '41k',\n",
       " '83k',\n",
       " '62k',\n",
       " '52k',\n",
       " '37k',\n",
       " '9k',\n",
       " '50k',\n",
       " '8.1k',\n",
       " '86k',\n",
       " '78k',\n",
       " '17k',\n",
       " '25k',\n",
       " '250k',\n",
       " '11k',\n",
       " '69k',\n",
       " '63k',\n",
       " '58k',\n",
       " '29k',\n",
       " '55k',\n",
       " '27k',\n",
       " '19k',\n",
       " '47k',\n",
       " '4k',\n",
       " '7.9k',\n",
       " '90k',\n",
       " '8.8k',\n",
       " '4.1k',\n",
       " '9.2k',\n",
       " '430k',\n",
       " '4.8k',\n",
       " '95k',\n",
       " '45k',\n",
       " '3.8k',\n",
       " '6.5k',\n",
       " '46k',\n",
       " '9.1k',\n",
       " '4.9k',\n",
       " '1.7k',\n",
       " '73k',\n",
       " '66k',\n",
       " '3.9k',\n",
       " '5.8k',\n",
       " '2.6k',\n",
       " '1.6k',\n",
       " '3.3k',\n",
       " '53k',\n",
       " '91k',\n",
       " '6.4k',\n",
       " '87k',\n",
       " '4.2k',\n",
       " '5.4k',\n",
       " '9.7k',\n",
       " '85k',\n",
       " '7.2k',\n",
       " '2.2k',\n",
       " '2.3k',\n",
       " '5.2k',\n",
       " '6.2k',\n",
       " '48k',\n",
       " '2.4k',\n",
       " '74k',\n",
       " '8k',\n",
       " '3.2k',\n",
       " '88k',\n",
       " '3.5k',\n",
       " '8.4k',\n",
       " '5.5k',\n",
       " '59k',\n",
       " '5.6k',\n",
       " '2.9k',\n",
       " '8.2k',\n",
       " '4.4k',\n",
       " '9.5k',\n",
       " '7.3k',\n",
       " '8.9k',\n",
       " '3k',\n",
       " '6k',\n",
       " '1.8k',\n",
       " '7.8k',\n",
       " '9.9k',\n",
       " '7.6k',\n",
       " '4.5k',\n",
       " '6.3k',\n",
       " '1.9k',\n",
       " '5.9k',\n",
       " '3.6k',\n",
       " '6.8k',\n",
       " '7.7k',\n",
       " '3.4k',\n",
       " '1.5k',\n",
       " '7.4k',\n",
       " '8.5k',\n",
       " '6.6k',\n",
       " '7.1k',\n",
       " '6.1k',\n",
       " '9.8k']"
      ]
     },
     "execution_count": 108,
     "metadata": {},
     "output_type": "execute_result"
    }
   ],
   "source": [
    "# Some of the values of this column end either in 'k' or in 'm' to indicate one thousand (1,000)or one million (1,000,000).\n",
    "coursera.Students.unique().tolist()"
   ]
  },
  {
   "cell_type": "code",
   "execution_count": 109,
   "id": "unlikely-structure",
   "metadata": {},
   "outputs": [],
   "source": [
    "# Extractes the symbol 'k' or 'm' from the text in the Enrollment column. Created a new column called 'Symbol' for it.\n",
    "coursera['Symbol'] = coursera['Students'].str[-1:]"
   ]
  },
  {
   "cell_type": "code",
   "execution_count": 110,
   "id": "reverse-tuner",
   "metadata": {},
   "outputs": [],
   "source": [
    "# Extractes the digits from the Enrollment column and set the digits as float.\n",
    "pd.set_option(\"max_rows\", None)\n",
    "coursera['Students'] = coursera['Students'].str.extract(r'(\\d+[.\\d]*)').astype(float)"
   ]
  },
  {
   "cell_type": "code",
   "execution_count": 111,
   "id": "latter-paradise",
   "metadata": {},
   "outputs": [],
   "source": [
    "# If the 'Symbol' column shows 'k', the number in the Enrollment column is multiplied by 1000.\n",
    "# If it shows 'm', the number is multiplied by 1,000,000.\n",
    "coursera.loc[coursera['Symbol'] == 'k', 'Multiple'] = 1000\n",
    "coursera.loc[coursera['Symbol'] == 'm', 'Multiple'] = 1000000\n",
    "coursera['Multiple'] = coursera['Multiple'].astype(int)"
   ]
  },
  {
   "cell_type": "code",
   "execution_count": 112,
   "id": "arabic-handling",
   "metadata": {},
   "outputs": [],
   "source": [
    "# Creates a new column called, 'Enrolled' with the product of the multiplication above.\n",
    "coursera['Enrollment'] = coursera['Students'] * coursera['Multiple']\n",
    "coursera['Enrollment'] = coursera['Enrollment'].astype(int)"
   ]
  },
  {
   "cell_type": "code",
   "execution_count": 113,
   "id": "lovely-highland",
   "metadata": {
    "scrolled": true
   },
   "outputs": [],
   "source": [
    "# Deletes the unnecssary columns after the operations above. \n",
    "coursera = coursera.drop(['Symbol', 'Multiple', 'Students'], axis = 1)"
   ]
  },
  {
   "cell_type": "code",
   "execution_count": 114,
   "id": "material-detail",
   "metadata": {
    "scrolled": true
   },
   "outputs": [
    {
     "data": {
      "text/html": [
       "<div>\n",
       "<style scoped>\n",
       "    .dataframe tbody tr th:only-of-type {\n",
       "        vertical-align: middle;\n",
       "    }\n",
       "\n",
       "    .dataframe tbody tr th {\n",
       "        vertical-align: top;\n",
       "    }\n",
       "\n",
       "    .dataframe thead th {\n",
       "        text-align: right;\n",
       "    }\n",
       "</style>\n",
       "<table border=\"1\" class=\"dataframe\">\n",
       "  <thead>\n",
       "    <tr style=\"text-align: right;\">\n",
       "      <th></th>\n",
       "      <th>Course</th>\n",
       "      <th>Organization</th>\n",
       "      <th>Certificate</th>\n",
       "      <th>Rating</th>\n",
       "      <th>Difficulty</th>\n",
       "      <th>Enrollment</th>\n",
       "    </tr>\n",
       "  </thead>\n",
       "  <tbody>\n",
       "    <tr>\n",
       "      <th>0</th>\n",
       "      <td>IBM Data Science</td>\n",
       "      <td>IBM</td>\n",
       "      <td>Professional</td>\n",
       "      <td>4.6</td>\n",
       "      <td>Beginner</td>\n",
       "      <td>480000</td>\n",
       "    </tr>\n",
       "    <tr>\n",
       "      <th>1</th>\n",
       "      <td>Introduction to Data Science</td>\n",
       "      <td>IBM</td>\n",
       "      <td>Specialization</td>\n",
       "      <td>4.6</td>\n",
       "      <td>Beginner</td>\n",
       "      <td>310000</td>\n",
       "    </tr>\n",
       "    <tr>\n",
       "      <th>2</th>\n",
       "      <td>The Science of Well-Being</td>\n",
       "      <td>Yale University</td>\n",
       "      <td>Course</td>\n",
       "      <td>4.9</td>\n",
       "      <td>Mixed</td>\n",
       "      <td>2500000</td>\n",
       "    </tr>\n",
       "    <tr>\n",
       "      <th>3</th>\n",
       "      <td>Python for Everybody</td>\n",
       "      <td>University of Michigan</td>\n",
       "      <td>Specialization</td>\n",
       "      <td>4.8</td>\n",
       "      <td>Beginner</td>\n",
       "      <td>1500000</td>\n",
       "    </tr>\n",
       "    <tr>\n",
       "      <th>4</th>\n",
       "      <td>Google IT Support</td>\n",
       "      <td>Google</td>\n",
       "      <td>Professional</td>\n",
       "      <td>4.8</td>\n",
       "      <td>Beginner</td>\n",
       "      <td>350000</td>\n",
       "    </tr>\n",
       "    <tr>\n",
       "      <th>5</th>\n",
       "      <td>Deep Learning</td>\n",
       "      <td>deeplearning.ai</td>\n",
       "      <td>Specialization</td>\n",
       "      <td>4.8</td>\n",
       "      <td>Intermediate</td>\n",
       "      <td>690000</td>\n",
       "    </tr>\n",
       "    <tr>\n",
       "      <th>6</th>\n",
       "      <td>Machine Learning</td>\n",
       "      <td>Stanford University</td>\n",
       "      <td>Course</td>\n",
       "      <td>4.9</td>\n",
       "      <td>Mixed</td>\n",
       "      <td>3200000</td>\n",
       "    </tr>\n",
       "    <tr>\n",
       "      <th>7</th>\n",
       "      <td>Business Foundations</td>\n",
       "      <td>University of Pennsylvania</td>\n",
       "      <td>Specialization</td>\n",
       "      <td>4.7</td>\n",
       "      <td>Beginner</td>\n",
       "      <td>510000</td>\n",
       "    </tr>\n",
       "    <tr>\n",
       "      <th>8</th>\n",
       "      <td>Applied Data Science</td>\n",
       "      <td>IBM</td>\n",
       "      <td>Specialization</td>\n",
       "      <td>4.6</td>\n",
       "      <td>Beginner</td>\n",
       "      <td>220000</td>\n",
       "    </tr>\n",
       "    <tr>\n",
       "      <th>9</th>\n",
       "      <td>Cloud Engineering with Google Cloud</td>\n",
       "      <td>Google Cloud</td>\n",
       "      <td>Professional</td>\n",
       "      <td>4.7</td>\n",
       "      <td>Intermediate</td>\n",
       "      <td>310000</td>\n",
       "    </tr>\n",
       "  </tbody>\n",
       "</table>\n",
       "</div>"
      ],
      "text/plain": [
       "                                Course                Organization  \\\n",
       "0                     IBM Data Science                         IBM   \n",
       "1         Introduction to Data Science                         IBM   \n",
       "2            The Science of Well-Being             Yale University   \n",
       "3                 Python for Everybody      University of Michigan   \n",
       "4                    Google IT Support                      Google   \n",
       "5                        Deep Learning             deeplearning.ai   \n",
       "6                     Machine Learning         Stanford University   \n",
       "7                 Business Foundations  University of Pennsylvania   \n",
       "8                 Applied Data Science                         IBM   \n",
       "9  Cloud Engineering with Google Cloud                Google Cloud   \n",
       "\n",
       "      Certificate  Rating    Difficulty  Enrollment  \n",
       "0   Professional      4.6      Beginner      480000  \n",
       "1  Specialization     4.6      Beginner      310000  \n",
       "2          Course     4.9         Mixed     2500000  \n",
       "3  Specialization     4.8      Beginner     1500000  \n",
       "4   Professional      4.8      Beginner      350000  \n",
       "5  Specialization     4.8  Intermediate      690000  \n",
       "6          Course     4.9         Mixed     3200000  \n",
       "7  Specialization     4.7      Beginner      510000  \n",
       "8  Specialization     4.6      Beginner      220000  \n",
       "9   Professional      4.7  Intermediate      310000  "
      ]
     },
     "execution_count": 114,
     "metadata": {},
     "output_type": "execute_result"
    }
   ],
   "source": [
    "coursera.head(10)"
   ]
  },
  {
   "cell_type": "markdown",
   "id": "cutting-telling",
   "metadata": {},
   "source": [
    "## Modification of Column Order\n",
    "\n",
    "I modified the order of the columns to make the dataset more readable and workable. "
   ]
  },
  {
   "cell_type": "code",
   "execution_count": 115,
   "id": "convertible-detective",
   "metadata": {},
   "outputs": [
    {
     "data": {
      "text/html": [
       "<div>\n",
       "<style scoped>\n",
       "    .dataframe tbody tr th:only-of-type {\n",
       "        vertical-align: middle;\n",
       "    }\n",
       "\n",
       "    .dataframe tbody tr th {\n",
       "        vertical-align: top;\n",
       "    }\n",
       "\n",
       "    .dataframe thead th {\n",
       "        text-align: right;\n",
       "    }\n",
       "</style>\n",
       "<table border=\"1\" class=\"dataframe\">\n",
       "  <thead>\n",
       "    <tr style=\"text-align: right;\">\n",
       "      <th></th>\n",
       "      <th>Organization</th>\n",
       "      <th>Course</th>\n",
       "      <th>Difficulty</th>\n",
       "      <th>Certificate</th>\n",
       "      <th>Enrollment</th>\n",
       "      <th>Rating</th>\n",
       "    </tr>\n",
       "  </thead>\n",
       "  <tbody>\n",
       "    <tr>\n",
       "      <th>0</th>\n",
       "      <td>IBM</td>\n",
       "      <td>IBM Data Science</td>\n",
       "      <td>Beginner</td>\n",
       "      <td>Professional</td>\n",
       "      <td>480000</td>\n",
       "      <td>4.6</td>\n",
       "    </tr>\n",
       "    <tr>\n",
       "      <th>1</th>\n",
       "      <td>IBM</td>\n",
       "      <td>Introduction to Data Science</td>\n",
       "      <td>Beginner</td>\n",
       "      <td>Specialization</td>\n",
       "      <td>310000</td>\n",
       "      <td>4.6</td>\n",
       "    </tr>\n",
       "    <tr>\n",
       "      <th>2</th>\n",
       "      <td>Yale University</td>\n",
       "      <td>The Science of Well-Being</td>\n",
       "      <td>Mixed</td>\n",
       "      <td>Course</td>\n",
       "      <td>2500000</td>\n",
       "      <td>4.9</td>\n",
       "    </tr>\n",
       "    <tr>\n",
       "      <th>3</th>\n",
       "      <td>University of Michigan</td>\n",
       "      <td>Python for Everybody</td>\n",
       "      <td>Beginner</td>\n",
       "      <td>Specialization</td>\n",
       "      <td>1500000</td>\n",
       "      <td>4.8</td>\n",
       "    </tr>\n",
       "    <tr>\n",
       "      <th>4</th>\n",
       "      <td>Google</td>\n",
       "      <td>Google IT Support</td>\n",
       "      <td>Beginner</td>\n",
       "      <td>Professional</td>\n",
       "      <td>350000</td>\n",
       "      <td>4.8</td>\n",
       "    </tr>\n",
       "    <tr>\n",
       "      <th>5</th>\n",
       "      <td>deeplearning.ai</td>\n",
       "      <td>Deep Learning</td>\n",
       "      <td>Intermediate</td>\n",
       "      <td>Specialization</td>\n",
       "      <td>690000</td>\n",
       "      <td>4.8</td>\n",
       "    </tr>\n",
       "    <tr>\n",
       "      <th>6</th>\n",
       "      <td>Stanford University</td>\n",
       "      <td>Machine Learning</td>\n",
       "      <td>Mixed</td>\n",
       "      <td>Course</td>\n",
       "      <td>3200000</td>\n",
       "      <td>4.9</td>\n",
       "    </tr>\n",
       "    <tr>\n",
       "      <th>7</th>\n",
       "      <td>University of Pennsylvania</td>\n",
       "      <td>Business Foundations</td>\n",
       "      <td>Beginner</td>\n",
       "      <td>Specialization</td>\n",
       "      <td>510000</td>\n",
       "      <td>4.7</td>\n",
       "    </tr>\n",
       "    <tr>\n",
       "      <th>8</th>\n",
       "      <td>IBM</td>\n",
       "      <td>Applied Data Science</td>\n",
       "      <td>Beginner</td>\n",
       "      <td>Specialization</td>\n",
       "      <td>220000</td>\n",
       "      <td>4.6</td>\n",
       "    </tr>\n",
       "    <tr>\n",
       "      <th>9</th>\n",
       "      <td>Google Cloud</td>\n",
       "      <td>Cloud Engineering with Google Cloud</td>\n",
       "      <td>Intermediate</td>\n",
       "      <td>Professional</td>\n",
       "      <td>310000</td>\n",
       "      <td>4.7</td>\n",
       "    </tr>\n",
       "  </tbody>\n",
       "</table>\n",
       "</div>"
      ],
      "text/plain": [
       "                 Organization                               Course  \\\n",
       "0                         IBM                     IBM Data Science   \n",
       "1                         IBM         Introduction to Data Science   \n",
       "2             Yale University            The Science of Well-Being   \n",
       "3      University of Michigan                 Python for Everybody   \n",
       "4                      Google                    Google IT Support   \n",
       "5             deeplearning.ai                        Deep Learning   \n",
       "6         Stanford University                     Machine Learning   \n",
       "7  University of Pennsylvania                 Business Foundations   \n",
       "8                         IBM                 Applied Data Science   \n",
       "9                Google Cloud  Cloud Engineering with Google Cloud   \n",
       "\n",
       "     Difficulty     Certificate  Enrollment  Rating  \n",
       "0      Beginner   Professional       480000     4.6  \n",
       "1      Beginner  Specialization      310000     4.6  \n",
       "2         Mixed          Course     2500000     4.9  \n",
       "3      Beginner  Specialization     1500000     4.8  \n",
       "4      Beginner   Professional       350000     4.8  \n",
       "5  Intermediate  Specialization      690000     4.8  \n",
       "6         Mixed          Course     3200000     4.9  \n",
       "7      Beginner  Specialization      510000     4.7  \n",
       "8      Beginner  Specialization      220000     4.6  \n",
       "9  Intermediate   Professional       310000     4.7  "
      ]
     },
     "execution_count": 115,
     "metadata": {},
     "output_type": "execute_result"
    }
   ],
   "source": [
    "coursera = coursera[['Organization', 'Course', 'Difficulty', 'Certificate', 'Enrollment', 'Rating']]\n",
    "coursera.head(10)"
   ]
  },
  {
   "cell_type": "markdown",
   "id": "approximate-involvement",
   "metadata": {},
   "source": [
    "# Descriptive Statistics\n",
    "\n",
    "In this section, I provide basic statistical details and summarize the data on the 2 numerical features of this dataset, 'Enrollment' and 'Rating'.\n",
    "\n",
    "1.  **Rating:** The subjective 1 - 5 score that students give at the end of a course.\n",
    "2.  **Enrollment:** Total student enrollment in a course."
   ]
  },
  {
   "cell_type": "code",
   "execution_count": 116,
   "id": "other-mitchell",
   "metadata": {
    "scrolled": true
   },
   "outputs": [
    {
     "data": {
      "text/html": [
       "<div>\n",
       "<style scoped>\n",
       "    .dataframe tbody tr th:only-of-type {\n",
       "        vertical-align: middle;\n",
       "    }\n",
       "\n",
       "    .dataframe tbody tr th {\n",
       "        vertical-align: top;\n",
       "    }\n",
       "\n",
       "    .dataframe thead th {\n",
       "        text-align: right;\n",
       "    }\n",
       "</style>\n",
       "<table border=\"1\" class=\"dataframe\">\n",
       "  <thead>\n",
       "    <tr style=\"text-align: right;\">\n",
       "      <th></th>\n",
       "      <th>Enrollment</th>\n",
       "      <th>Rating</th>\n",
       "    </tr>\n",
       "  </thead>\n",
       "  <tbody>\n",
       "    <tr>\n",
       "      <th>count</th>\n",
       "      <td>891.00</td>\n",
       "      <td>891.00</td>\n",
       "    </tr>\n",
       "    <tr>\n",
       "      <th>mean</th>\n",
       "      <td>90,552.08</td>\n",
       "      <td>4.68</td>\n",
       "    </tr>\n",
       "    <tr>\n",
       "      <th>std</th>\n",
       "      <td>181,936.45</td>\n",
       "      <td>0.16</td>\n",
       "    </tr>\n",
       "    <tr>\n",
       "      <th>min</th>\n",
       "      <td>1,500.00</td>\n",
       "      <td>3.30</td>\n",
       "    </tr>\n",
       "    <tr>\n",
       "      <th>25%</th>\n",
       "      <td>17,500.00</td>\n",
       "      <td>4.60</td>\n",
       "    </tr>\n",
       "    <tr>\n",
       "      <th>50%</th>\n",
       "      <td>42,000.00</td>\n",
       "      <td>4.70</td>\n",
       "    </tr>\n",
       "    <tr>\n",
       "      <th>75%</th>\n",
       "      <td>99,500.00</td>\n",
       "      <td>4.80</td>\n",
       "    </tr>\n",
       "    <tr>\n",
       "      <th>max</th>\n",
       "      <td>3,200,000.00</td>\n",
       "      <td>5.00</td>\n",
       "    </tr>\n",
       "  </tbody>\n",
       "</table>\n",
       "</div>"
      ],
      "text/plain": [
       "         Enrollment  Rating\n",
       "count        891.00  891.00\n",
       "mean      90,552.08    4.68\n",
       "std      181,936.45    0.16\n",
       "min        1,500.00    3.30\n",
       "25%       17,500.00    4.60\n",
       "50%       42,000.00    4.70\n",
       "75%       99,500.00    4.80\n",
       "max    3,200,000.00    5.00"
      ]
     },
     "execution_count": 116,
     "metadata": {},
     "output_type": "execute_result"
    }
   ],
   "source": [
    "coursera.describe().applymap('{:,.2f}'.format)"
   ]
  },
  {
   "cell_type": "markdown",
   "id": "southeast-bulletin",
   "metadata": {},
   "source": [
    "# Outliers\n",
    "\n",
    "An outlier is an observation that is unlike the other observations. There are basically three causes for outliers:\n",
    "\n",
    "1. Data entry and measurement errors\n",
    "2. Sampling problems\n",
    "3. Natural variations\n",
    "\n",
    "Outliers can capture valuable information and excluding them has to be done with caution. In my opinion, the outliers in this dataset fit the third cause, natural variations. Even though there are values that do not fit with the pattern of the rest of the data, in my opinion, the extreme values are legitimate, and I left them in the dataset. \n",
    "\n",
    "I used the **Interquartile Range (IQR)** method to identify outliers. The IQR is calculated as the difference between the 75th and the 25th percentiles of the data and defines the box in a box and whisker plot. On a box and whisker plot, values that fall outside of the box are drawn as dots and are considred outliers.\n",
    "\n",
    "According to the statistical methodology that I used, there are outliers in the following features:\n",
    "\n",
    "1. Enrollment: 78\n",
    "2. Rating: 17"
   ]
  },
  {
   "cell_type": "code",
   "execution_count": 120,
   "id": "amended-jewel",
   "metadata": {},
   "outputs": [],
   "source": [
    "# Ignores FutureWarning message that appears with the code below.\n",
    "\n",
    "warnings.simplefilter(action = \"ignore\", category = FutureWarning) "
   ]
  },
  {
   "cell_type": "code",
   "execution_count": 121,
   "id": "chicken-monroe",
   "metadata": {
    "scrolled": false
   },
   "outputs": [
    {
     "data": {
      "text/plain": [
       "Certificate      0\n",
       "Course           0\n",
       "Difficulty       0\n",
       "Enrollment      78\n",
       "Organization     0\n",
       "Rating          17\n",
       "dtype: int64"
      ]
     },
     "execution_count": 121,
     "metadata": {},
     "output_type": "execute_result"
    }
   ],
   "source": [
    "Q1 = coursera.quantile(0.25)\n",
    "Q3 = coursera.quantile(0.75)\n",
    "IQR = Q3 - Q1\n",
    "\n",
    "outliers_df = (coursera < (Q1 - 1.5 * IQR)) | (\n",
    "    coursera > (Q3 + 1.5 * IQR)\n",
    ")\n",
    "\n",
    "((coursera < (Q1 - 1.5 * IQR)) | (coursera > (Q3 + 1.5 * IQR))).sum()"
   ]
  },
  {
   "cell_type": "code",
   "execution_count": 124,
   "id": "competent-belly",
   "metadata": {},
   "outputs": [
    {
     "data": {
      "image/png": "[encoded data removed]",
      "text/plain": [
       "<Figure size 1440x576 with 2 Axes>"
      ]
     },
     "metadata": {
      "needs_background": "light"
     },
     "output_type": "display_data"
    }
   ],
   "source": [
    "fig, axes = plt.subplots(1, 2, figsize=(20, 8))\n",
    "\n",
    "sns.boxplot(ax=axes[0], data = coursera, x = coursera ['Rating'])\n",
    "sns.boxplot(ax=axes[1], data = coursera, x = coursera ['Enrollment']);"
   ]
  },
  {
   "cell_type": "markdown",
   "id": "purple-convention",
   "metadata": {},
   "source": [
    "# Exploratory Data Analysis (EDA)"
   ]
  },
  {
   "cell_type": "markdown",
   "id": "collaborative-genre",
   "metadata": {},
   "source": [
    "## Total Enrollment\n",
    "\n",
    "The total enrollment at Coursera is: 80,681,900"
   ]
  },
  {
   "cell_type": "code",
   "execution_count": 21,
   "id": "arabic-kennedy",
   "metadata": {},
   "outputs": [
    {
     "data": {
      "text/plain": [
       "80681900"
      ]
     },
     "execution_count": 21,
     "metadata": {},
     "output_type": "execute_result"
    }
   ],
   "source": [
    "coursera['Enrollment'].sum()"
   ]
  },
  {
   "cell_type": "markdown",
   "id": "floppy-finance",
   "metadata": {},
   "source": [
    "## Organizations\n",
    "\n",
    "In this section, I will answer the following questions:\n",
    "\n",
    "1. Which ten organizations have the highest enrollment?\n",
    "2. Which ten organizations have the lowest enrollment?\n",
    "3. Which ten organizations have the highest number of courses?\n",
    "4. Which ten organizations have the lowest number of courses? "
   ]
  },
  {
   "cell_type": "markdown",
   "id": "painful-enlargement",
   "metadata": {},
   "source": [
    "The 10 organizations with the higest enrollment are:\n",
    "\n",
    "1. University of Michigan: 7,437,700\n",
    "2. University of Pennsylvania: 5,501,300\n",
    "3. Stanford University: 4,854,000\n",
    "4. University of California, Irvine: 4,326,000\n",
    "5. Johns Hopkins University: 4,298,900\n",
    "6. Duke University:\t3,967,600\n",
    "7. Yale University:\t3,952,000\n",
    "8. IBM:\t2,956,400\n",
    "9. deeplearning.ai:\t2,863,400\n",
    "10. Google Cloud: 2,604,300\t"
   ]
  },
  {
   "cell_type": "code",
   "execution_count": 133,
   "id": "rising-multimedia",
   "metadata": {
    "scrolled": true
   },
   "outputs": [
    {
     "data": {
      "text/html": [
       "<div>\n",
       "<style scoped>\n",
       "    .dataframe tbody tr th:only-of-type {\n",
       "        vertical-align: middle;\n",
       "    }\n",
       "\n",
       "    .dataframe tbody tr th {\n",
       "        vertical-align: top;\n",
       "    }\n",
       "\n",
       "    .dataframe thead th {\n",
       "        text-align: right;\n",
       "    }\n",
       "</style>\n",
       "<table border=\"1\" class=\"dataframe\">\n",
       "  <thead>\n",
       "    <tr style=\"text-align: right;\">\n",
       "      <th></th>\n",
       "      <th>Enrollment</th>\n",
       "    </tr>\n",
       "    <tr>\n",
       "      <th>Organization</th>\n",
       "      <th></th>\n",
       "    </tr>\n",
       "  </thead>\n",
       "  <tbody>\n",
       "    <tr>\n",
       "      <th>Total Enrollment</th>\n",
       "      <td>80681900</td>\n",
       "    </tr>\n",
       "    <tr>\n",
       "      <th>University of Michigan</th>\n",
       "      <td>7437700</td>\n",
       "    </tr>\n",
       "    <tr>\n",
       "      <th>University of Pennsylvania</th>\n",
       "      <td>5501300</td>\n",
       "    </tr>\n",
       "    <tr>\n",
       "      <th>Stanford University</th>\n",
       "      <td>4854000</td>\n",
       "    </tr>\n",
       "    <tr>\n",
       "      <th>University of California, Irvine</th>\n",
       "      <td>4326000</td>\n",
       "    </tr>\n",
       "    <tr>\n",
       "      <th>Johns Hopkins University</th>\n",
       "      <td>4298900</td>\n",
       "    </tr>\n",
       "    <tr>\n",
       "      <th>Duke University</th>\n",
       "      <td>3967600</td>\n",
       "    </tr>\n",
       "    <tr>\n",
       "      <th>Yale University</th>\n",
       "      <td>3952000</td>\n",
       "    </tr>\n",
       "    <tr>\n",
       "      <th>IBM</th>\n",
       "      <td>2956400</td>\n",
       "    </tr>\n",
       "    <tr>\n",
       "      <th>deeplearning.ai</th>\n",
       "      <td>2863400</td>\n",
       "    </tr>\n",
       "    <tr>\n",
       "      <th>Google Cloud</th>\n",
       "      <td>2604300</td>\n",
       "    </tr>\n",
       "  </tbody>\n",
       "</table>\n",
       "</div>"
      ],
      "text/plain": [
       "                                  Enrollment\n",
       "Organization                                \n",
       "Total Enrollment                    80681900\n",
       "University of Michigan               7437700\n",
       "University of Pennsylvania           5501300\n",
       "Stanford University                  4854000\n",
       "University of California, Irvine     4326000\n",
       "Johns Hopkins University             4298900\n",
       "Duke University                      3967600\n",
       "Yale University                      3952000\n",
       "IBM                                  2956400\n",
       "deeplearning.ai                      2863400\n",
       "Google Cloud                         2604300"
      ]
     },
     "execution_count": 133,
     "metadata": {},
     "output_type": "execute_result"
    }
   ],
   "source": [
    "organizations = coursera.pivot_table('Enrollment', index = 'Organization', aggfunc ='sum', \n",
    "                                    margins = True, margins_name = 'Total Enrollment')\n",
    "organizations.sort_values('Enrollment', ascending = False).head(11)"
   ]
  },
  {
   "cell_type": "code",
   "execution_count": 134,
   "id": "technological-saying",
   "metadata": {},
   "outputs": [
    {
     "data": {
      "image/png": "[encoded data removed]",
      "text/plain": [
       "<Figure size 1080x576 with 1 Axes>"
      ]
     },
     "metadata": {
      "needs_background": "light"
     },
     "output_type": "display_data"
    }
   ],
   "source": [
    "organizations = organizations.drop('Total Enrollment', axis=0)\n",
    "organizations.sort_values('Enrollment', ascending = False).head(11).plot.bar(rot=90, color = ('mediumseagreen'), figsize = (15,8));"
   ]
  },
  {
   "cell_type": "markdown",
   "id": "accessory-complaint",
   "metadata": {},
   "source": [
    "Organizations with the lowest enrollment are:\n",
    "\n",
    "1. The University of Hong Kong: 9,500\n",
    "2. Fundação Instituto de Administração: 9,200\n",
    "3. Palo Alto Networks: 9,100\n",
    "4. Crece con Google: 8,800\n",
    "5. Novosibirsk State University: 8,200\n",
    "6. UCL School of Management: 7,800\n",
    "7. ESCP Business School: 6,500\n",
    "8. University of New Mexico: 5,500\n",
    "9. Peter the Great St. Petersburg Polytechnic University: 2,400\n",
    "10. Automation Anywhere: 2,200"
   ]
  },
  {
   "cell_type": "code",
   "execution_count": 23,
   "id": "exceptional-trash",
   "metadata": {},
   "outputs": [
    {
     "data": {
      "text/html": [
       "<div>\n",
       "<style scoped>\n",
       "    .dataframe tbody tr th:only-of-type {\n",
       "        vertical-align: middle;\n",
       "    }\n",
       "\n",
       "    .dataframe tbody tr th {\n",
       "        vertical-align: top;\n",
       "    }\n",
       "\n",
       "    .dataframe thead th {\n",
       "        text-align: right;\n",
       "    }\n",
       "</style>\n",
       "<table border=\"1\" class=\"dataframe\">\n",
       "  <thead>\n",
       "    <tr style=\"text-align: right;\">\n",
       "      <th></th>\n",
       "      <th>Enrollment</th>\n",
       "    </tr>\n",
       "    <tr>\n",
       "      <th>Organization</th>\n",
       "      <th></th>\n",
       "    </tr>\n",
       "  </thead>\n",
       "  <tbody>\n",
       "    <tr>\n",
       "      <th>The University of Hong Kong</th>\n",
       "      <td>9500</td>\n",
       "    </tr>\n",
       "    <tr>\n",
       "      <th>Fundação Instituto de Administração</th>\n",
       "      <td>9200</td>\n",
       "    </tr>\n",
       "    <tr>\n",
       "      <th>Palo Alto Networks</th>\n",
       "      <td>9100</td>\n",
       "    </tr>\n",
       "    <tr>\n",
       "      <th>Crece con Google</th>\n",
       "      <td>8800</td>\n",
       "    </tr>\n",
       "    <tr>\n",
       "      <th>Novosibirsk State University</th>\n",
       "      <td>8200</td>\n",
       "    </tr>\n",
       "    <tr>\n",
       "      <th>UCL School of Management</th>\n",
       "      <td>7800</td>\n",
       "    </tr>\n",
       "    <tr>\n",
       "      <th>ESCP Business School</th>\n",
       "      <td>6500</td>\n",
       "    </tr>\n",
       "    <tr>\n",
       "      <th>University of New Mexico</th>\n",
       "      <td>5500</td>\n",
       "    </tr>\n",
       "    <tr>\n",
       "      <th>Peter the Great St. Petersburg Polytechnic University</th>\n",
       "      <td>2400</td>\n",
       "    </tr>\n",
       "    <tr>\n",
       "      <th>Automation Anywhere</th>\n",
       "      <td>2200</td>\n",
       "    </tr>\n",
       "  </tbody>\n",
       "</table>\n",
       "</div>"
      ],
      "text/plain": [
       "                                                    Enrollment\n",
       "Organization                                                  \n",
       "The University of Hong Kong                               9500\n",
       "Fundação Instituto de Administração                       9200\n",
       "Palo Alto Networks                                        9100\n",
       "Crece con Google                                          8800\n",
       "Novosibirsk State University                              8200\n",
       "UCL School of Management                                  7800\n",
       "ESCP Business School                                      6500\n",
       "University of New Mexico                                  5500\n",
       "Peter the Great St. Petersburg Polytechnic Univ...        2400\n",
       "Automation Anywhere                                       2200"
      ]
     },
     "execution_count": 23,
     "metadata": {},
     "output_type": "execute_result"
    }
   ],
   "source": [
    "organizations = coursera.pivot_table('Enrollment', index = 'Organization', aggfunc ='sum', \n",
    "                                    margins = True, margins_name = 'Total Enrollment')\n",
    "organizations.sort_values('Enrollment', ascending = False).tail(10)"
   ]
  },
  {
   "cell_type": "code",
   "execution_count": 135,
   "id": "floppy-money",
   "metadata": {},
   "outputs": [
    {
     "data": {
      "image/png": "[encoded data removed]",
      "text/plain": [
       "<Figure size 1080x576 with 1 Axes>"
      ]
     },
     "metadata": {
      "needs_background": "light"
     },
     "output_type": "display_data"
    }
   ],
   "source": [
    "organizations.sort_values('Enrollment', ascending = False).tail(10).plot.bar(rot=90, color = ('mediumseagreen'), figsize = (15,8));"
   ]
  },
  {
   "cell_type": "markdown",
   "id": "renewable-involvement",
   "metadata": {},
   "source": [
    "The 10 organizations with the highest number of courses are:\n",
    "\n",
    "1. University of Pennsylvania: 59\n",
    "2. University of Michigan: 41\n",
    "3. Google Cloud: 34\n",
    "4. Johns Hopkins University: 28\n",
    "5. Duke University: 28\n",
    "6. University of California, Irvine: 27\n",
    "7. University of Illinois at Urbana-Champaign: 22\n",
    "8. IBM: 22\n",
    "9. University of California, Davis: 21\n",
    "10. University of Colorado Boulder: 19"
   ]
  },
  {
   "cell_type": "code",
   "execution_count": 140,
   "id": "golden-graphics",
   "metadata": {
    "scrolled": true
   },
   "outputs": [
    {
     "data": {
      "text/html": [
       "<div>\n",
       "<style scoped>\n",
       "    .dataframe tbody tr th:only-of-type {\n",
       "        vertical-align: middle;\n",
       "    }\n",
       "\n",
       "    .dataframe tbody tr th {\n",
       "        vertical-align: top;\n",
       "    }\n",
       "\n",
       "    .dataframe thead th {\n",
       "        text-align: right;\n",
       "    }\n",
       "</style>\n",
       "<table border=\"1\" class=\"dataframe\">\n",
       "  <thead>\n",
       "    <tr style=\"text-align: right;\">\n",
       "      <th></th>\n",
       "      <th>Course</th>\n",
       "    </tr>\n",
       "    <tr>\n",
       "      <th>Organization</th>\n",
       "      <th></th>\n",
       "    </tr>\n",
       "  </thead>\n",
       "  <tbody>\n",
       "    <tr>\n",
       "      <th>Total Number of Courses</th>\n",
       "      <td>891</td>\n",
       "    </tr>\n",
       "    <tr>\n",
       "      <th>University of Pennsylvania</th>\n",
       "      <td>59</td>\n",
       "    </tr>\n",
       "    <tr>\n",
       "      <th>University of Michigan</th>\n",
       "      <td>41</td>\n",
       "    </tr>\n",
       "    <tr>\n",
       "      <th>Google Cloud</th>\n",
       "      <td>34</td>\n",
       "    </tr>\n",
       "    <tr>\n",
       "      <th>Johns Hopkins University</th>\n",
       "      <td>28</td>\n",
       "    </tr>\n",
       "    <tr>\n",
       "      <th>Duke University</th>\n",
       "      <td>28</td>\n",
       "    </tr>\n",
       "    <tr>\n",
       "      <th>University of California, Irvine</th>\n",
       "      <td>27</td>\n",
       "    </tr>\n",
       "    <tr>\n",
       "      <th>University of Illinois at Urbana-Champaign</th>\n",
       "      <td>22</td>\n",
       "    </tr>\n",
       "    <tr>\n",
       "      <th>IBM</th>\n",
       "      <td>22</td>\n",
       "    </tr>\n",
       "    <tr>\n",
       "      <th>University of California, Davis</th>\n",
       "      <td>21</td>\n",
       "    </tr>\n",
       "    <tr>\n",
       "      <th>University of Colorado Boulder</th>\n",
       "      <td>19</td>\n",
       "    </tr>\n",
       "  </tbody>\n",
       "</table>\n",
       "</div>"
      ],
      "text/plain": [
       "                                            Course\n",
       "Organization                                      \n",
       "Total Number of Courses                        891\n",
       "University of Pennsylvania                      59\n",
       "University of Michigan                          41\n",
       "Google Cloud                                    34\n",
       "Johns Hopkins University                        28\n",
       "Duke University                                 28\n",
       "University of California, Irvine                27\n",
       "University of Illinois at Urbana-Champaign      22\n",
       "IBM                                             22\n",
       "University of California, Davis                 21\n",
       "University of Colorado Boulder                  19"
      ]
     },
     "execution_count": 140,
     "metadata": {},
     "output_type": "execute_result"
    }
   ],
   "source": [
    "organizations = coursera.pivot_table('Course', index = 'Organization', aggfunc ='count', dropna = True, \n",
    "                                     margins = True, margins_name = 'Total Number of Courses')\n",
    "organizations.sort_values('Course', ascending = False).head(11)"
   ]
  },
  {
   "cell_type": "code",
   "execution_count": 141,
   "id": "indonesian-estate",
   "metadata": {},
   "outputs": [
    {
     "data": {
      "image/png": "[encoded data removed]",
      "text/plain": [
       "<Figure size 1080x576 with 1 Axes>"
      ]
     },
     "metadata": {
      "needs_background": "light"
     },
     "output_type": "display_data"
    }
   ],
   "source": [
    "organizations = organizations.drop('Total Number of Courses', axis=0)\n",
    "organizations.sort_values('Course', ascending = False).head(11).plot.bar(rot=90, color = ('mediumseagreen'), figsize = (15,8));"
   ]
  },
  {
   "cell_type": "markdown",
   "id": "honest-column",
   "metadata": {},
   "source": [
    "The following 10 organizations have only ONE course offering at Coursera:\n",
    "\n",
    "1. Peter the Great St. Petersburg Polytechnic University\n",
    "2. Palo Alto Networks\n",
    "3. Osmosis\n",
    "4. Novosibirsk State University\n",
    "5. National Taiwan University\n",
    "6. National Arts Strategies\n",
    "7. Nanyang Technological University, Singapore\n",
    "8. McMaster University\n",
    "9. MathWorks\n",
    "10. École des Ponts ParisTech"
   ]
  },
  {
   "cell_type": "code",
   "execution_count": 145,
   "id": "sorted-triple",
   "metadata": {},
   "outputs": [
    {
     "data": {
      "text/html": [
       "<div>\n",
       "<style scoped>\n",
       "    .dataframe tbody tr th:only-of-type {\n",
       "        vertical-align: middle;\n",
       "    }\n",
       "\n",
       "    .dataframe tbody tr th {\n",
       "        vertical-align: top;\n",
       "    }\n",
       "\n",
       "    .dataframe thead th {\n",
       "        text-align: right;\n",
       "    }\n",
       "</style>\n",
       "<table border=\"1\" class=\"dataframe\">\n",
       "  <thead>\n",
       "    <tr style=\"text-align: right;\">\n",
       "      <th></th>\n",
       "      <th>Course</th>\n",
       "    </tr>\n",
       "    <tr>\n",
       "      <th>Organization</th>\n",
       "      <th></th>\n",
       "    </tr>\n",
       "  </thead>\n",
       "  <tbody>\n",
       "    <tr>\n",
       "      <th>Peter the Great St. Petersburg Polytechnic University</th>\n",
       "      <td>1</td>\n",
       "    </tr>\n",
       "    <tr>\n",
       "      <th>Palo Alto Networks</th>\n",
       "      <td>1</td>\n",
       "    </tr>\n",
       "    <tr>\n",
       "      <th>Osmosis</th>\n",
       "      <td>1</td>\n",
       "    </tr>\n",
       "    <tr>\n",
       "      <th>Novosibirsk State University</th>\n",
       "      <td>1</td>\n",
       "    </tr>\n",
       "    <tr>\n",
       "      <th>National Taiwan University</th>\n",
       "      <td>1</td>\n",
       "    </tr>\n",
       "    <tr>\n",
       "      <th>National Arts Strategies</th>\n",
       "      <td>1</td>\n",
       "    </tr>\n",
       "    <tr>\n",
       "      <th>Nanyang Technological University, Singapore</th>\n",
       "      <td>1</td>\n",
       "    </tr>\n",
       "    <tr>\n",
       "      <th>McMaster University</th>\n",
       "      <td>1</td>\n",
       "    </tr>\n",
       "    <tr>\n",
       "      <th>MathWorks</th>\n",
       "      <td>1</td>\n",
       "    </tr>\n",
       "    <tr>\n",
       "      <th>École des Ponts ParisTech</th>\n",
       "      <td>1</td>\n",
       "    </tr>\n",
       "  </tbody>\n",
       "</table>\n",
       "</div>"
      ],
      "text/plain": [
       "                                                    Course\n",
       "Organization                                              \n",
       "Peter the Great St. Petersburg Polytechnic Univ...       1\n",
       "Palo Alto Networks                                       1\n",
       "Osmosis                                                  1\n",
       "Novosibirsk State University                             1\n",
       "National Taiwan University                               1\n",
       "National Arts Strategies                                 1\n",
       "Nanyang Technological University, Singapore              1\n",
       "McMaster University                                      1\n",
       "MathWorks                                                1\n",
       "École des Ponts ParisTech                                1"
      ]
     },
     "execution_count": 145,
     "metadata": {},
     "output_type": "execute_result"
    }
   ],
   "source": [
    "organizations = coursera.pivot_table('Course', index = 'Organization', aggfunc ='count', dropna = True)\n",
    "organizations.sort_values('Course', ascending = False).tail(10)"
   ]
  },
  {
   "cell_type": "markdown",
   "id": "injured-strengthening",
   "metadata": {},
   "source": [
    "## Courses\n",
    "\n",
    "In this section, I will answer the following questions:\n",
    "\n",
    "1. How many unique course titles does Coursera offer?\n",
    "2. What are the ten course titles with the highest enrollment?\n",
    "3. What are the ten course titles with the lowest enrollment? "
   ]
  },
  {
   "cell_type": "markdown",
   "id": "exposed-shield",
   "metadata": {},
   "source": [
    "Coursera offers 888 unique course titles. "
   ]
  },
  {
   "cell_type": "code",
   "execution_count": 146,
   "id": "another-import",
   "metadata": {},
   "outputs": [
    {
     "data": {
      "text/plain": [
       "888"
      ]
     },
     "execution_count": 146,
     "metadata": {},
     "output_type": "execute_result"
    }
   ],
   "source": [
    "len(coursera['Course'].unique().tolist())"
   ]
  },
  {
   "cell_type": "markdown",
   "id": "alone-monkey",
   "metadata": {},
   "source": [
    "The 10 course titles with the highest enrollment at Coursera are:\n",
    "\n",
    "1. Machine Learning: 3,490,000\n",
    "2. The Science of Well-Being: 2,500,000\n",
    "3. Python for Everybody: 1,500,000\n",
    "4. Programming for Everybody (Getting Started with Python): 1,300,000\n",
    "5. Data Science: 830,000\n",
    "6. Career Success: 790,000\n",
    "7. English for Career Development: 760,000\n",
    "8. Successful Negotiation: Essential Strategies and Skills: 750,000\n",
    "9. Data Science: Foundations using R: 740,000\n",
    "10. Deep Learning: 690,000"
   ]
  },
  {
   "cell_type": "code",
   "execution_count": 147,
   "id": "casual-imaging",
   "metadata": {
    "scrolled": true
   },
   "outputs": [
    {
     "data": {
      "text/html": [
       "<div>\n",
       "<style scoped>\n",
       "    .dataframe tbody tr th:only-of-type {\n",
       "        vertical-align: middle;\n",
       "    }\n",
       "\n",
       "    .dataframe tbody tr th {\n",
       "        vertical-align: top;\n",
       "    }\n",
       "\n",
       "    .dataframe thead th {\n",
       "        text-align: right;\n",
       "    }\n",
       "</style>\n",
       "<table border=\"1\" class=\"dataframe\">\n",
       "  <thead>\n",
       "    <tr style=\"text-align: right;\">\n",
       "      <th></th>\n",
       "      <th>Enrollment</th>\n",
       "    </tr>\n",
       "    <tr>\n",
       "      <th>Course</th>\n",
       "      <th></th>\n",
       "    </tr>\n",
       "  </thead>\n",
       "  <tbody>\n",
       "    <tr>\n",
       "      <th>Machine Learning</th>\n",
       "      <td>3490000</td>\n",
       "    </tr>\n",
       "    <tr>\n",
       "      <th>The Science of Well-Being</th>\n",
       "      <td>2500000</td>\n",
       "    </tr>\n",
       "    <tr>\n",
       "      <th>Python for Everybody</th>\n",
       "      <td>1500000</td>\n",
       "    </tr>\n",
       "    <tr>\n",
       "      <th>Programming for Everybody (Getting Started with Python)</th>\n",
       "      <td>1300000</td>\n",
       "    </tr>\n",
       "    <tr>\n",
       "      <th>Data Science</th>\n",
       "      <td>830000</td>\n",
       "    </tr>\n",
       "    <tr>\n",
       "      <th>Career Success</th>\n",
       "      <td>790000</td>\n",
       "    </tr>\n",
       "    <tr>\n",
       "      <th>English for Career Development</th>\n",
       "      <td>760000</td>\n",
       "    </tr>\n",
       "    <tr>\n",
       "      <th>Successful Negotiation: Essential Strategies and Skills</th>\n",
       "      <td>750000</td>\n",
       "    </tr>\n",
       "    <tr>\n",
       "      <th>Data Science: Foundations using R</th>\n",
       "      <td>740000</td>\n",
       "    </tr>\n",
       "    <tr>\n",
       "      <th>Deep Learning</th>\n",
       "      <td>690000</td>\n",
       "    </tr>\n",
       "  </tbody>\n",
       "</table>\n",
       "</div>"
      ],
      "text/plain": [
       "                                                    Enrollment\n",
       "Course                                                        \n",
       "Machine Learning                                       3490000\n",
       "The Science of Well-Being                              2500000\n",
       "Python for Everybody                                   1500000\n",
       "Programming for Everybody (Getting Started with...     1300000\n",
       "Data Science                                            830000\n",
       "Career Success                                          790000\n",
       "English for Career Development                          760000\n",
       "Successful Negotiation: Essential Strategies an...      750000\n",
       "Data Science: Foundations using R                       740000\n",
       "Deep Learning                                           690000"
      ]
     },
     "execution_count": 147,
     "metadata": {},
     "output_type": "execute_result"
    }
   ],
   "source": [
    "courses = coursera.pivot_table('Enrollment', index = 'Course', aggfunc='sum')\n",
    "courses.sort_values('Enrollment', ascending = False).head(10)"
   ]
  },
  {
   "cell_type": "code",
   "execution_count": 152,
   "id": "likely-argentina",
   "metadata": {},
   "outputs": [
    {
     "data": {
      "image/png": "[encoded data removed]",
      "text/plain": [
       "<Figure size 1080x576 with 1 Axes>"
      ]
     },
     "metadata": {
      "needs_background": "light"
     },
     "output_type": "display_data"
    }
   ],
   "source": [
    "courses.sort_values('Enrollment', ascending = False).head(10).plot.bar(rot=90, color = ('mediumseagreen'), figsize = (15,8));"
   ]
  },
  {
   "cell_type": "markdown",
   "id": "super-greene",
   "metadata": {},
   "source": [
    "The 10 courses with the lowest enrollment are: \n",
    "    \n",
    "1. International Security Management: 2,200\n",
    "2. Implementing RPA with Cognitive Automation and Analytics: 2,200\n",
    "3. Blended Language Learning: Design and Practice for Teachers: 1,900\n",
    "4. Esports: 1,800\n",
    "5. Healthcare Law: 1,700\n",
    "6. The Pronunciation of American English: 1,700\n",
    "7. Identifying, Monitoring, and Analyzing Risk and Incident Response and Recovery: 1,700\n",
    "8. Blockchain Revolution in Financial Services: 1,600\n",
    "9. Infectious Disease Modelling: 1,600\n",
    "10. El Abogado del Futuro: Legaltech y la Transformación Digital del Derecho: 1,500"
   ]
  },
  {
   "cell_type": "code",
   "execution_count": 150,
   "id": "moving-mission",
   "metadata": {},
   "outputs": [
    {
     "data": {
      "text/html": [
       "<div>\n",
       "<style scoped>\n",
       "    .dataframe tbody tr th:only-of-type {\n",
       "        vertical-align: middle;\n",
       "    }\n",
       "\n",
       "    .dataframe tbody tr th {\n",
       "        vertical-align: top;\n",
       "    }\n",
       "\n",
       "    .dataframe thead th {\n",
       "        text-align: right;\n",
       "    }\n",
       "</style>\n",
       "<table border=\"1\" class=\"dataframe\">\n",
       "  <thead>\n",
       "    <tr style=\"text-align: right;\">\n",
       "      <th></th>\n",
       "      <th>Enrollment</th>\n",
       "    </tr>\n",
       "    <tr>\n",
       "      <th>Course</th>\n",
       "      <th></th>\n",
       "    </tr>\n",
       "  </thead>\n",
       "  <tbody>\n",
       "    <tr>\n",
       "      <th>International Security Management</th>\n",
       "      <td>2200</td>\n",
       "    </tr>\n",
       "    <tr>\n",
       "      <th>Implementing RPA with Cognitive Automation and Analytics</th>\n",
       "      <td>2200</td>\n",
       "    </tr>\n",
       "    <tr>\n",
       "      <th>Blended Language Learning: Design and Practice for Teachers</th>\n",
       "      <td>1900</td>\n",
       "    </tr>\n",
       "    <tr>\n",
       "      <th>Esports</th>\n",
       "      <td>1800</td>\n",
       "    </tr>\n",
       "    <tr>\n",
       "      <th>Healthcare Law</th>\n",
       "      <td>1700</td>\n",
       "    </tr>\n",
       "    <tr>\n",
       "      <th>The Pronunciation of American English</th>\n",
       "      <td>1700</td>\n",
       "    </tr>\n",
       "    <tr>\n",
       "      <th>Identifying, Monitoring, and Analyzing Risk and Incident Response and Recovery</th>\n",
       "      <td>1700</td>\n",
       "    </tr>\n",
       "    <tr>\n",
       "      <th>Blockchain Revolution in Financial Services</th>\n",
       "      <td>1600</td>\n",
       "    </tr>\n",
       "    <tr>\n",
       "      <th>Infectious Disease Modelling</th>\n",
       "      <td>1600</td>\n",
       "    </tr>\n",
       "    <tr>\n",
       "      <th>El Abogado del Futuro: Legaltech y la Transformación Digital del Derecho</th>\n",
       "      <td>1500</td>\n",
       "    </tr>\n",
       "  </tbody>\n",
       "</table>\n",
       "</div>"
      ],
      "text/plain": [
       "                                                    Enrollment\n",
       "Course                                                        \n",
       "International Security Management                         2200\n",
       "Implementing RPA with Cognitive Automation and ...        2200\n",
       "Blended Language Learning: Design and Practice ...        1900\n",
       "Esports                                                   1800\n",
       "Healthcare Law                                            1700\n",
       "The Pronunciation of American English                     1700\n",
       "Identifying, Monitoring, and Analyzing Risk and...        1700\n",
       "Blockchain Revolution in Financial Services               1600\n",
       "Infectious Disease Modelling                              1600\n",
       "El Abogado del Futuro: Legaltech y la Transform...        1500"
      ]
     },
     "execution_count": 150,
     "metadata": {},
     "output_type": "execute_result"
    }
   ],
   "source": [
    "courses = coursera.pivot_table('Enrollment', index = 'Course', aggfunc='sum')\n",
    "courses.sort_values('Enrollment', ascending = False).tail(10)"
   ]
  },
  {
   "cell_type": "code",
   "execution_count": 151,
   "id": "owned-evaluation",
   "metadata": {},
   "outputs": [
    {
     "data": {
      "image/png": "[encoded data removed]",
      "text/plain": [
       "<Figure size 1080x576 with 1 Axes>"
      ]
     },
     "metadata": {
      "needs_background": "light"
     },
     "output_type": "display_data"
    }
   ],
   "source": [
    "courses.sort_values('Enrollment', ascending = False).tail(10).plot.bar(rot=90, color = ('mediumseagreen'), figsize = (15,8));"
   ]
  },
  {
   "cell_type": "markdown",
   "id": "temporal-dress",
   "metadata": {},
   "source": [
    "## Difficulty Levels\n",
    "\n",
    "In this section, I will answer the following questions:\n",
    "\n",
    "1. What are the different difficulty levels at Coursea?\n",
    "2. What is the total enrollment of students at courses with each difficulty level?"
   ]
  },
  {
   "cell_type": "markdown",
   "id": "living-panic",
   "metadata": {},
   "source": [
    "Difficulty level of courses at Coursera are:\n",
    "\n",
    "1. Beginner\n",
    "2. Mixed\n",
    "3. Intermediate\n",
    "4. Advanced"
   ]
  },
  {
   "cell_type": "code",
   "execution_count": 33,
   "id": "future-partnership",
   "metadata": {},
   "outputs": [
    {
     "data": {
      "text/plain": [
       "['Beginner', 'Mixed', 'Intermediate', 'Advanced']"
      ]
     },
     "execution_count": 33,
     "metadata": {},
     "output_type": "execute_result"
    }
   ],
   "source": [
    "coursera['Difficulty'].unique().tolist()"
   ]
  },
  {
   "cell_type": "markdown",
   "id": "sized-family",
   "metadata": {},
   "source": [
    "Total enrollment at each difficulty level is: \n",
    "\n",
    "1. Beginner: 39,921,800\n",
    "2. Mixed: 24,989,400\n",
    "3. Intermediate: 14,506,300\n",
    "4. Advanced: 1,264,400"
   ]
  },
  {
   "cell_type": "code",
   "execution_count": 153,
   "id": "northern-indiana",
   "metadata": {},
   "outputs": [
    {
     "data": {
      "text/html": [
       "<div>\n",
       "<style scoped>\n",
       "    .dataframe tbody tr th:only-of-type {\n",
       "        vertical-align: middle;\n",
       "    }\n",
       "\n",
       "    .dataframe tbody tr th {\n",
       "        vertical-align: top;\n",
       "    }\n",
       "\n",
       "    .dataframe thead th {\n",
       "        text-align: right;\n",
       "    }\n",
       "</style>\n",
       "<table border=\"1\" class=\"dataframe\">\n",
       "  <thead>\n",
       "    <tr style=\"text-align: right;\">\n",
       "      <th></th>\n",
       "      <th>Enrollment</th>\n",
       "    </tr>\n",
       "    <tr>\n",
       "      <th>Difficulty</th>\n",
       "      <th></th>\n",
       "    </tr>\n",
       "  </thead>\n",
       "  <tbody>\n",
       "    <tr>\n",
       "      <th>Total Enrollment</th>\n",
       "      <td>80681900</td>\n",
       "    </tr>\n",
       "    <tr>\n",
       "      <th>Beginner</th>\n",
       "      <td>39921800</td>\n",
       "    </tr>\n",
       "    <tr>\n",
       "      <th>Mixed</th>\n",
       "      <td>24989400</td>\n",
       "    </tr>\n",
       "    <tr>\n",
       "      <th>Intermediate</th>\n",
       "      <td>14506300</td>\n",
       "    </tr>\n",
       "    <tr>\n",
       "      <th>Advanced</th>\n",
       "      <td>1264400</td>\n",
       "    </tr>\n",
       "  </tbody>\n",
       "</table>\n",
       "</div>"
      ],
      "text/plain": [
       "                  Enrollment\n",
       "Difficulty                  \n",
       "Total Enrollment    80681900\n",
       "Beginner            39921800\n",
       "Mixed               24989400\n",
       "Intermediate        14506300\n",
       "Advanced             1264400"
      ]
     },
     "execution_count": 153,
     "metadata": {},
     "output_type": "execute_result"
    }
   ],
   "source": [
    "difficulty = coursera.pivot_table('Enrollment', index = 'Difficulty', aggfunc='sum', \n",
    "                                  margins=True, margins_name = 'Total Enrollment')\n",
    "difficulty = difficulty.sort_values('Enrollment', ascending = False).head(10)\n",
    "difficulty"
   ]
  },
  {
   "cell_type": "code",
   "execution_count": 154,
   "id": "framed-chamber",
   "metadata": {},
   "outputs": [
    {
     "data": {
      "image/png": "[encoded data removed]",
      "text/plain": [
       "<Figure size 1080x576 with 1 Axes>"
      ]
     },
     "metadata": {
      "needs_background": "light"
     },
     "output_type": "display_data"
    }
   ],
   "source": [
    "difficulty = difficulty.drop('Total Enrollment', axis=0)\n",
    "difficulty.plot.bar(rot=90, color = ('mediumseagreen'), figsize = (15,8));"
   ]
  },
  {
   "cell_type": "markdown",
   "id": "seasonal-sector",
   "metadata": {},
   "source": [
    "## Certificates\n",
    "\n",
    "In this section, I will answer the following questions:\n",
    "\n",
    "1. What types of certificates can students earn at Coursera?\n",
    "2. What is the total number offered of each type of certificate?"
   ]
  },
  {
   "cell_type": "markdown",
   "id": "published-software",
   "metadata": {},
   "source": [
    "Students at Coursera can earn the following certificates:\n",
    "\n",
    "1. Professional\n",
    "2. Specialization\n",
    "3. Course"
   ]
  },
  {
   "cell_type": "code",
   "execution_count": 161,
   "id": "pointed-heating",
   "metadata": {},
   "outputs": [
    {
     "data": {
      "text/plain": [
       "['Professional ', 'Specialization', 'Course']"
      ]
     },
     "execution_count": 161,
     "metadata": {},
     "output_type": "execute_result"
    }
   ],
   "source": [
    "coursera['Certificate'].unique().tolist()"
   ]
  },
  {
   "cell_type": "markdown",
   "id": "automotive-shakespeare",
   "metadata": {},
   "source": [
    "The total number offered of each type of certificate?:\n",
    "\n",
    "1. Course: 51,131,300\n",
    "2. Specialization: 27,262,200\n",
    "3. Professional: 2,288,400"
   ]
  },
  {
   "cell_type": "code",
   "execution_count": 162,
   "id": "cardiovascular-characterization",
   "metadata": {
    "scrolled": true
   },
   "outputs": [
    {
     "data": {
      "text/html": [
       "<div>\n",
       "<style scoped>\n",
       "    .dataframe tbody tr th:only-of-type {\n",
       "        vertical-align: middle;\n",
       "    }\n",
       "\n",
       "    .dataframe tbody tr th {\n",
       "        vertical-align: top;\n",
       "    }\n",
       "\n",
       "    .dataframe thead th {\n",
       "        text-align: right;\n",
       "    }\n",
       "</style>\n",
       "<table border=\"1\" class=\"dataframe\">\n",
       "  <thead>\n",
       "    <tr style=\"text-align: right;\">\n",
       "      <th></th>\n",
       "      <th>Enrollment</th>\n",
       "    </tr>\n",
       "    <tr>\n",
       "      <th>Certificate</th>\n",
       "      <th></th>\n",
       "    </tr>\n",
       "  </thead>\n",
       "  <tbody>\n",
       "    <tr>\n",
       "      <th>Total Enrollment</th>\n",
       "      <td>80681900</td>\n",
       "    </tr>\n",
       "    <tr>\n",
       "      <th>Course</th>\n",
       "      <td>51131300</td>\n",
       "    </tr>\n",
       "    <tr>\n",
       "      <th>Specialization</th>\n",
       "      <td>27262200</td>\n",
       "    </tr>\n",
       "    <tr>\n",
       "      <th>Professional</th>\n",
       "      <td>2288400</td>\n",
       "    </tr>\n",
       "  </tbody>\n",
       "</table>\n",
       "</div>"
      ],
      "text/plain": [
       "                  Enrollment\n",
       "Certificate                 \n",
       "Total Enrollment    80681900\n",
       "Course              51131300\n",
       "Specialization      27262200\n",
       "Professional         2288400"
      ]
     },
     "execution_count": 162,
     "metadata": {},
     "output_type": "execute_result"
    }
   ],
   "source": [
    "certificates = coursera.pivot_table('Enrollment', index = 'Certificate', aggfunc='sum', \n",
    "                                    margins=True, margins_name = 'Total Enrollment')\n",
    "certificates.sort_values('Enrollment', ascending = False).head(10)"
   ]
  },
  {
   "cell_type": "code",
   "execution_count": 165,
   "id": "informative-logan",
   "metadata": {},
   "outputs": [
    {
     "data": {
      "image/png": "[encoded data removed]",
      "text/plain": [
       "<Figure size 1080x576 with 1 Axes>"
      ]
     },
     "metadata": {
      "needs_background": "light"
     },
     "output_type": "display_data"
    }
   ],
   "source": [
    "certificates = certificates.drop('Total Enrollment', axis=0)\n",
    "certificates.sort_values('Enrollment', ascending = False).head(10).plot.bar(rot=90, color = ('mediumseagreen'), figsize = (15,8));"
   ]
  },
  {
   "cell_type": "markdown",
   "id": "forward-premium",
   "metadata": {},
   "source": [
    "## Ratings\n",
    "\n",
    "In this section, I will answer the following questions:\n",
    "\n",
    "1. What are the top ten highest rated courses?\n",
    "2. What are the bottom ten lowest rated courses?\n",
    "3. What are the top ten highest rated organizations? \n",
    "4. What are the bottom ten lowest rated organizations?"
   ]
  },
  {
   "cell_type": "markdown",
   "id": "lonely-confidentiality",
   "metadata": {},
   "source": [
    "The top 10 highest rated courses at Coursera are:\n",
    "\n",
    "1. Infectious Disease Modelling: 5.00\n",
    "2. El Abogado del Futuro: Legaltech y la Transformación Digital del Derecho: 5.00\n",
    "3. Stories of Infection: 4.90\n",
    "4. Boosting Creativity for Innovation: 4.90\n",
    "5. Brand Management: Aligning Business, Brand and Behaviour: 4.90\n",
    "6. Understanding Einstein: The Special Theory of Relativity: 4.90\n",
    "7. Bugs 101: Insect-Human Interactions: 4.90\n",
    "8. Build a Modern Computer from First Principles: From Nand to Tetris (Project-Centered Course): 4.90\n",
    "9. Introduction to Psychology: 4.90\n",
    "10. Everyday Parenting: The ABCs of Child Rearing: 4.90"
   ]
  },
  {
   "cell_type": "code",
   "execution_count": 166,
   "id": "normal-failing",
   "metadata": {
    "scrolled": false
   },
   "outputs": [
    {
     "data": {
      "text/html": [
       "<div>\n",
       "<style scoped>\n",
       "    .dataframe tbody tr th:only-of-type {\n",
       "        vertical-align: middle;\n",
       "    }\n",
       "\n",
       "    .dataframe tbody tr th {\n",
       "        vertical-align: top;\n",
       "    }\n",
       "\n",
       "    .dataframe thead th {\n",
       "        text-align: right;\n",
       "    }\n",
       "</style>\n",
       "<table border=\"1\" class=\"dataframe\">\n",
       "  <thead>\n",
       "    <tr style=\"text-align: right;\">\n",
       "      <th></th>\n",
       "      <th>Rating</th>\n",
       "    </tr>\n",
       "    <tr>\n",
       "      <th>Course</th>\n",
       "      <th></th>\n",
       "    </tr>\n",
       "  </thead>\n",
       "  <tbody>\n",
       "    <tr>\n",
       "      <th>Infectious Disease Modelling</th>\n",
       "      <td>5.00</td>\n",
       "    </tr>\n",
       "    <tr>\n",
       "      <th>El Abogado del Futuro: Legaltech y la Transformación Digital del Derecho</th>\n",
       "      <td>5.00</td>\n",
       "    </tr>\n",
       "    <tr>\n",
       "      <th>Stories of Infection</th>\n",
       "      <td>4.90</td>\n",
       "    </tr>\n",
       "    <tr>\n",
       "      <th>Boosting Creativity for Innovation</th>\n",
       "      <td>4.90</td>\n",
       "    </tr>\n",
       "    <tr>\n",
       "      <th>Brand Management: Aligning Business, Brand and Behaviour</th>\n",
       "      <td>4.90</td>\n",
       "    </tr>\n",
       "    <tr>\n",
       "      <th>Understanding Einstein: The Special Theory of Relativity</th>\n",
       "      <td>4.90</td>\n",
       "    </tr>\n",
       "    <tr>\n",
       "      <th>Bugs 101: Insect-Human Interactions</th>\n",
       "      <td>4.90</td>\n",
       "    </tr>\n",
       "    <tr>\n",
       "      <th>Build a Modern Computer from First Principles: From Nand to Tetris (Project-Centered Course)</th>\n",
       "      <td>4.90</td>\n",
       "    </tr>\n",
       "    <tr>\n",
       "      <th>Introduction to Psychology</th>\n",
       "      <td>4.90</td>\n",
       "    </tr>\n",
       "    <tr>\n",
       "      <th>Everyday Parenting: The ABCs of Child Rearing</th>\n",
       "      <td>4.90</td>\n",
       "    </tr>\n",
       "  </tbody>\n",
       "</table>\n",
       "</div>"
      ],
      "text/plain": [
       "                                                   Rating\n",
       "Course                                                   \n",
       "Infectious Disease Modelling                         5.00\n",
       "El Abogado del Futuro: Legaltech y la Transform...   5.00\n",
       "Stories of Infection                                 4.90\n",
       "Boosting Creativity for Innovation                   4.90\n",
       "Brand Management: Aligning Business, Brand and ...   4.90\n",
       "Understanding Einstein: The Special Theory of R...   4.90\n",
       "Bugs 101: Insect-Human Interactions                  4.90\n",
       "Build a Modern Computer from First Principles: ...   4.90\n",
       "Introduction to Psychology                           4.90\n",
       "Everyday Parenting: The ABCs of Child Rearing        4.90"
      ]
     },
     "execution_count": 166,
     "metadata": {},
     "output_type": "execute_result"
    }
   ],
   "source": [
    "ratings = coursera.pivot_table('Rating', index = 'Course')\n",
    "ratings.sort_values('Rating', ascending = False).head(10).applymap('{:,.2f}'.format)"
   ]
  },
  {
   "cell_type": "markdown",
   "id": "large-category",
   "metadata": {},
   "source": [
    "The bottom 10 lowest rated courses at Coursera are:\n",
    "\n",
    "1. Optical Engineering: 4.20\n",
    "2. Foundations of Marketing Analytics: 4.20\n",
    "3. Instructional Design Foundations and Applications: 4.20\n",
    "4. How to Start Your Own Business: 4.10\n",
    "5. Introduction to Trading, Machine Learning & GC: 4.00\n",
    "6. Mathematics for Machine Learning: PCA: 4.00\n",
    "7. iOS App Development with Swift: 3.90\n",
    "8. Machine Learning for Trading: 3.90\n",
    "9. Machine Learning and Reinforcement Learning in Finance: 3.70\n",
    "10. How To Create a Website in a Weekend! (Project-Centered Course): 3.30"
   ]
  },
  {
   "cell_type": "code",
   "execution_count": 36,
   "id": "forbidden-belle",
   "metadata": {
    "scrolled": false
   },
   "outputs": [
    {
     "data": {
      "text/html": [
       "<div>\n",
       "<style scoped>\n",
       "    .dataframe tbody tr th:only-of-type {\n",
       "        vertical-align: middle;\n",
       "    }\n",
       "\n",
       "    .dataframe tbody tr th {\n",
       "        vertical-align: top;\n",
       "    }\n",
       "\n",
       "    .dataframe thead th {\n",
       "        text-align: right;\n",
       "    }\n",
       "</style>\n",
       "<table border=\"1\" class=\"dataframe\">\n",
       "  <thead>\n",
       "    <tr style=\"text-align: right;\">\n",
       "      <th></th>\n",
       "      <th>Rating</th>\n",
       "    </tr>\n",
       "    <tr>\n",
       "      <th>Course</th>\n",
       "      <th></th>\n",
       "    </tr>\n",
       "  </thead>\n",
       "  <tbody>\n",
       "    <tr>\n",
       "      <th>Optical Engineering</th>\n",
       "      <td>4.20</td>\n",
       "    </tr>\n",
       "    <tr>\n",
       "      <th>Foundations of Marketing Analytics</th>\n",
       "      <td>4.20</td>\n",
       "    </tr>\n",
       "    <tr>\n",
       "      <th>Instructional Design Foundations and Applications</th>\n",
       "      <td>4.20</td>\n",
       "    </tr>\n",
       "    <tr>\n",
       "      <th>How to Start Your Own Business</th>\n",
       "      <td>4.10</td>\n",
       "    </tr>\n",
       "    <tr>\n",
       "      <th>Introduction to Trading, Machine Learning &amp; GCP</th>\n",
       "      <td>4.00</td>\n",
       "    </tr>\n",
       "    <tr>\n",
       "      <th>Mathematics for Machine Learning: PCA</th>\n",
       "      <td>4.00</td>\n",
       "    </tr>\n",
       "    <tr>\n",
       "      <th>iOS App Development with Swift</th>\n",
       "      <td>3.90</td>\n",
       "    </tr>\n",
       "    <tr>\n",
       "      <th>Machine Learning for Trading</th>\n",
       "      <td>3.90</td>\n",
       "    </tr>\n",
       "    <tr>\n",
       "      <th>Machine Learning and Reinforcement Learning in Finance</th>\n",
       "      <td>3.70</td>\n",
       "    </tr>\n",
       "    <tr>\n",
       "      <th>How To Create a Website in a Weekend! (Project-Centered Course)</th>\n",
       "      <td>3.30</td>\n",
       "    </tr>\n",
       "  </tbody>\n",
       "</table>\n",
       "</div>"
      ],
      "text/plain": [
       "                                                   Rating\n",
       "Course                                                   \n",
       "Optical Engineering                                  4.20\n",
       "Foundations of Marketing Analytics                   4.20\n",
       "Instructional Design Foundations and Applications    4.20\n",
       "How to Start Your Own Business                       4.10\n",
       "Introduction to Trading, Machine Learning & GCP      4.00\n",
       "Mathematics for Machine Learning: PCA                4.00\n",
       "iOS App Development with Swift                       3.90\n",
       "Machine Learning for Trading                         3.90\n",
       "Machine Learning and Reinforcement Learning in ...   3.70\n",
       "How To Create a Website in a Weekend! (Project-...   3.30"
      ]
     },
     "execution_count": 36,
     "metadata": {},
     "output_type": "execute_result"
    }
   ],
   "source": [
    "ratings = coursera.pivot_table('Rating', index = 'Course')\n",
    "ratings.sort_values('Rating', ascending = False).tail(10).applymap('{:,.2f}'.format)"
   ]
  },
  {
   "cell_type": "markdown",
   "id": "entitled-leone",
   "metadata": {},
   "source": [
    "The top 10 highest rated organizations at Coursera are:\n",
    "\n",
    "1. Hebrew University of Jerusalem: 4.90\n",
    "2. Nanyang Technological University, Singapore: 4.90\n",
    "3. Universidade Estadual de Campinas: 4.90\n",
    "4. Crece con Google: 4.90\n",
    "5. London Business School: 4.90\n",
    "6. Google - Spectrum Sharing: 4.90\n",
    "7. ScrumTrek: 4.90\n",
    "8. Universidade de São Paulo: 4.87\n",
    "9. The University of Chicago: 4.85\n",
    "10. Universidad de los Andes: 4.82"
   ]
  },
  {
   "cell_type": "code",
   "execution_count": 32,
   "id": "distributed-damages",
   "metadata": {
    "scrolled": true
   },
   "outputs": [
    {
     "data": {
      "text/html": [
       "<div>\n",
       "<style scoped>\n",
       "    .dataframe tbody tr th:only-of-type {\n",
       "        vertical-align: middle;\n",
       "    }\n",
       "\n",
       "    .dataframe tbody tr th {\n",
       "        vertical-align: top;\n",
       "    }\n",
       "\n",
       "    .dataframe thead th {\n",
       "        text-align: right;\n",
       "    }\n",
       "</style>\n",
       "<table border=\"1\" class=\"dataframe\">\n",
       "  <thead>\n",
       "    <tr style=\"text-align: right;\">\n",
       "      <th></th>\n",
       "      <th>Rating</th>\n",
       "    </tr>\n",
       "    <tr>\n",
       "      <th>Organization</th>\n",
       "      <th></th>\n",
       "    </tr>\n",
       "  </thead>\n",
       "  <tbody>\n",
       "    <tr>\n",
       "      <th>Hebrew University of Jerusalem</th>\n",
       "      <td>4.90</td>\n",
       "    </tr>\n",
       "    <tr>\n",
       "      <th>Nanyang Technological University, Singapore</th>\n",
       "      <td>4.90</td>\n",
       "    </tr>\n",
       "    <tr>\n",
       "      <th>Universidade Estadual de Campinas</th>\n",
       "      <td>4.90</td>\n",
       "    </tr>\n",
       "    <tr>\n",
       "      <th>Crece con Google</th>\n",
       "      <td>4.90</td>\n",
       "    </tr>\n",
       "    <tr>\n",
       "      <th>London Business School</th>\n",
       "      <td>4.90</td>\n",
       "    </tr>\n",
       "    <tr>\n",
       "      <th>Google - Spectrum Sharing</th>\n",
       "      <td>4.90</td>\n",
       "    </tr>\n",
       "    <tr>\n",
       "      <th>ScrumTrek</th>\n",
       "      <td>4.90</td>\n",
       "    </tr>\n",
       "    <tr>\n",
       "      <th>Universidade de São Paulo</th>\n",
       "      <td>4.87</td>\n",
       "    </tr>\n",
       "    <tr>\n",
       "      <th>The University of Chicago</th>\n",
       "      <td>4.85</td>\n",
       "    </tr>\n",
       "    <tr>\n",
       "      <th>Universidad de los Andes</th>\n",
       "      <td>4.82</td>\n",
       "    </tr>\n",
       "  </tbody>\n",
       "</table>\n",
       "</div>"
      ],
      "text/plain": [
       "                                            Rating\n",
       "Organization                                      \n",
       "Hebrew University of Jerusalem                4.90\n",
       "Nanyang Technological University, Singapore   4.90\n",
       "Universidade Estadual de Campinas             4.90\n",
       "Crece con Google                              4.90\n",
       "London Business School                        4.90\n",
       "Google - Spectrum Sharing                     4.90\n",
       "ScrumTrek                                     4.90\n",
       "Universidade de São Paulo                     4.87\n",
       "The University of Chicago                     4.85\n",
       "Universidad de los Andes                      4.82"
      ]
     },
     "execution_count": 32,
     "metadata": {},
     "output_type": "execute_result"
    }
   ],
   "source": [
    "ratings = coursera.pivot_table('Rating', index = 'Organization')\n",
    "ratings.sort_values('Rating', ascending = False).head(10).applymap('{:,.2f}'.format)"
   ]
  },
  {
   "cell_type": "markdown",
   "id": "adjustable-villa",
   "metadata": {},
   "source": [
    "The bottom 10 lowest rated organizations at Coursera are:\n",
    "\n",
    "1. Peter the Great St. Petersburg Polytechnic University: 4.40\n",
    "2. American Institute of Business and Economics: 4.40\n",
    "3. Icahn School of Medicine at Mount Sinai: 4.40\n",
    "4. Novosibirsk State University: 4.40\n",
    "5. The Linux Foundation: 4.40\n",
    "6. Luther College at the University of Regina: 4.40\n",
    "7. Unity: 4.35\n",
    "8. New York Institute of Finance: 4.30\n",
    "9. Tsinghua University: 4.30\n",
    "10. The State University of New York: 4.27"
   ]
  },
  {
   "cell_type": "code",
   "execution_count": 33,
   "id": "defensive-issue",
   "metadata": {
    "scrolled": false
   },
   "outputs": [
    {
     "data": {
      "text/html": [
       "<div>\n",
       "<style scoped>\n",
       "    .dataframe tbody tr th:only-of-type {\n",
       "        vertical-align: middle;\n",
       "    }\n",
       "\n",
       "    .dataframe tbody tr th {\n",
       "        vertical-align: top;\n",
       "    }\n",
       "\n",
       "    .dataframe thead th {\n",
       "        text-align: right;\n",
       "    }\n",
       "</style>\n",
       "<table border=\"1\" class=\"dataframe\">\n",
       "  <thead>\n",
       "    <tr style=\"text-align: right;\">\n",
       "      <th></th>\n",
       "      <th>Rating</th>\n",
       "    </tr>\n",
       "    <tr>\n",
       "      <th>Organization</th>\n",
       "      <th></th>\n",
       "    </tr>\n",
       "  </thead>\n",
       "  <tbody>\n",
       "    <tr>\n",
       "      <th>Peter the Great St. Petersburg Polytechnic University</th>\n",
       "      <td>4.40</td>\n",
       "    </tr>\n",
       "    <tr>\n",
       "      <th>American Institute of Business and Economics</th>\n",
       "      <td>4.40</td>\n",
       "    </tr>\n",
       "    <tr>\n",
       "      <th>Icahn School of Medicine at Mount Sinai</th>\n",
       "      <td>4.40</td>\n",
       "    </tr>\n",
       "    <tr>\n",
       "      <th>Novosibirsk State University</th>\n",
       "      <td>4.40</td>\n",
       "    </tr>\n",
       "    <tr>\n",
       "      <th>The Linux Foundation</th>\n",
       "      <td>4.40</td>\n",
       "    </tr>\n",
       "    <tr>\n",
       "      <th>Luther College at the University of Regina</th>\n",
       "      <td>4.40</td>\n",
       "    </tr>\n",
       "    <tr>\n",
       "      <th>Unity</th>\n",
       "      <td>4.35</td>\n",
       "    </tr>\n",
       "    <tr>\n",
       "      <th>New York Institute of Finance</th>\n",
       "      <td>4.30</td>\n",
       "    </tr>\n",
       "    <tr>\n",
       "      <th>Tsinghua University</th>\n",
       "      <td>4.30</td>\n",
       "    </tr>\n",
       "    <tr>\n",
       "      <th>The State University of New York</th>\n",
       "      <td>4.27</td>\n",
       "    </tr>\n",
       "  </tbody>\n",
       "</table>\n",
       "</div>"
      ],
      "text/plain": [
       "                                                   Rating\n",
       "Organization                                             \n",
       "Peter the Great St. Petersburg Polytechnic Univ...   4.40\n",
       "American Institute of Business and Economics         4.40\n",
       "Icahn School of Medicine at Mount Sinai              4.40\n",
       "Novosibirsk State University                         4.40\n",
       "The Linux Foundation                                 4.40\n",
       "Luther College at the University of Regina           4.40\n",
       "Unity                                                4.35\n",
       "New York Institute of Finance                        4.30\n",
       "Tsinghua University                                  4.30\n",
       "The State University of New York                     4.27"
      ]
     },
     "execution_count": 33,
     "metadata": {},
     "output_type": "execute_result"
    }
   ],
   "source": [
    "ratings = coursera.pivot_table('Rating', index = 'Organization')\n",
    "ratings.sort_values('Rating', ascending = False).tail(10).applymap('{:,.2f}'.format)"
   ]
  },
  {
   "cell_type": "markdown",
   "id": "underlying-firewall",
   "metadata": {},
   "source": [
    "# Correlations\n",
    "\n",
    "In this section, I will answer the following questions:\n",
    "\n",
    "1. What is the corrleations between difficulty level of a course and enrollment? \n",
    "2. What is the corrleations between difficulty level and rating?\n",
    "3. What is the correlation between certificate type and enrollement? \n",
    "4. What is the correlation between certificate type and rating?"
   ]
  },
  {
   "cell_type": "markdown",
   "id": "third-discrimination",
   "metadata": {},
   "source": [
    "#### What is the corrleations between difficulty level and enrollment? "
   ]
  },
  {
   "cell_type": "markdown",
   "id": "bacterial-moment",
   "metadata": {},
   "source": [
    "#### What is the corrleations between difficulty level and rating?"
   ]
  },
  {
   "cell_type": "markdown",
   "id": "assigned-machine",
   "metadata": {},
   "source": [
    "#### What is the correlation between certificate type and enrollement? "
   ]
  },
  {
   "cell_type": "markdown",
   "id": "metallic-stand",
   "metadata": {},
   "source": [
    "#### What is the correlation between certificate type and rating?"
   ]
  },
  {
   "cell_type": "markdown",
   "id": "marked-puppy",
   "metadata": {},
   "source": [
    "#### What is the correlation between university status and enrollment?"
   ]
  },
  {
   "cell_type": "markdown",
   "id": "alone-actress",
   "metadata": {},
   "source": [
    "#### What is the correlation between univeristy status and rating?"
   ]
  },
  {
   "cell_type": "markdown",
   "id": "extreme-jacksonville",
   "metadata": {},
   "source": [
    "#### What is the correlation between type of course and enrollment?"
   ]
  },
  {
   "cell_type": "markdown",
   "id": "indirect-anatomy",
   "metadata": {},
   "source": [
    "#### What is the correlation between type of course and rating?"
   ]
  },
  {
   "cell_type": "markdown",
   "id": "ranking-master",
   "metadata": {},
   "source": [
    "# Conclusions"
   ]
  },
  {
   "cell_type": "markdown",
   "id": "genetic-black",
   "metadata": {},
   "source": [
    "1. Offering **BIGINNER LEVEL** courses will **INCREASE** enrollment.\n",
    "> * Approximately 80% of enrollment at Coursera is in courses of Biginner or Mixed difficulty level. <br>\n",
    "> * Approximately 50% of enrollment at Coursera is in courses of Bigginner difficulty level. \n",
    "> * Only about 1.5% of enrollment is in courses of Advanced difficulty level. \n",
    "\n",
    "2. Offering courses from **SPECIFIC ORGANIZATIONS** will **INCREASE** enrollment.\n",
    "> * Approximately 50% of enrollment were in courses from the top 10 organizations. <br>\n",
    "> * Only about 10% of enrollment were in courses from the bottom 10 organizations. \n",
    "\n",
    "3. There are **SPECIFIC ORGANIZATIONS** that are more **PROLIFIC** course **CREATORS**.\n",
    "> * Most of the courses were taught by organizations in the top 10. <br>\n",
    "> * The magority or organizations had fewer than 5 course offerings.     \n",
    "\n",
    "4. Offering courses from **TECHNOLOGY** sector will **INCREASE** enrollment. \n",
    "> * The majority of enrollment were in courses in the technology sector. <br>\n",
    "> * Only ...% of enrollment were in courses were in non-technolgy sector. \n",
    "\n",
    "5. The **HIGHEST RATED COURSES** are **NOT** in the **TECHNOLOGY** sector. \n",
    "> * The courses in the technology sector were not the most highly rated. <br>\n",
    "> * ...% of highly rated courses were in non-technology sector. \n",
    "\n",
    "6. The **HIGHEST RATED ORGANIZATIONS** are **NOT AMERICAN**. \n",
    "> * The most highly rated organizations are not American. <br>\n",
    " "
   ]
  },
  {
   "cell_type": "markdown",
   "id": "ordinary-israeli",
   "metadata": {},
   "source": [
    "# Suggestions"
   ]
  },
  {
   "cell_type": "markdown",
   "id": "headed-assets",
   "metadata": {},
   "source": [
    "More knowledge about the particular characteristics of each feature of this dataset could improve the analysis. Furthermore, this analysis could be improved by focusing on one specific feature and identifying key ideas that could be useful in answering more specific questions."
   ]
  }
 ],
 "metadata": {
  "kernelspec": {
   "display_name": "Python 3",
   "language": "python",
   "name": "python3"
  },
  "language_info": {
   "codemirror_mode": {
    "name": "ipython",
    "version": 3
   },
   "file_extension": ".py",
   "mimetype": "text/x-python",
   "name": "python",
   "nbconvert_exporter": "python",
   "pygments_lexer": "ipython3",
   "version": "3.9.6"
  },
  "toc": {
   "base_numbering": 1,
   "nav_menu": {},
   "number_sections": true,
   "sideBar": true,
   "skip_h1_title": false,
   "title_cell": "Table of Contents",
   "title_sidebar": "Contents",
   "toc_cell": false,
   "toc_position": {},
   "toc_section_display": true,
   "toc_window_display": true
  }
 },
 "nbformat": 4,
 "nbformat_minor": 5
}
