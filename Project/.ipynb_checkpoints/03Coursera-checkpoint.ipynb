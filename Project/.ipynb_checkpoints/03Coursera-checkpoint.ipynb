{
 "cells": [
  {
   "cell_type": "markdown",
   "id": "answering-lawrence",
   "metadata": {},
   "source": [
    "# 03Coursera"
   ]
  },
  {
   "cell_type": "markdown",
   "id": "charming-triangle",
   "metadata": {},
   "source": [
    "##  Introduction\n",
    "Tilto, Inc. is a Lithuanian education and technology company, registered in the United States. Tilto is planning to create a company with Coursera as a model. Coursera was founded by Daphne Koller and Andrew Ng in 2012 with a vision of providing life-transforming learning experiences to learners around the world. Today, Coursera is a global online learning platform that offers anyone, anywhere, access to online courses and degrees from leading universities and companies. \n",
    "\n",
    "Tilto means bridge in Lithuanian and the company plans to create a bridge between citizens of the world and their human potentials. Titlo has a similar vision as Coursera. Tilto plans to become an international company that impacts the world by making its citizens realize their innate potentials. Therefore, its leaders wish to understand what makes Coursera successful. They also want to know what has not worked and become an even better organization than Coursera. \n",
    "\n",
    "For this analysis, I will work with a dataset provided by Coursea and obtained from Kaggle to help Tilto, Inc achieve their vision."
   ]
  },
  {
   "cell_type": "markdown",
   "id": "veterinary-australian",
   "metadata": {},
   "source": [
    "## Goals\n",
    "\n",
    "The goal of this project is to analyze Coursera's current offering and advise Tilto's leadership on how to move forward with their vision. This analysis will answer the following questions:\n",
    "\n",
    "**Total Enrollment**\n",
    "1. How many students in total have enrolled at Coursera?\n",
    "\n",
    "**Organizations**\n",
    "1. Which ten organizations have the highest enrollment?\n",
    "2. Which ten organizations have the highest number of courses?\n",
    "\n",
    "**Courses**\n",
    "1. How many courses are taught at Coursera?\n",
    "2. What are the top ten course titles at Coursera?\n",
    "\n",
    "**Difficulty Levels**\n",
    "1. What are the different difficulty levels at Coursea?\n",
    "2. Which level of courses are more popular among learners?\n",
    "\n",
    "**Certificates**\n",
    "1. What types of certificates are provided at Coursera?\n",
    "2. What is the total number of each type of certificate offered?\n",
    "\n",
    "**Ratings**\n",
    "1. Which are the top ten highest rated courses by students?\n",
    "2. Which are the bottom ten lowest rated courses?\n",
    "3. Which are the top ten highest rated organizations? \n",
    "4. Which are the bottom ten lowest rated organizations?\n",
    "\n",
    "**Correlations**\n",
    "1. What is the corrleations between difficulty level of a course and enrollment? \n",
    "2. What is the corrleations between difficulty level and rating?\n",
    "2. What is the correlation between certificate type and enrollement? \n",
    "3. What is the correlation between certificate type and rating?\n",
    "\n",
    "**Imrpovements**\n",
    "1. How can Tilto become a better organization than Coursera?"
   ]
  },
  {
   "cell_type": "markdown",
   "id": "detailed-interstate",
   "metadata": {},
   "source": [
    "## Importing Libraries and Loading Data"
   ]
  },
  {
   "cell_type": "markdown",
   "id": "growing-organizer",
   "metadata": {},
   "source": [
    "### Importing Libraries"
   ]
  },
  {
   "cell_type": "code",
   "execution_count": 69,
   "id": "sunset-halloween",
   "metadata": {},
   "outputs": [],
   "source": [
    "%matplotlib inline\n",
    "\n",
    "import pandas as pd\n",
    "import numpy as np\n",
    "import seaborn as sns\n",
    "import matplotlib.pyplot as plt\n",
    "import warnings # Supresses FutureWarning that are unnecessary."
   ]
  },
  {
   "cell_type": "markdown",
   "id": "fatty-berlin",
   "metadata": {},
   "source": [
    "### Loading Data in Pandas\n",
    "\n",
    "The data is a csv file that I have dowloaded from Kaggle. In this section, I create a pandas dataframe object so I can work with the data."
   ]
  },
  {
   "cell_type": "code",
   "execution_count": 70,
   "id": "detected-computer",
   "metadata": {},
   "outputs": [],
   "source": [
    "coursera = pd.read_csv('C:\\py\\Projects\\TuringCollege\\Coursera\\DataSet\\coursera.csv', index_col = 0, skipinitialspace = True)"
   ]
  },
  {
   "cell_type": "markdown",
   "id": "confused-smoke",
   "metadata": {},
   "source": [
    "## Basic Information\n",
    "\n",
    "In this section, I will display the following information about this dataset:\n",
    "\n",
    "1. Number of rows and columns\n",
    "2. Total number of data enteries\n",
    "3. The first 5 rows\n",
    "4. The data types in this dataset"
   ]
  },
  {
   "cell_type": "markdown",
   "id": "demanding-sacramento",
   "metadata": {},
   "source": [
    "### Number of Rows and Columns \n",
    "\n",
    "This dataset is made of 891 rows and 6 columns."
   ]
  },
  {
   "cell_type": "code",
   "execution_count": 71,
   "id": "tired-contribution",
   "metadata": {},
   "outputs": [
    {
     "data": {
      "text/plain": [
       "(891, 6)"
      ]
     },
     "execution_count": 71,
     "metadata": {},
     "output_type": "execute_result"
    }
   ],
   "source": [
    "coursera.shape"
   ]
  },
  {
   "cell_type": "markdown",
   "id": "arctic-knowing",
   "metadata": {},
   "source": [
    "### Total Number of Entries \n",
    "\n",
    "This dataset is made of 5346 data enteries."
   ]
  },
  {
   "cell_type": "code",
   "execution_count": 72,
   "id": "upset-twins",
   "metadata": {},
   "outputs": [
    {
     "data": {
      "text/plain": [
       "5346"
      ]
     },
     "execution_count": 72,
     "metadata": {},
     "output_type": "execute_result"
    }
   ],
   "source": [
    "coursera.size"
   ]
  },
  {
   "cell_type": "markdown",
   "id": "editorial-closure",
   "metadata": {},
   "source": [
    "### The First Ten Rows"
   ]
  },
  {
   "cell_type": "code",
   "execution_count": 73,
   "id": "grave-procedure",
   "metadata": {
    "scrolled": true
   },
   "outputs": [
    {
     "data": {
      "text/html": [
       "<div>\n",
       "<style scoped>\n",
       "    .dataframe tbody tr th:only-of-type {\n",
       "        vertical-align: middle;\n",
       "    }\n",
       "\n",
       "    .dataframe tbody tr th {\n",
       "        vertical-align: top;\n",
       "    }\n",
       "\n",
       "    .dataframe thead th {\n",
       "        text-align: right;\n",
       "    }\n",
       "</style>\n",
       "<table border=\"1\" class=\"dataframe\">\n",
       "  <thead>\n",
       "    <tr style=\"text-align: right;\">\n",
       "      <th></th>\n",
       "      <th>course_title</th>\n",
       "      <th>course_organization</th>\n",
       "      <th>course_Certificate_type</th>\n",
       "      <th>course_rating</th>\n",
       "      <th>course_difficulty</th>\n",
       "      <th>course_students_enrolled</th>\n",
       "    </tr>\n",
       "  </thead>\n",
       "  <tbody>\n",
       "    <tr>\n",
       "      <th>0</th>\n",
       "      <td>IBM Data Science</td>\n",
       "      <td>IBM</td>\n",
       "      <td>PROFESSIONAL CERTIFICATE</td>\n",
       "      <td>4.6</td>\n",
       "      <td>Beginner</td>\n",
       "      <td>480k</td>\n",
       "    </tr>\n",
       "    <tr>\n",
       "      <th>1</th>\n",
       "      <td>Introduction to Data Science</td>\n",
       "      <td>IBM</td>\n",
       "      <td>SPECIALIZATION</td>\n",
       "      <td>4.6</td>\n",
       "      <td>Beginner</td>\n",
       "      <td>310k</td>\n",
       "    </tr>\n",
       "    <tr>\n",
       "      <th>2</th>\n",
       "      <td>The Science of Well-Being</td>\n",
       "      <td>Yale University</td>\n",
       "      <td>COURSE</td>\n",
       "      <td>4.9</td>\n",
       "      <td>Mixed</td>\n",
       "      <td>2.5m</td>\n",
       "    </tr>\n",
       "    <tr>\n",
       "      <th>3</th>\n",
       "      <td>Python for Everybody</td>\n",
       "      <td>University of Michigan</td>\n",
       "      <td>SPECIALIZATION</td>\n",
       "      <td>4.8</td>\n",
       "      <td>Beginner</td>\n",
       "      <td>1.5m</td>\n",
       "    </tr>\n",
       "    <tr>\n",
       "      <th>4</th>\n",
       "      <td>Google IT Support</td>\n",
       "      <td>Google</td>\n",
       "      <td>PROFESSIONAL CERTIFICATE</td>\n",
       "      <td>4.8</td>\n",
       "      <td>Beginner</td>\n",
       "      <td>350k</td>\n",
       "    </tr>\n",
       "    <tr>\n",
       "      <th>5</th>\n",
       "      <td>Deep Learning</td>\n",
       "      <td>deeplearning.ai</td>\n",
       "      <td>SPECIALIZATION</td>\n",
       "      <td>4.8</td>\n",
       "      <td>Intermediate</td>\n",
       "      <td>690k</td>\n",
       "    </tr>\n",
       "    <tr>\n",
       "      <th>6</th>\n",
       "      <td>Machine Learning</td>\n",
       "      <td>Stanford University</td>\n",
       "      <td>COURSE</td>\n",
       "      <td>4.9</td>\n",
       "      <td>Mixed</td>\n",
       "      <td>3.2m</td>\n",
       "    </tr>\n",
       "    <tr>\n",
       "      <th>7</th>\n",
       "      <td>Business Foundations</td>\n",
       "      <td>University of Pennsylvania</td>\n",
       "      <td>SPECIALIZATION</td>\n",
       "      <td>4.7</td>\n",
       "      <td>Beginner</td>\n",
       "      <td>510k</td>\n",
       "    </tr>\n",
       "    <tr>\n",
       "      <th>8</th>\n",
       "      <td>Applied Data Science</td>\n",
       "      <td>IBM</td>\n",
       "      <td>SPECIALIZATION</td>\n",
       "      <td>4.6</td>\n",
       "      <td>Beginner</td>\n",
       "      <td>220k</td>\n",
       "    </tr>\n",
       "    <tr>\n",
       "      <th>9</th>\n",
       "      <td>Cloud Engineering with Google Cloud</td>\n",
       "      <td>Google Cloud</td>\n",
       "      <td>PROFESSIONAL CERTIFICATE</td>\n",
       "      <td>4.7</td>\n",
       "      <td>Intermediate</td>\n",
       "      <td>310k</td>\n",
       "    </tr>\n",
       "  </tbody>\n",
       "</table>\n",
       "</div>"
      ],
      "text/plain": [
       "                          course_title         course_organization  \\\n",
       "0                     IBM Data Science                         IBM   \n",
       "1         Introduction to Data Science                         IBM   \n",
       "2            The Science of Well-Being             Yale University   \n",
       "3                 Python for Everybody      University of Michigan   \n",
       "4                    Google IT Support                      Google   \n",
       "5                        Deep Learning             deeplearning.ai   \n",
       "6                     Machine Learning         Stanford University   \n",
       "7                 Business Foundations  University of Pennsylvania   \n",
       "8                 Applied Data Science                         IBM   \n",
       "9  Cloud Engineering with Google Cloud                Google Cloud   \n",
       "\n",
       "    course_Certificate_type  course_rating course_difficulty  \\\n",
       "0  PROFESSIONAL CERTIFICATE            4.6          Beginner   \n",
       "1            SPECIALIZATION            4.6          Beginner   \n",
       "2                    COURSE            4.9             Mixed   \n",
       "3            SPECIALIZATION            4.8          Beginner   \n",
       "4  PROFESSIONAL CERTIFICATE            4.8          Beginner   \n",
       "5            SPECIALIZATION            4.8      Intermediate   \n",
       "6                    COURSE            4.9             Mixed   \n",
       "7            SPECIALIZATION            4.7          Beginner   \n",
       "8            SPECIALIZATION            4.6          Beginner   \n",
       "9  PROFESSIONAL CERTIFICATE            4.7      Intermediate   \n",
       "\n",
       "  course_students_enrolled  \n",
       "0                     480k  \n",
       "1                     310k  \n",
       "2                     2.5m  \n",
       "3                     1.5m  \n",
       "4                     350k  \n",
       "5                     690k  \n",
       "6                     3.2m  \n",
       "7                     510k  \n",
       "8                     220k  \n",
       "9                     310k  "
      ]
     },
     "execution_count": 73,
     "metadata": {},
     "output_type": "execute_result"
    }
   ],
   "source": [
    "pd.set_option(\"display.max.columns\", None) \n",
    "coursera.sort_index(inplace=True)\n",
    "coursera.head(10)"
   ]
  },
  {
   "cell_type": "markdown",
   "id": "upper-component",
   "metadata": {},
   "source": [
    "### Data Types\n",
    "\n",
    "All data types of this dataset are string except for course_rating."
   ]
  },
  {
   "cell_type": "code",
   "execution_count": 74,
   "id": "fifteen-comparison",
   "metadata": {},
   "outputs": [
    {
     "data": {
      "text/plain": [
       "course_title                 object\n",
       "course_organization          object\n",
       "course_Certificate_type      object\n",
       "course_rating               float64\n",
       "course_difficulty            object\n",
       "course_students_enrolled     object\n",
       "dtype: object"
      ]
     },
     "execution_count": 74,
     "metadata": {},
     "output_type": "execute_result"
    }
   ],
   "source": [
    "coursera.dtypes"
   ]
  },
  {
   "cell_type": "markdown",
   "id": "commercial-frequency",
   "metadata": {},
   "source": [
    "## Data Cleaning"
   ]
  },
  {
   "cell_type": "markdown",
   "id": "sunrise-dover",
   "metadata": {},
   "source": [
    "### Missing Values\n",
    "This dataset has no missing values"
   ]
  },
  {
   "cell_type": "code",
   "execution_count": 75,
   "id": "limited-hormone",
   "metadata": {},
   "outputs": [
    {
     "data": {
      "text/plain": [
       "course_title                0\n",
       "course_organization         0\n",
       "course_Certificate_type     0\n",
       "course_rating               0\n",
       "course_difficulty           0\n",
       "course_students_enrolled    0\n",
       "dtype: int64"
      ]
     },
     "execution_count": 75,
     "metadata": {},
     "output_type": "execute_result"
    }
   ],
   "source": [
    "coursera.isnull().sum()"
   ]
  },
  {
   "cell_type": "markdown",
   "id": "relevant-excuse",
   "metadata": {},
   "source": [
    "### Duplicate Values\n",
    "\n",
    "This dataset has no duplicate values."
   ]
  },
  {
   "cell_type": "code",
   "execution_count": 76,
   "id": "industrial-failure",
   "metadata": {},
   "outputs": [
    {
     "data": {
      "text/plain": [
       "course_title                0.0\n",
       "course_organization         0.0\n",
       "course_Certificate_type     0.0\n",
       "course_rating               0.0\n",
       "course_difficulty           0.0\n",
       "course_students_enrolled    0.0\n",
       "dtype: float64"
      ]
     },
     "execution_count": 76,
     "metadata": {},
     "output_type": "execute_result"
    }
   ],
   "source": [
    "coursera[coursera.duplicated(keep = False)].sum()"
   ]
  },
  {
   "cell_type": "markdown",
   "id": "mental-sending",
   "metadata": {},
   "source": [
    "### Modification of Column Names\n",
    "\n",
    "I modified the name of each column to be clearer and more attractive."
   ]
  },
  {
   "cell_type": "code",
   "execution_count": 95,
   "id": "behavioral-taiwan",
   "metadata": {},
   "outputs": [],
   "source": [
    "coursera.rename(columns = {'course_title':'Course', \n",
    "                           'course_organization':'Organization', \n",
    "                           'course_Certificate_type':'Certificate',\n",
    "                           'course_rating':'Rating',\n",
    "                          'course_difficulty':'Difficulty',\n",
    "                          'course_students_enrolled':'Students'}, inplace = True)"
   ]
  },
  {
   "cell_type": "code",
   "execution_count": 78,
   "id": "sufficient-radar",
   "metadata": {
    "scrolled": true
   },
   "outputs": [
    {
     "data": {
      "text/html": [
       "<div>\n",
       "<style scoped>\n",
       "    .dataframe tbody tr th:only-of-type {\n",
       "        vertical-align: middle;\n",
       "    }\n",
       "\n",
       "    .dataframe tbody tr th {\n",
       "        vertical-align: top;\n",
       "    }\n",
       "\n",
       "    .dataframe thead th {\n",
       "        text-align: right;\n",
       "    }\n",
       "</style>\n",
       "<table border=\"1\" class=\"dataframe\">\n",
       "  <thead>\n",
       "    <tr style=\"text-align: right;\">\n",
       "      <th></th>\n",
       "      <th>Course</th>\n",
       "      <th>Organization</th>\n",
       "      <th>Certificate</th>\n",
       "      <th>Rating</th>\n",
       "      <th>Difficulty</th>\n",
       "      <th>Students</th>\n",
       "    </tr>\n",
       "  </thead>\n",
       "  <tbody>\n",
       "    <tr>\n",
       "      <th>0</th>\n",
       "      <td>IBM Data Science</td>\n",
       "      <td>IBM</td>\n",
       "      <td>PROFESSIONAL CERTIFICATE</td>\n",
       "      <td>4.6</td>\n",
       "      <td>Beginner</td>\n",
       "      <td>480k</td>\n",
       "    </tr>\n",
       "    <tr>\n",
       "      <th>1</th>\n",
       "      <td>Introduction to Data Science</td>\n",
       "      <td>IBM</td>\n",
       "      <td>SPECIALIZATION</td>\n",
       "      <td>4.6</td>\n",
       "      <td>Beginner</td>\n",
       "      <td>310k</td>\n",
       "    </tr>\n",
       "    <tr>\n",
       "      <th>2</th>\n",
       "      <td>The Science of Well-Being</td>\n",
       "      <td>Yale University</td>\n",
       "      <td>COURSE</td>\n",
       "      <td>4.9</td>\n",
       "      <td>Mixed</td>\n",
       "      <td>2.5m</td>\n",
       "    </tr>\n",
       "    <tr>\n",
       "      <th>3</th>\n",
       "      <td>Python for Everybody</td>\n",
       "      <td>University of Michigan</td>\n",
       "      <td>SPECIALIZATION</td>\n",
       "      <td>4.8</td>\n",
       "      <td>Beginner</td>\n",
       "      <td>1.5m</td>\n",
       "    </tr>\n",
       "    <tr>\n",
       "      <th>4</th>\n",
       "      <td>Google IT Support</td>\n",
       "      <td>Google</td>\n",
       "      <td>PROFESSIONAL CERTIFICATE</td>\n",
       "      <td>4.8</td>\n",
       "      <td>Beginner</td>\n",
       "      <td>350k</td>\n",
       "    </tr>\n",
       "  </tbody>\n",
       "</table>\n",
       "</div>"
      ],
      "text/plain": [
       "                         Course            Organization  \\\n",
       "0              IBM Data Science                     IBM   \n",
       "1  Introduction to Data Science                     IBM   \n",
       "2     The Science of Well-Being         Yale University   \n",
       "3          Python for Everybody  University of Michigan   \n",
       "4             Google IT Support                  Google   \n",
       "\n",
       "                Certificate  Rating Difficulty Students  \n",
       "0  PROFESSIONAL CERTIFICATE     4.6   Beginner     480k  \n",
       "1            SPECIALIZATION     4.6   Beginner     310k  \n",
       "2                    COURSE     4.9      Mixed     2.5m  \n",
       "3            SPECIALIZATION     4.8   Beginner     1.5m  \n",
       "4  PROFESSIONAL CERTIFICATE     4.8   Beginner     350k  "
      ]
     },
     "execution_count": 78,
     "metadata": {},
     "output_type": "execute_result"
    }
   ],
   "source": [
    "coursera.head()"
   ]
  },
  {
   "cell_type": "markdown",
   "id": "reserved-sheet",
   "metadata": {},
   "source": [
    "### Modification of Certificate Column\n",
    "\n",
    "I modified the Certificate column so the text is in title case. I also removed the uncessary text, 'Certificate' from some of the enteries. "
   ]
  },
  {
   "cell_type": "code",
   "execution_count": 79,
   "id": "optional-allowance",
   "metadata": {
    "scrolled": false
   },
   "outputs": [
    {
     "data": {
      "text/html": [
       "<div>\n",
       "<style scoped>\n",
       "    .dataframe tbody tr th:only-of-type {\n",
       "        vertical-align: middle;\n",
       "    }\n",
       "\n",
       "    .dataframe tbody tr th {\n",
       "        vertical-align: top;\n",
       "    }\n",
       "\n",
       "    .dataframe thead th {\n",
       "        text-align: right;\n",
       "    }\n",
       "</style>\n",
       "<table border=\"1\" class=\"dataframe\">\n",
       "  <thead>\n",
       "    <tr style=\"text-align: right;\">\n",
       "      <th></th>\n",
       "      <th>Course</th>\n",
       "      <th>Organization</th>\n",
       "      <th>Certificate</th>\n",
       "      <th>Rating</th>\n",
       "      <th>Difficulty</th>\n",
       "      <th>Students</th>\n",
       "    </tr>\n",
       "  </thead>\n",
       "  <tbody>\n",
       "    <tr>\n",
       "      <th>0</th>\n",
       "      <td>IBM Data Science</td>\n",
       "      <td>IBM</td>\n",
       "      <td>Professional</td>\n",
       "      <td>4.6</td>\n",
       "      <td>Beginner</td>\n",
       "      <td>480k</td>\n",
       "    </tr>\n",
       "    <tr>\n",
       "      <th>1</th>\n",
       "      <td>Introduction to Data Science</td>\n",
       "      <td>IBM</td>\n",
       "      <td>Specialization</td>\n",
       "      <td>4.6</td>\n",
       "      <td>Beginner</td>\n",
       "      <td>310k</td>\n",
       "    </tr>\n",
       "    <tr>\n",
       "      <th>2</th>\n",
       "      <td>The Science of Well-Being</td>\n",
       "      <td>Yale University</td>\n",
       "      <td>Course</td>\n",
       "      <td>4.9</td>\n",
       "      <td>Mixed</td>\n",
       "      <td>2.5m</td>\n",
       "    </tr>\n",
       "    <tr>\n",
       "      <th>3</th>\n",
       "      <td>Python for Everybody</td>\n",
       "      <td>University of Michigan</td>\n",
       "      <td>Specialization</td>\n",
       "      <td>4.8</td>\n",
       "      <td>Beginner</td>\n",
       "      <td>1.5m</td>\n",
       "    </tr>\n",
       "    <tr>\n",
       "      <th>4</th>\n",
       "      <td>Google IT Support</td>\n",
       "      <td>Google</td>\n",
       "      <td>Professional</td>\n",
       "      <td>4.8</td>\n",
       "      <td>Beginner</td>\n",
       "      <td>350k</td>\n",
       "    </tr>\n",
       "    <tr>\n",
       "      <th>5</th>\n",
       "      <td>Deep Learning</td>\n",
       "      <td>deeplearning.ai</td>\n",
       "      <td>Specialization</td>\n",
       "      <td>4.8</td>\n",
       "      <td>Intermediate</td>\n",
       "      <td>690k</td>\n",
       "    </tr>\n",
       "    <tr>\n",
       "      <th>6</th>\n",
       "      <td>Machine Learning</td>\n",
       "      <td>Stanford University</td>\n",
       "      <td>Course</td>\n",
       "      <td>4.9</td>\n",
       "      <td>Mixed</td>\n",
       "      <td>3.2m</td>\n",
       "    </tr>\n",
       "    <tr>\n",
       "      <th>7</th>\n",
       "      <td>Business Foundations</td>\n",
       "      <td>University of Pennsylvania</td>\n",
       "      <td>Specialization</td>\n",
       "      <td>4.7</td>\n",
       "      <td>Beginner</td>\n",
       "      <td>510k</td>\n",
       "    </tr>\n",
       "    <tr>\n",
       "      <th>8</th>\n",
       "      <td>Applied Data Science</td>\n",
       "      <td>IBM</td>\n",
       "      <td>Specialization</td>\n",
       "      <td>4.6</td>\n",
       "      <td>Beginner</td>\n",
       "      <td>220k</td>\n",
       "    </tr>\n",
       "    <tr>\n",
       "      <th>9</th>\n",
       "      <td>Cloud Engineering with Google Cloud</td>\n",
       "      <td>Google Cloud</td>\n",
       "      <td>Professional</td>\n",
       "      <td>4.7</td>\n",
       "      <td>Intermediate</td>\n",
       "      <td>310k</td>\n",
       "    </tr>\n",
       "  </tbody>\n",
       "</table>\n",
       "</div>"
      ],
      "text/plain": [
       "                                Course                Organization  \\\n",
       "0                     IBM Data Science                         IBM   \n",
       "1         Introduction to Data Science                         IBM   \n",
       "2            The Science of Well-Being             Yale University   \n",
       "3                 Python for Everybody      University of Michigan   \n",
       "4                    Google IT Support                      Google   \n",
       "5                        Deep Learning             deeplearning.ai   \n",
       "6                     Machine Learning         Stanford University   \n",
       "7                 Business Foundations  University of Pennsylvania   \n",
       "8                 Applied Data Science                         IBM   \n",
       "9  Cloud Engineering with Google Cloud                Google Cloud   \n",
       "\n",
       "      Certificate  Rating    Difficulty Students  \n",
       "0   Professional      4.6      Beginner     480k  \n",
       "1  Specialization     4.6      Beginner     310k  \n",
       "2          Course     4.9         Mixed     2.5m  \n",
       "3  Specialization     4.8      Beginner     1.5m  \n",
       "4   Professional      4.8      Beginner     350k  \n",
       "5  Specialization     4.8  Intermediate     690k  \n",
       "6          Course     4.9         Mixed     3.2m  \n",
       "7  Specialization     4.7      Beginner     510k  \n",
       "8  Specialization     4.6      Beginner     220k  \n",
       "9   Professional      4.7  Intermediate     310k  "
      ]
     },
     "execution_count": 79,
     "metadata": {},
     "output_type": "execute_result"
    }
   ],
   "source": [
    "# Makes each string into title case.\n",
    "coursera['Certificate'] = coursera['Certificate'].str.title()\n",
    "\n",
    "# Removes text 'Certificate' from any value in this column.\n",
    "coursera['Certificate'] = coursera['Certificate'].str.replace(r'Certificate', '') \n",
    "\n",
    "# Removes ALL white spaces from values of this column.\n",
    "coursera['Certificate'].str.strip()\n",
    "\n",
    "coursera.head(10)"
   ]
  },
  {
   "cell_type": "markdown",
   "id": "requested-objective",
   "metadata": {},
   "source": [
    "### Modification of Student Column\n",
    "\n",
    "I modified this column so numbers appear as integers. "
   ]
  },
  {
   "cell_type": "code",
   "execution_count": 97,
   "id": "creative-liberia",
   "metadata": {},
   "outputs": [
    {
     "ename": "AttributeError",
     "evalue": "'DataFrame' object has no attribute 'Students'",
     "output_type": "error",
     "traceback": [
      "\u001b[1;31m---------------------------------------------------------------------------\u001b[0m",
      "\u001b[1;31mAttributeError\u001b[0m                            Traceback (most recent call last)",
      "\u001b[1;32m<ipython-input-97-2909dcf0541f>\u001b[0m in \u001b[0;36m<module>\u001b[1;34m\u001b[0m\n\u001b[1;32m----> 1\u001b[1;33m \u001b[0mcoursera\u001b[0m\u001b[1;33m.\u001b[0m\u001b[0mStudents\u001b[0m\u001b[1;33m.\u001b[0m\u001b[0mstr\u001b[0m\u001b[1;33m.\u001b[0m\u001b[0mextract\u001b[0m\u001b[1;33m(\u001b[0m\u001b[1;34m'(\\d+)'\u001b[0m\u001b[1;33m)\u001b[0m\u001b[1;33m\u001b[0m\u001b[1;33m\u001b[0m\u001b[0m\n\u001b[0m",
      "\u001b[1;32mc:\\users\\kevin nourian\\appdata\\local\\programs\\python\\python39\\lib\\site-packages\\pandas\\core\\generic.py\u001b[0m in \u001b[0;36m__getattr__\u001b[1;34m(self, name)\u001b[0m\n\u001b[0;32m   5463\u001b[0m             \u001b[1;32mif\u001b[0m \u001b[0mself\u001b[0m\u001b[1;33m.\u001b[0m\u001b[0m_info_axis\u001b[0m\u001b[1;33m.\u001b[0m\u001b[0m_can_hold_identifiers_and_holds_name\u001b[0m\u001b[1;33m(\u001b[0m\u001b[0mname\u001b[0m\u001b[1;33m)\u001b[0m\u001b[1;33m:\u001b[0m\u001b[1;33m\u001b[0m\u001b[1;33m\u001b[0m\u001b[0m\n\u001b[0;32m   5464\u001b[0m                 \u001b[1;32mreturn\u001b[0m \u001b[0mself\u001b[0m\u001b[1;33m[\u001b[0m\u001b[0mname\u001b[0m\u001b[1;33m]\u001b[0m\u001b[1;33m\u001b[0m\u001b[1;33m\u001b[0m\u001b[0m\n\u001b[1;32m-> 5465\u001b[1;33m             \u001b[1;32mreturn\u001b[0m \u001b[0mobject\u001b[0m\u001b[1;33m.\u001b[0m\u001b[0m__getattribute__\u001b[0m\u001b[1;33m(\u001b[0m\u001b[0mself\u001b[0m\u001b[1;33m,\u001b[0m \u001b[0mname\u001b[0m\u001b[1;33m)\u001b[0m\u001b[1;33m\u001b[0m\u001b[1;33m\u001b[0m\u001b[0m\n\u001b[0m\u001b[0;32m   5466\u001b[0m \u001b[1;33m\u001b[0m\u001b[0m\n\u001b[0;32m   5467\u001b[0m     \u001b[1;32mdef\u001b[0m \u001b[0m__setattr__\u001b[0m\u001b[1;33m(\u001b[0m\u001b[0mself\u001b[0m\u001b[1;33m,\u001b[0m \u001b[0mname\u001b[0m\u001b[1;33m:\u001b[0m \u001b[0mstr\u001b[0m\u001b[1;33m,\u001b[0m \u001b[0mvalue\u001b[0m\u001b[1;33m)\u001b[0m \u001b[1;33m->\u001b[0m \u001b[1;32mNone\u001b[0m\u001b[1;33m:\u001b[0m\u001b[1;33m\u001b[0m\u001b[1;33m\u001b[0m\u001b[0m\n",
      "\u001b[1;31mAttributeError\u001b[0m: 'DataFrame' object has no attribute 'Students'"
     ]
    }
   ],
   "source": [
    "coursera.Students.str.extract('(\\d+)')"
   ]
  },
  {
   "cell_type": "code",
   "execution_count": 80,
   "id": "unlikely-structure",
   "metadata": {},
   "outputs": [],
   "source": [
    "# Extractes the symbol 'k' or 'm' from the text in the Enrollment column. Created a new column called 'Symbol' for it.\n",
    "coursera['Symbol'] = coursera['Students'].str[-1:]"
   ]
  },
  {
   "cell_type": "code",
   "execution_count": 81,
   "id": "reverse-tuner",
   "metadata": {},
   "outputs": [],
   "source": [
    "# Extractes the digits from the Enrollment column and set the digits as float.\n",
    "pd.set_option(\"max_rows\", None)\n",
    "coursera['Students'] = coursera['Students'].str.extract(r'(\\d+[.\\d]*)').astype(float)"
   ]
  },
  {
   "cell_type": "code",
   "execution_count": 82,
   "id": "latter-paradise",
   "metadata": {},
   "outputs": [],
   "source": [
    "# If the 'Symbol' column shows 'k', the number in the Enrollment column is multiplied by 1000.\n",
    "# If it shows 'm', the number is multiplied by 1,000,000.\n",
    "coursera.loc[coursera['Symbol'] == 'k', 'Multiple'] = 1000\n",
    "coursera.loc[coursera['Symbol'] == 'm', 'Multiple'] = 1000000\n",
    "coursera['Multiple'] = coursera['Multiple'].astype(int)"
   ]
  },
  {
   "cell_type": "code",
   "execution_count": 83,
   "id": "arabic-handling",
   "metadata": {},
   "outputs": [],
   "source": [
    "# Creates a new column called, 'Enrolled' with the product of the multiplication above.\n",
    "# Formates the column to display numbers with comma separator on each 3 digits from the right.\n",
    "coursera['Enrollment'] = coursera['Students'] * coursera['Multiple']\n",
    "coursera['Enrollment'] = coursera['Enrollment'].astype(int)"
   ]
  },
  {
   "cell_type": "code",
   "execution_count": 84,
   "id": "lovely-highland",
   "metadata": {
    "scrolled": true
   },
   "outputs": [],
   "source": [
    "# Deletes the unnecssary columns after the operations above. \n",
    "coursera = coursera.drop(['Symbol', 'Multiple', 'Students'], axis = 1)"
   ]
  },
  {
   "cell_type": "code",
   "execution_count": 85,
   "id": "material-detail",
   "metadata": {
    "scrolled": true
   },
   "outputs": [
    {
     "data": {
      "text/html": [
       "<div>\n",
       "<style scoped>\n",
       "    .dataframe tbody tr th:only-of-type {\n",
       "        vertical-align: middle;\n",
       "    }\n",
       "\n",
       "    .dataframe tbody tr th {\n",
       "        vertical-align: top;\n",
       "    }\n",
       "\n",
       "    .dataframe thead th {\n",
       "        text-align: right;\n",
       "    }\n",
       "</style>\n",
       "<table border=\"1\" class=\"dataframe\">\n",
       "  <thead>\n",
       "    <tr style=\"text-align: right;\">\n",
       "      <th></th>\n",
       "      <th>Course</th>\n",
       "      <th>Organization</th>\n",
       "      <th>Certificate</th>\n",
       "      <th>Rating</th>\n",
       "      <th>Difficulty</th>\n",
       "      <th>Enrollment</th>\n",
       "    </tr>\n",
       "  </thead>\n",
       "  <tbody>\n",
       "    <tr>\n",
       "      <th>0</th>\n",
       "      <td>IBM Data Science</td>\n",
       "      <td>IBM</td>\n",
       "      <td>Professional</td>\n",
       "      <td>4.6</td>\n",
       "      <td>Beginner</td>\n",
       "      <td>480000</td>\n",
       "    </tr>\n",
       "    <tr>\n",
       "      <th>1</th>\n",
       "      <td>Introduction to Data Science</td>\n",
       "      <td>IBM</td>\n",
       "      <td>Specialization</td>\n",
       "      <td>4.6</td>\n",
       "      <td>Beginner</td>\n",
       "      <td>310000</td>\n",
       "    </tr>\n",
       "    <tr>\n",
       "      <th>2</th>\n",
       "      <td>The Science of Well-Being</td>\n",
       "      <td>Yale University</td>\n",
       "      <td>Course</td>\n",
       "      <td>4.9</td>\n",
       "      <td>Mixed</td>\n",
       "      <td>2500000</td>\n",
       "    </tr>\n",
       "    <tr>\n",
       "      <th>3</th>\n",
       "      <td>Python for Everybody</td>\n",
       "      <td>University of Michigan</td>\n",
       "      <td>Specialization</td>\n",
       "      <td>4.8</td>\n",
       "      <td>Beginner</td>\n",
       "      <td>1500000</td>\n",
       "    </tr>\n",
       "    <tr>\n",
       "      <th>4</th>\n",
       "      <td>Google IT Support</td>\n",
       "      <td>Google</td>\n",
       "      <td>Professional</td>\n",
       "      <td>4.8</td>\n",
       "      <td>Beginner</td>\n",
       "      <td>350000</td>\n",
       "    </tr>\n",
       "    <tr>\n",
       "      <th>5</th>\n",
       "      <td>Deep Learning</td>\n",
       "      <td>deeplearning.ai</td>\n",
       "      <td>Specialization</td>\n",
       "      <td>4.8</td>\n",
       "      <td>Intermediate</td>\n",
       "      <td>690000</td>\n",
       "    </tr>\n",
       "    <tr>\n",
       "      <th>6</th>\n",
       "      <td>Machine Learning</td>\n",
       "      <td>Stanford University</td>\n",
       "      <td>Course</td>\n",
       "      <td>4.9</td>\n",
       "      <td>Mixed</td>\n",
       "      <td>3200000</td>\n",
       "    </tr>\n",
       "    <tr>\n",
       "      <th>7</th>\n",
       "      <td>Business Foundations</td>\n",
       "      <td>University of Pennsylvania</td>\n",
       "      <td>Specialization</td>\n",
       "      <td>4.7</td>\n",
       "      <td>Beginner</td>\n",
       "      <td>510000</td>\n",
       "    </tr>\n",
       "    <tr>\n",
       "      <th>8</th>\n",
       "      <td>Applied Data Science</td>\n",
       "      <td>IBM</td>\n",
       "      <td>Specialization</td>\n",
       "      <td>4.6</td>\n",
       "      <td>Beginner</td>\n",
       "      <td>220000</td>\n",
       "    </tr>\n",
       "    <tr>\n",
       "      <th>9</th>\n",
       "      <td>Cloud Engineering with Google Cloud</td>\n",
       "      <td>Google Cloud</td>\n",
       "      <td>Professional</td>\n",
       "      <td>4.7</td>\n",
       "      <td>Intermediate</td>\n",
       "      <td>310000</td>\n",
       "    </tr>\n",
       "  </tbody>\n",
       "</table>\n",
       "</div>"
      ],
      "text/plain": [
       "                                Course                Organization  \\\n",
       "0                     IBM Data Science                         IBM   \n",
       "1         Introduction to Data Science                         IBM   \n",
       "2            The Science of Well-Being             Yale University   \n",
       "3                 Python for Everybody      University of Michigan   \n",
       "4                    Google IT Support                      Google   \n",
       "5                        Deep Learning             deeplearning.ai   \n",
       "6                     Machine Learning         Stanford University   \n",
       "7                 Business Foundations  University of Pennsylvania   \n",
       "8                 Applied Data Science                         IBM   \n",
       "9  Cloud Engineering with Google Cloud                Google Cloud   \n",
       "\n",
       "      Certificate  Rating    Difficulty  Enrollment  \n",
       "0   Professional      4.6      Beginner      480000  \n",
       "1  Specialization     4.6      Beginner      310000  \n",
       "2          Course     4.9         Mixed     2500000  \n",
       "3  Specialization     4.8      Beginner     1500000  \n",
       "4   Professional      4.8      Beginner      350000  \n",
       "5  Specialization     4.8  Intermediate      690000  \n",
       "6          Course     4.9         Mixed     3200000  \n",
       "7  Specialization     4.7      Beginner      510000  \n",
       "8  Specialization     4.6      Beginner      220000  \n",
       "9   Professional      4.7  Intermediate      310000  "
      ]
     },
     "execution_count": 85,
     "metadata": {},
     "output_type": "execute_result"
    }
   ],
   "source": [
    "coursera.head(10)"
   ]
  },
  {
   "cell_type": "markdown",
   "id": "serial-nudist",
   "metadata": {},
   "source": [
    "### Modification of Order of Columns\n",
    "\n",
    "I modified order of the columns to make it more readable and workable. "
   ]
  },
  {
   "cell_type": "code",
   "execution_count": 86,
   "id": "flexible-bones",
   "metadata": {},
   "outputs": [
    {
     "data": {
      "text/html": [
       "<div>\n",
       "<style scoped>\n",
       "    .dataframe tbody tr th:only-of-type {\n",
       "        vertical-align: middle;\n",
       "    }\n",
       "\n",
       "    .dataframe tbody tr th {\n",
       "        vertical-align: top;\n",
       "    }\n",
       "\n",
       "    .dataframe thead th {\n",
       "        text-align: right;\n",
       "    }\n",
       "</style>\n",
       "<table border=\"1\" class=\"dataframe\">\n",
       "  <thead>\n",
       "    <tr style=\"text-align: right;\">\n",
       "      <th></th>\n",
       "      <th>Organization</th>\n",
       "      <th>Course</th>\n",
       "      <th>Difficulty</th>\n",
       "      <th>Certificate</th>\n",
       "      <th>Enrollment</th>\n",
       "      <th>Rating</th>\n",
       "    </tr>\n",
       "  </thead>\n",
       "  <tbody>\n",
       "    <tr>\n",
       "      <th>0</th>\n",
       "      <td>IBM</td>\n",
       "      <td>IBM Data Science</td>\n",
       "      <td>Beginner</td>\n",
       "      <td>Professional</td>\n",
       "      <td>480000</td>\n",
       "      <td>4.6</td>\n",
       "    </tr>\n",
       "    <tr>\n",
       "      <th>1</th>\n",
       "      <td>IBM</td>\n",
       "      <td>Introduction to Data Science</td>\n",
       "      <td>Beginner</td>\n",
       "      <td>Specialization</td>\n",
       "      <td>310000</td>\n",
       "      <td>4.6</td>\n",
       "    </tr>\n",
       "    <tr>\n",
       "      <th>2</th>\n",
       "      <td>Yale University</td>\n",
       "      <td>The Science of Well-Being</td>\n",
       "      <td>Mixed</td>\n",
       "      <td>Course</td>\n",
       "      <td>2500000</td>\n",
       "      <td>4.9</td>\n",
       "    </tr>\n",
       "    <tr>\n",
       "      <th>3</th>\n",
       "      <td>University of Michigan</td>\n",
       "      <td>Python for Everybody</td>\n",
       "      <td>Beginner</td>\n",
       "      <td>Specialization</td>\n",
       "      <td>1500000</td>\n",
       "      <td>4.8</td>\n",
       "    </tr>\n",
       "    <tr>\n",
       "      <th>4</th>\n",
       "      <td>Google</td>\n",
       "      <td>Google IT Support</td>\n",
       "      <td>Beginner</td>\n",
       "      <td>Professional</td>\n",
       "      <td>350000</td>\n",
       "      <td>4.8</td>\n",
       "    </tr>\n",
       "    <tr>\n",
       "      <th>5</th>\n",
       "      <td>deeplearning.ai</td>\n",
       "      <td>Deep Learning</td>\n",
       "      <td>Intermediate</td>\n",
       "      <td>Specialization</td>\n",
       "      <td>690000</td>\n",
       "      <td>4.8</td>\n",
       "    </tr>\n",
       "    <tr>\n",
       "      <th>6</th>\n",
       "      <td>Stanford University</td>\n",
       "      <td>Machine Learning</td>\n",
       "      <td>Mixed</td>\n",
       "      <td>Course</td>\n",
       "      <td>3200000</td>\n",
       "      <td>4.9</td>\n",
       "    </tr>\n",
       "    <tr>\n",
       "      <th>7</th>\n",
       "      <td>University of Pennsylvania</td>\n",
       "      <td>Business Foundations</td>\n",
       "      <td>Beginner</td>\n",
       "      <td>Specialization</td>\n",
       "      <td>510000</td>\n",
       "      <td>4.7</td>\n",
       "    </tr>\n",
       "    <tr>\n",
       "      <th>8</th>\n",
       "      <td>IBM</td>\n",
       "      <td>Applied Data Science</td>\n",
       "      <td>Beginner</td>\n",
       "      <td>Specialization</td>\n",
       "      <td>220000</td>\n",
       "      <td>4.6</td>\n",
       "    </tr>\n",
       "    <tr>\n",
       "      <th>9</th>\n",
       "      <td>Google Cloud</td>\n",
       "      <td>Cloud Engineering with Google Cloud</td>\n",
       "      <td>Intermediate</td>\n",
       "      <td>Professional</td>\n",
       "      <td>310000</td>\n",
       "      <td>4.7</td>\n",
       "    </tr>\n",
       "  </tbody>\n",
       "</table>\n",
       "</div>"
      ],
      "text/plain": [
       "                 Organization                               Course  \\\n",
       "0                         IBM                     IBM Data Science   \n",
       "1                         IBM         Introduction to Data Science   \n",
       "2             Yale University            The Science of Well-Being   \n",
       "3      University of Michigan                 Python for Everybody   \n",
       "4                      Google                    Google IT Support   \n",
       "5             deeplearning.ai                        Deep Learning   \n",
       "6         Stanford University                     Machine Learning   \n",
       "7  University of Pennsylvania                 Business Foundations   \n",
       "8                         IBM                 Applied Data Science   \n",
       "9                Google Cloud  Cloud Engineering with Google Cloud   \n",
       "\n",
       "     Difficulty     Certificate  Enrollment  Rating  \n",
       "0      Beginner   Professional       480000     4.6  \n",
       "1      Beginner  Specialization      310000     4.6  \n",
       "2         Mixed          Course     2500000     4.9  \n",
       "3      Beginner  Specialization     1500000     4.8  \n",
       "4      Beginner   Professional       350000     4.8  \n",
       "5  Intermediate  Specialization      690000     4.8  \n",
       "6         Mixed          Course     3200000     4.9  \n",
       "7      Beginner  Specialization      510000     4.7  \n",
       "8      Beginner  Specialization      220000     4.6  \n",
       "9  Intermediate   Professional       310000     4.7  "
      ]
     },
     "execution_count": 86,
     "metadata": {},
     "output_type": "execute_result"
    }
   ],
   "source": [
    "coursera = coursera[['Organization', 'Course', 'Difficulty', 'Certificate', 'Enrollment', 'Rating']]\n",
    "coursera.head(10)"
   ]
  },
  {
   "cell_type": "markdown",
   "id": "approximate-involvement",
   "metadata": {},
   "source": [
    "## Descriptive Statistics\n",
    "\n",
    "In this section, I provide basic statistical details summarize the data on 2 numerical features of this dataset.\n",
    "\n",
    "1.  **Rating:** The subjective 1 - 5 score that students give at the end of a course based on various criterea.\n",
    "2.  **Enrollment:** The number of students enrolled."
   ]
  },
  {
   "cell_type": "code",
   "execution_count": 94,
   "id": "other-mitchell",
   "metadata": {},
   "outputs": [
    {
     "data": {
      "text/html": [
       "<div>\n",
       "<style scoped>\n",
       "    .dataframe tbody tr th:only-of-type {\n",
       "        vertical-align: middle;\n",
       "    }\n",
       "\n",
       "    .dataframe tbody tr th {\n",
       "        vertical-align: top;\n",
       "    }\n",
       "\n",
       "    .dataframe thead th {\n",
       "        text-align: right;\n",
       "    }\n",
       "</style>\n",
       "<table border=\"1\" class=\"dataframe\">\n",
       "  <thead>\n",
       "    <tr style=\"text-align: right;\">\n",
       "      <th></th>\n",
       "      <th>Enrollment</th>\n",
       "      <th>Rating</th>\n",
       "    </tr>\n",
       "  </thead>\n",
       "  <tbody>\n",
       "    <tr>\n",
       "      <th>count</th>\n",
       "      <td>891.00</td>\n",
       "      <td>891.00</td>\n",
       "    </tr>\n",
       "    <tr>\n",
       "      <th>mean</th>\n",
       "      <td>90,552.08</td>\n",
       "      <td>4.68</td>\n",
       "    </tr>\n",
       "    <tr>\n",
       "      <th>std</th>\n",
       "      <td>181,936.45</td>\n",
       "      <td>0.16</td>\n",
       "    </tr>\n",
       "    <tr>\n",
       "      <th>min</th>\n",
       "      <td>1,500.00</td>\n",
       "      <td>3.30</td>\n",
       "    </tr>\n",
       "    <tr>\n",
       "      <th>25%</th>\n",
       "      <td>17,500.00</td>\n",
       "      <td>4.60</td>\n",
       "    </tr>\n",
       "    <tr>\n",
       "      <th>50%</th>\n",
       "      <td>42,000.00</td>\n",
       "      <td>4.70</td>\n",
       "    </tr>\n",
       "    <tr>\n",
       "      <th>75%</th>\n",
       "      <td>99,500.00</td>\n",
       "      <td>4.80</td>\n",
       "    </tr>\n",
       "    <tr>\n",
       "      <th>max</th>\n",
       "      <td>3,200,000.00</td>\n",
       "      <td>5.00</td>\n",
       "    </tr>\n",
       "  </tbody>\n",
       "</table>\n",
       "</div>"
      ],
      "text/plain": [
       "         Enrollment  Rating\n",
       "count        891.00  891.00\n",
       "mean      90,552.08    4.68\n",
       "std      181,936.45    0.16\n",
       "min        1,500.00    3.30\n",
       "25%       17,500.00    4.60\n",
       "50%       42,000.00    4.70\n",
       "75%       99,500.00    4.80\n",
       "max    3,200,000.00    5.00"
      ]
     },
     "execution_count": 94,
     "metadata": {},
     "output_type": "execute_result"
    }
   ],
   "source": [
    "coursera.describe().applymap('{:,.2f}'.format)"
   ]
  },
  {
   "cell_type": "markdown",
   "id": "purple-convention",
   "metadata": {},
   "source": [
    "## Exploratory Data Analysis (EDA)"
   ]
  },
  {
   "cell_type": "markdown",
   "id": "apparent-cambodia",
   "metadata": {},
   "source": [
    "### Total Enrollment\n",
    "\n",
    "The total enrollment at Coursera according to this data set is: 80,681,900"
   ]
  },
  {
   "cell_type": "code",
   "execution_count": 53,
   "id": "naval-fighter",
   "metadata": {},
   "outputs": [
    {
     "data": {
      "text/plain": [
       "80681900"
      ]
     },
     "execution_count": 53,
     "metadata": {},
     "output_type": "execute_result"
    }
   ],
   "source": [
    "coursera['Enrollment'].sum()"
   ]
  },
  {
   "cell_type": "markdown",
   "id": "southeast-continuity",
   "metadata": {},
   "source": [
    "### Organizations\n",
    "\n",
    "In this section, I will answer the following questions:\n",
    "\n",
    "1. Which ten organizations have the highest enrollment?\n",
    "2. Which ten organizations have the highest number of courses?"
   ]
  },
  {
   "cell_type": "markdown",
   "id": "julian-emission",
   "metadata": {},
   "source": [
    "#### Which ten organizations have the highest enrollment?"
   ]
  },
  {
   "cell_type": "code",
   "execution_count": 54,
   "id": "refined-louis",
   "metadata": {},
   "outputs": [
    {
     "data": {
      "text/html": [
       "<div>\n",
       "<style scoped>\n",
       "    .dataframe tbody tr th:only-of-type {\n",
       "        vertical-align: middle;\n",
       "    }\n",
       "\n",
       "    .dataframe tbody tr th {\n",
       "        vertical-align: top;\n",
       "    }\n",
       "\n",
       "    .dataframe thead th {\n",
       "        text-align: right;\n",
       "    }\n",
       "</style>\n",
       "<table border=\"1\" class=\"dataframe\">\n",
       "  <thead>\n",
       "    <tr style=\"text-align: right;\">\n",
       "      <th></th>\n",
       "      <th>Enrollment</th>\n",
       "    </tr>\n",
       "    <tr>\n",
       "      <th>Organization</th>\n",
       "      <th></th>\n",
       "    </tr>\n",
       "  </thead>\n",
       "  <tbody>\n",
       "    <tr>\n",
       "      <th>Total Enrollment</th>\n",
       "      <td>80681900</td>\n",
       "    </tr>\n",
       "    <tr>\n",
       "      <th>University of Michigan</th>\n",
       "      <td>7437700</td>\n",
       "    </tr>\n",
       "    <tr>\n",
       "      <th>University of Pennsylvania</th>\n",
       "      <td>5501300</td>\n",
       "    </tr>\n",
       "    <tr>\n",
       "      <th>Stanford University</th>\n",
       "      <td>4854000</td>\n",
       "    </tr>\n",
       "    <tr>\n",
       "      <th>University of California, Irvine</th>\n",
       "      <td>4326000</td>\n",
       "    </tr>\n",
       "    <tr>\n",
       "      <th>Johns Hopkins University</th>\n",
       "      <td>4298900</td>\n",
       "    </tr>\n",
       "    <tr>\n",
       "      <th>Duke University</th>\n",
       "      <td>3967600</td>\n",
       "    </tr>\n",
       "    <tr>\n",
       "      <th>Yale University</th>\n",
       "      <td>3952000</td>\n",
       "    </tr>\n",
       "    <tr>\n",
       "      <th>IBM</th>\n",
       "      <td>2956400</td>\n",
       "    </tr>\n",
       "    <tr>\n",
       "      <th>deeplearning.ai</th>\n",
       "      <td>2863400</td>\n",
       "    </tr>\n",
       "  </tbody>\n",
       "</table>\n",
       "</div>"
      ],
      "text/plain": [
       "                                  Enrollment\n",
       "Organization                                \n",
       "Total Enrollment                    80681900\n",
       "University of Michigan               7437700\n",
       "University of Pennsylvania           5501300\n",
       "Stanford University                  4854000\n",
       "University of California, Irvine     4326000\n",
       "Johns Hopkins University             4298900\n",
       "Duke University                      3967600\n",
       "Yale University                      3952000\n",
       "IBM                                  2956400\n",
       "deeplearning.ai                      2863400"
      ]
     },
     "execution_count": 54,
     "metadata": {},
     "output_type": "execute_result"
    }
   ],
   "source": [
    "organizations = coursera.pivot_table('Enrollment', index = 'Organization', aggfunc='sum', \n",
    "                                    margins=True, margins_name = 'Total Enrollment')\n",
    "organizations.sort_values('Enrollment', ascending = False).head(10)"
   ]
  },
  {
   "cell_type": "markdown",
   "id": "threatened-electric",
   "metadata": {},
   "source": [
    "#### Which ten organizations have the highest number of courses?"
   ]
  },
  {
   "cell_type": "code",
   "execution_count": 55,
   "id": "blessed-ordinary",
   "metadata": {},
   "outputs": [
    {
     "data": {
      "text/html": [
       "<div>\n",
       "<style scoped>\n",
       "    .dataframe tbody tr th:only-of-type {\n",
       "        vertical-align: middle;\n",
       "    }\n",
       "\n",
       "    .dataframe tbody tr th {\n",
       "        vertical-align: top;\n",
       "    }\n",
       "\n",
       "    .dataframe thead th {\n",
       "        text-align: right;\n",
       "    }\n",
       "</style>\n",
       "<table border=\"1\" class=\"dataframe\">\n",
       "  <thead>\n",
       "    <tr style=\"text-align: right;\">\n",
       "      <th></th>\n",
       "      <th>Course</th>\n",
       "    </tr>\n",
       "    <tr>\n",
       "      <th>Organization</th>\n",
       "      <th></th>\n",
       "    </tr>\n",
       "  </thead>\n",
       "  <tbody>\n",
       "    <tr>\n",
       "      <th>University of Pennsylvania</th>\n",
       "      <td>59</td>\n",
       "    </tr>\n",
       "    <tr>\n",
       "      <th>University of Michigan</th>\n",
       "      <td>41</td>\n",
       "    </tr>\n",
       "    <tr>\n",
       "      <th>Google Cloud</th>\n",
       "      <td>34</td>\n",
       "    </tr>\n",
       "    <tr>\n",
       "      <th>Duke University</th>\n",
       "      <td>28</td>\n",
       "    </tr>\n",
       "    <tr>\n",
       "      <th>Johns Hopkins University</th>\n",
       "      <td>28</td>\n",
       "    </tr>\n",
       "    <tr>\n",
       "      <th>University of California, Irvine</th>\n",
       "      <td>27</td>\n",
       "    </tr>\n",
       "    <tr>\n",
       "      <th>University of Illinois at Urbana-Champaign</th>\n",
       "      <td>22</td>\n",
       "    </tr>\n",
       "    <tr>\n",
       "      <th>IBM</th>\n",
       "      <td>22</td>\n",
       "    </tr>\n",
       "    <tr>\n",
       "      <th>University of California, Davis</th>\n",
       "      <td>21</td>\n",
       "    </tr>\n",
       "    <tr>\n",
       "      <th>University of Colorado Boulder</th>\n",
       "      <td>19</td>\n",
       "    </tr>\n",
       "  </tbody>\n",
       "</table>\n",
       "</div>"
      ],
      "text/plain": [
       "                                            Course\n",
       "Organization                                      \n",
       "University of Pennsylvania                      59\n",
       "University of Michigan                          41\n",
       "Google Cloud                                    34\n",
       "Duke University                                 28\n",
       "Johns Hopkins University                        28\n",
       "University of California, Irvine                27\n",
       "University of Illinois at Urbana-Champaign      22\n",
       "IBM                                             22\n",
       "University of California, Davis                 21\n",
       "University of Colorado Boulder                  19"
      ]
     },
     "execution_count": 55,
     "metadata": {},
     "output_type": "execute_result"
    }
   ],
   "source": [
    "organizations = coursera.pivot_table('Course', index = 'Organization', aggfunc='count', dropna=True)\n",
    "organizations.sort_values('Course', ascending = False).head(10)"
   ]
  },
  {
   "cell_type": "markdown",
   "id": "injured-strengthening",
   "metadata": {},
   "source": [
    "### Courses\n",
    "\n",
    "In this section, I will answer the following questions:\n",
    "\n",
    "1. How many courses are taught at Coursera?\n",
    "2. What are the top ten course titles at Coursera?"
   ]
  },
  {
   "cell_type": "markdown",
   "id": "quality-victorian",
   "metadata": {},
   "source": [
    "#### How many courses are taught at Coursera?"
   ]
  },
  {
   "cell_type": "code",
   "execution_count": 56,
   "id": "acquired-twist",
   "metadata": {},
   "outputs": [
    {
     "data": {
      "text/plain": [
       "888"
      ]
     },
     "execution_count": 56,
     "metadata": {},
     "output_type": "execute_result"
    }
   ],
   "source": [
    "len(coursera['Course'].unique().tolist())"
   ]
  },
  {
   "cell_type": "markdown",
   "id": "engaging-diabetes",
   "metadata": {},
   "source": [
    "#### What are the top ten course titles at Coursera?"
   ]
  },
  {
   "cell_type": "code",
   "execution_count": 57,
   "id": "posted-looking",
   "metadata": {
    "scrolled": true
   },
   "outputs": [
    {
     "data": {
      "text/html": [
       "<div>\n",
       "<style scoped>\n",
       "    .dataframe tbody tr th:only-of-type {\n",
       "        vertical-align: middle;\n",
       "    }\n",
       "\n",
       "    .dataframe tbody tr th {\n",
       "        vertical-align: top;\n",
       "    }\n",
       "\n",
       "    .dataframe thead th {\n",
       "        text-align: right;\n",
       "    }\n",
       "</style>\n",
       "<table border=\"1\" class=\"dataframe\">\n",
       "  <thead>\n",
       "    <tr style=\"text-align: right;\">\n",
       "      <th></th>\n",
       "      <th>Enrollment</th>\n",
       "    </tr>\n",
       "    <tr>\n",
       "      <th>Course</th>\n",
       "      <th></th>\n",
       "    </tr>\n",
       "  </thead>\n",
       "  <tbody>\n",
       "    <tr>\n",
       "      <th>Machine Learning</th>\n",
       "      <td>3490000</td>\n",
       "    </tr>\n",
       "    <tr>\n",
       "      <th>The Science of Well-Being</th>\n",
       "      <td>2500000</td>\n",
       "    </tr>\n",
       "    <tr>\n",
       "      <th>Python for Everybody</th>\n",
       "      <td>1500000</td>\n",
       "    </tr>\n",
       "    <tr>\n",
       "      <th>Programming for Everybody (Getting Started with Python)</th>\n",
       "      <td>1300000</td>\n",
       "    </tr>\n",
       "    <tr>\n",
       "      <th>Data Science</th>\n",
       "      <td>830000</td>\n",
       "    </tr>\n",
       "    <tr>\n",
       "      <th>Career Success</th>\n",
       "      <td>790000</td>\n",
       "    </tr>\n",
       "    <tr>\n",
       "      <th>English for Career Development</th>\n",
       "      <td>760000</td>\n",
       "    </tr>\n",
       "    <tr>\n",
       "      <th>Successful Negotiation: Essential Strategies and Skills</th>\n",
       "      <td>750000</td>\n",
       "    </tr>\n",
       "    <tr>\n",
       "      <th>Data Science: Foundations using R</th>\n",
       "      <td>740000</td>\n",
       "    </tr>\n",
       "    <tr>\n",
       "      <th>Deep Learning</th>\n",
       "      <td>690000</td>\n",
       "    </tr>\n",
       "  </tbody>\n",
       "</table>\n",
       "</div>"
      ],
      "text/plain": [
       "                                                    Enrollment\n",
       "Course                                                        \n",
       "Machine Learning                                       3490000\n",
       "The Science of Well-Being                              2500000\n",
       "Python for Everybody                                   1500000\n",
       "Programming for Everybody (Getting Started with...     1300000\n",
       "Data Science                                            830000\n",
       "Career Success                                          790000\n",
       "English for Career Development                          760000\n",
       "Successful Negotiation: Essential Strategies an...      750000\n",
       "Data Science: Foundations using R                       740000\n",
       "Deep Learning                                           690000"
      ]
     },
     "execution_count": 57,
     "metadata": {},
     "output_type": "execute_result"
    }
   ],
   "source": [
    "courses = coursera.pivot_table('Enrollment', index = 'Course', aggfunc='sum')\n",
    "courses.sort_values('Enrollment', ascending = False).head(10)"
   ]
  },
  {
   "cell_type": "markdown",
   "id": "looking-smooth",
   "metadata": {},
   "source": [
    "### Difficulty Levels\n",
    "\n",
    "In this section, I will answer the following questions:\n",
    "\n",
    "1. What are the different difficulty levels at Coursea?\n",
    "2. Which level of courses are more popular among learners?"
   ]
  },
  {
   "cell_type": "markdown",
   "id": "persistent-court",
   "metadata": {},
   "source": [
    "#### What are the different difficulty levels at Coursea?"
   ]
  },
  {
   "cell_type": "code",
   "execution_count": 58,
   "id": "postal-candy",
   "metadata": {},
   "outputs": [
    {
     "data": {
      "text/plain": [
       "['Beginner', 'Mixed', 'Intermediate', 'Advanced']"
      ]
     },
     "execution_count": 58,
     "metadata": {},
     "output_type": "execute_result"
    }
   ],
   "source": [
    "coursera['Difficulty'].unique().tolist()"
   ]
  },
  {
   "cell_type": "markdown",
   "id": "animated-adolescent",
   "metadata": {},
   "source": [
    "#### Which level of courses are more popular among learners?"
   ]
  },
  {
   "cell_type": "code",
   "execution_count": 59,
   "id": "amber-hebrew",
   "metadata": {},
   "outputs": [
    {
     "data": {
      "text/html": [
       "<div>\n",
       "<style scoped>\n",
       "    .dataframe tbody tr th:only-of-type {\n",
       "        vertical-align: middle;\n",
       "    }\n",
       "\n",
       "    .dataframe tbody tr th {\n",
       "        vertical-align: top;\n",
       "    }\n",
       "\n",
       "    .dataframe thead th {\n",
       "        text-align: right;\n",
       "    }\n",
       "</style>\n",
       "<table border=\"1\" class=\"dataframe\">\n",
       "  <thead>\n",
       "    <tr style=\"text-align: right;\">\n",
       "      <th></th>\n",
       "      <th>Enrollment</th>\n",
       "    </tr>\n",
       "    <tr>\n",
       "      <th>Difficulty</th>\n",
       "      <th></th>\n",
       "    </tr>\n",
       "  </thead>\n",
       "  <tbody>\n",
       "    <tr>\n",
       "      <th>Total Enrollment</th>\n",
       "      <td>80681900</td>\n",
       "    </tr>\n",
       "    <tr>\n",
       "      <th>Beginner</th>\n",
       "      <td>39921800</td>\n",
       "    </tr>\n",
       "    <tr>\n",
       "      <th>Mixed</th>\n",
       "      <td>24989400</td>\n",
       "    </tr>\n",
       "    <tr>\n",
       "      <th>Intermediate</th>\n",
       "      <td>14506300</td>\n",
       "    </tr>\n",
       "    <tr>\n",
       "      <th>Advanced</th>\n",
       "      <td>1264400</td>\n",
       "    </tr>\n",
       "  </tbody>\n",
       "</table>\n",
       "</div>"
      ],
      "text/plain": [
       "                  Enrollment\n",
       "Difficulty                  \n",
       "Total Enrollment    80681900\n",
       "Beginner            39921800\n",
       "Mixed               24989400\n",
       "Intermediate        14506300\n",
       "Advanced             1264400"
      ]
     },
     "execution_count": 59,
     "metadata": {},
     "output_type": "execute_result"
    }
   ],
   "source": [
    "difficulty = coursera.pivot_table('Enrollment', index = 'Difficulty', aggfunc='sum', \n",
    "                                  margins=True, margins_name = 'Total Enrollment')\n",
    "difficulty.sort_values('Enrollment', ascending = False).head(10)"
   ]
  },
  {
   "cell_type": "markdown",
   "id": "elect-egyptian",
   "metadata": {},
   "source": [
    "### Certificates\n",
    "\n",
    "In this section, I will answer the following questions:\n",
    "\n",
    "1. What types of certificates are provided at Coursera?\n",
    "2. What is the total number of each type of certificate offered?"
   ]
  },
  {
   "cell_type": "markdown",
   "id": "fantastic-spring",
   "metadata": {},
   "source": [
    "#### What types of certificates are provided at Coursera?"
   ]
  },
  {
   "cell_type": "code",
   "execution_count": 60,
   "id": "pointed-heating",
   "metadata": {},
   "outputs": [
    {
     "data": {
      "text/plain": [
       "['Professional ', 'Specialization', 'Course']"
      ]
     },
     "execution_count": 60,
     "metadata": {},
     "output_type": "execute_result"
    }
   ],
   "source": [
    "coursera['Certificate'].unique().tolist()"
   ]
  },
  {
   "cell_type": "markdown",
   "id": "young-peter",
   "metadata": {},
   "source": [
    "#### What is the total number of each type of certificate offered?"
   ]
  },
  {
   "cell_type": "code",
   "execution_count": 61,
   "id": "registered-mills",
   "metadata": {},
   "outputs": [
    {
     "data": {
      "text/html": [
       "<div>\n",
       "<style scoped>\n",
       "    .dataframe tbody tr th:only-of-type {\n",
       "        vertical-align: middle;\n",
       "    }\n",
       "\n",
       "    .dataframe tbody tr th {\n",
       "        vertical-align: top;\n",
       "    }\n",
       "\n",
       "    .dataframe thead th {\n",
       "        text-align: right;\n",
       "    }\n",
       "</style>\n",
       "<table border=\"1\" class=\"dataframe\">\n",
       "  <thead>\n",
       "    <tr style=\"text-align: right;\">\n",
       "      <th></th>\n",
       "      <th>Enrollment</th>\n",
       "    </tr>\n",
       "    <tr>\n",
       "      <th>Certificate</th>\n",
       "      <th></th>\n",
       "    </tr>\n",
       "  </thead>\n",
       "  <tbody>\n",
       "    <tr>\n",
       "      <th>Total Enrollment</th>\n",
       "      <td>80681900</td>\n",
       "    </tr>\n",
       "    <tr>\n",
       "      <th>Course</th>\n",
       "      <td>51131300</td>\n",
       "    </tr>\n",
       "    <tr>\n",
       "      <th>Specialization</th>\n",
       "      <td>27262200</td>\n",
       "    </tr>\n",
       "    <tr>\n",
       "      <th>Professional</th>\n",
       "      <td>2288400</td>\n",
       "    </tr>\n",
       "  </tbody>\n",
       "</table>\n",
       "</div>"
      ],
      "text/plain": [
       "                  Enrollment\n",
       "Certificate                 \n",
       "Total Enrollment    80681900\n",
       "Course              51131300\n",
       "Specialization      27262200\n",
       "Professional         2288400"
      ]
     },
     "execution_count": 61,
     "metadata": {},
     "output_type": "execute_result"
    }
   ],
   "source": [
    "certificates = coursera.pivot_table('Enrollment', index = 'Certificate', aggfunc='sum', \n",
    "                                    margins=True, margins_name = 'Total Enrollment')\n",
    "certificates.sort_values('Enrollment', ascending = False).head(10)"
   ]
  },
  {
   "cell_type": "markdown",
   "id": "manufactured-nudist",
   "metadata": {},
   "source": [
    "### Ratings\n",
    "\n",
    "In this section, I will answer the following questions:\n",
    "\n",
    "1. Which are the top ten highest rated courses by students?\n",
    "2. Which are the bottom ten lowest rated courses?\n",
    "3. Which are the top ten highest rated organizations? \n",
    "4. Which are the bottom ten lowest rated organizations?"
   ]
  },
  {
   "cell_type": "markdown",
   "id": "artistic-wrestling",
   "metadata": {},
   "source": [
    "#### Which are the top ten highest rated courses by students?"
   ]
  },
  {
   "cell_type": "code",
   "execution_count": 62,
   "id": "normal-failing",
   "metadata": {
    "scrolled": true
   },
   "outputs": [
    {
     "data": {
      "text/html": [
       "<div>\n",
       "<style scoped>\n",
       "    .dataframe tbody tr th:only-of-type {\n",
       "        vertical-align: middle;\n",
       "    }\n",
       "\n",
       "    .dataframe tbody tr th {\n",
       "        vertical-align: top;\n",
       "    }\n",
       "\n",
       "    .dataframe thead th {\n",
       "        text-align: right;\n",
       "    }\n",
       "</style>\n",
       "<table border=\"1\" class=\"dataframe\">\n",
       "  <thead>\n",
       "    <tr style=\"text-align: right;\">\n",
       "      <th></th>\n",
       "      <th>Rating</th>\n",
       "    </tr>\n",
       "    <tr>\n",
       "      <th>Course</th>\n",
       "      <th></th>\n",
       "    </tr>\n",
       "  </thead>\n",
       "  <tbody>\n",
       "    <tr>\n",
       "      <th>Infectious Disease Modelling</th>\n",
       "      <td>5.0</td>\n",
       "    </tr>\n",
       "    <tr>\n",
       "      <th>El Abogado del Futuro: Legaltech y la Transformación Digital del Derecho</th>\n",
       "      <td>5.0</td>\n",
       "    </tr>\n",
       "    <tr>\n",
       "      <th>Stories of Infection</th>\n",
       "      <td>4.9</td>\n",
       "    </tr>\n",
       "    <tr>\n",
       "      <th>Boosting Creativity for Innovation</th>\n",
       "      <td>4.9</td>\n",
       "    </tr>\n",
       "    <tr>\n",
       "      <th>Brand Management: Aligning Business, Brand and Behaviour</th>\n",
       "      <td>4.9</td>\n",
       "    </tr>\n",
       "    <tr>\n",
       "      <th>Understanding Einstein: The Special Theory of Relativity</th>\n",
       "      <td>4.9</td>\n",
       "    </tr>\n",
       "    <tr>\n",
       "      <th>Bugs 101: Insect-Human Interactions</th>\n",
       "      <td>4.9</td>\n",
       "    </tr>\n",
       "    <tr>\n",
       "      <th>Build a Modern Computer from First Principles: From Nand to Tetris (Project-Centered Course)</th>\n",
       "      <td>4.9</td>\n",
       "    </tr>\n",
       "    <tr>\n",
       "      <th>Introduction to Psychology</th>\n",
       "      <td>4.9</td>\n",
       "    </tr>\n",
       "    <tr>\n",
       "      <th>Everyday Parenting: The ABCs of Child Rearing</th>\n",
       "      <td>4.9</td>\n",
       "    </tr>\n",
       "  </tbody>\n",
       "</table>\n",
       "</div>"
      ],
      "text/plain": [
       "                                                    Rating\n",
       "Course                                                    \n",
       "Infectious Disease Modelling                           5.0\n",
       "El Abogado del Futuro: Legaltech y la Transform...     5.0\n",
       "Stories of Infection                                   4.9\n",
       "Boosting Creativity for Innovation                     4.9\n",
       "Brand Management: Aligning Business, Brand and ...     4.9\n",
       "Understanding Einstein: The Special Theory of R...     4.9\n",
       "Bugs 101: Insect-Human Interactions                    4.9\n",
       "Build a Modern Computer from First Principles: ...     4.9\n",
       "Introduction to Psychology                             4.9\n",
       "Everyday Parenting: The ABCs of Child Rearing          4.9"
      ]
     },
     "execution_count": 62,
     "metadata": {},
     "output_type": "execute_result"
    }
   ],
   "source": [
    "ratings = coursera.pivot_table('Rating', index = 'Course')\n",
    "ratings.sort_values('Rating', ascending = False).head(10)"
   ]
  },
  {
   "cell_type": "markdown",
   "id": "sunset-pathology",
   "metadata": {},
   "source": [
    "#### Which are the bottom ten lowest rated courses?"
   ]
  },
  {
   "cell_type": "code",
   "execution_count": 63,
   "id": "married-violation",
   "metadata": {
    "scrolled": false
   },
   "outputs": [
    {
     "data": {
      "text/html": [
       "<div>\n",
       "<style scoped>\n",
       "    .dataframe tbody tr th:only-of-type {\n",
       "        vertical-align: middle;\n",
       "    }\n",
       "\n",
       "    .dataframe tbody tr th {\n",
       "        vertical-align: top;\n",
       "    }\n",
       "\n",
       "    .dataframe thead th {\n",
       "        text-align: right;\n",
       "    }\n",
       "</style>\n",
       "<table border=\"1\" class=\"dataframe\">\n",
       "  <thead>\n",
       "    <tr style=\"text-align: right;\">\n",
       "      <th></th>\n",
       "      <th>Rating</th>\n",
       "    </tr>\n",
       "    <tr>\n",
       "      <th>Course</th>\n",
       "      <th></th>\n",
       "    </tr>\n",
       "  </thead>\n",
       "  <tbody>\n",
       "    <tr>\n",
       "      <th>Optical Engineering</th>\n",
       "      <td>4.2</td>\n",
       "    </tr>\n",
       "    <tr>\n",
       "      <th>Foundations of Marketing Analytics</th>\n",
       "      <td>4.2</td>\n",
       "    </tr>\n",
       "    <tr>\n",
       "      <th>Instructional Design Foundations and Applications</th>\n",
       "      <td>4.2</td>\n",
       "    </tr>\n",
       "    <tr>\n",
       "      <th>How to Start Your Own Business</th>\n",
       "      <td>4.1</td>\n",
       "    </tr>\n",
       "    <tr>\n",
       "      <th>Introduction to Trading, Machine Learning &amp; GCP</th>\n",
       "      <td>4.0</td>\n",
       "    </tr>\n",
       "    <tr>\n",
       "      <th>Mathematics for Machine Learning: PCA</th>\n",
       "      <td>4.0</td>\n",
       "    </tr>\n",
       "    <tr>\n",
       "      <th>iOS App Development with Swift</th>\n",
       "      <td>3.9</td>\n",
       "    </tr>\n",
       "    <tr>\n",
       "      <th>Machine Learning for Trading</th>\n",
       "      <td>3.9</td>\n",
       "    </tr>\n",
       "    <tr>\n",
       "      <th>Machine Learning and Reinforcement Learning in Finance</th>\n",
       "      <td>3.7</td>\n",
       "    </tr>\n",
       "    <tr>\n",
       "      <th>How To Create a Website in a Weekend! (Project-Centered Course)</th>\n",
       "      <td>3.3</td>\n",
       "    </tr>\n",
       "  </tbody>\n",
       "</table>\n",
       "</div>"
      ],
      "text/plain": [
       "                                                    Rating\n",
       "Course                                                    \n",
       "Optical Engineering                                    4.2\n",
       "Foundations of Marketing Analytics                     4.2\n",
       "Instructional Design Foundations and Applications      4.2\n",
       "How to Start Your Own Business                         4.1\n",
       "Introduction to Trading, Machine Learning & GCP        4.0\n",
       "Mathematics for Machine Learning: PCA                  4.0\n",
       "iOS App Development with Swift                         3.9\n",
       "Machine Learning for Trading                           3.9\n",
       "Machine Learning and Reinforcement Learning in ...     3.7\n",
       "How To Create a Website in a Weekend! (Project-...     3.3"
      ]
     },
     "execution_count": 63,
     "metadata": {},
     "output_type": "execute_result"
    }
   ],
   "source": [
    "ratings = coursera.pivot_table('Rating', index = 'Course')\n",
    "ratings.sort_values('Rating', ascending = False).tail(10)"
   ]
  },
  {
   "cell_type": "markdown",
   "id": "terminal-belief",
   "metadata": {},
   "source": [
    "#### Which are the top ten highest rated organizations?"
   ]
  },
  {
   "cell_type": "code",
   "execution_count": 64,
   "id": "judicial-chocolate",
   "metadata": {
    "scrolled": true
   },
   "outputs": [
    {
     "data": {
      "text/html": [
       "<div>\n",
       "<style scoped>\n",
       "    .dataframe tbody tr th:only-of-type {\n",
       "        vertical-align: middle;\n",
       "    }\n",
       "\n",
       "    .dataframe tbody tr th {\n",
       "        vertical-align: top;\n",
       "    }\n",
       "\n",
       "    .dataframe thead th {\n",
       "        text-align: right;\n",
       "    }\n",
       "</style>\n",
       "<table border=\"1\" class=\"dataframe\">\n",
       "  <thead>\n",
       "    <tr style=\"text-align: right;\">\n",
       "      <th></th>\n",
       "      <th>Rating</th>\n",
       "    </tr>\n",
       "    <tr>\n",
       "      <th>Organization</th>\n",
       "      <th></th>\n",
       "    </tr>\n",
       "  </thead>\n",
       "  <tbody>\n",
       "    <tr>\n",
       "      <th>Hebrew University of Jerusalem</th>\n",
       "      <td>4.900000</td>\n",
       "    </tr>\n",
       "    <tr>\n",
       "      <th>Nanyang Technological University, Singapore</th>\n",
       "      <td>4.900000</td>\n",
       "    </tr>\n",
       "    <tr>\n",
       "      <th>Universidade Estadual de Campinas</th>\n",
       "      <td>4.900000</td>\n",
       "    </tr>\n",
       "    <tr>\n",
       "      <th>Crece con Google</th>\n",
       "      <td>4.900000</td>\n",
       "    </tr>\n",
       "    <tr>\n",
       "      <th>London Business School</th>\n",
       "      <td>4.900000</td>\n",
       "    </tr>\n",
       "    <tr>\n",
       "      <th>Google - Spectrum Sharing</th>\n",
       "      <td>4.900000</td>\n",
       "    </tr>\n",
       "    <tr>\n",
       "      <th>ScrumTrek</th>\n",
       "      <td>4.900000</td>\n",
       "    </tr>\n",
       "    <tr>\n",
       "      <th>Universidade de São Paulo</th>\n",
       "      <td>4.866667</td>\n",
       "    </tr>\n",
       "    <tr>\n",
       "      <th>The University of Chicago</th>\n",
       "      <td>4.850000</td>\n",
       "    </tr>\n",
       "    <tr>\n",
       "      <th>Universidad de los Andes</th>\n",
       "      <td>4.820000</td>\n",
       "    </tr>\n",
       "  </tbody>\n",
       "</table>\n",
       "</div>"
      ],
      "text/plain": [
       "                                               Rating\n",
       "Organization                                         \n",
       "Hebrew University of Jerusalem               4.900000\n",
       "Nanyang Technological University, Singapore  4.900000\n",
       "Universidade Estadual de Campinas            4.900000\n",
       "Crece con Google                             4.900000\n",
       "London Business School                       4.900000\n",
       "Google - Spectrum Sharing                    4.900000\n",
       "ScrumTrek                                    4.900000\n",
       "Universidade de São Paulo                    4.866667\n",
       "The University of Chicago                    4.850000\n",
       "Universidad de los Andes                     4.820000"
      ]
     },
     "execution_count": 64,
     "metadata": {},
     "output_type": "execute_result"
    }
   ],
   "source": [
    "ratings = coursera.pivot_table('Rating', index = 'Organization')\n",
    "ratings.sort_values('Rating', ascending = False).head(10)"
   ]
  },
  {
   "cell_type": "markdown",
   "id": "qualified-insured",
   "metadata": {},
   "source": [
    "#### Which are the bottom ten lowest rated organizations?"
   ]
  },
  {
   "cell_type": "code",
   "execution_count": 65,
   "id": "fluid-baghdad",
   "metadata": {
    "scrolled": false
   },
   "outputs": [
    {
     "data": {
      "text/html": [
       "<div>\n",
       "<style scoped>\n",
       "    .dataframe tbody tr th:only-of-type {\n",
       "        vertical-align: middle;\n",
       "    }\n",
       "\n",
       "    .dataframe tbody tr th {\n",
       "        vertical-align: top;\n",
       "    }\n",
       "\n",
       "    .dataframe thead th {\n",
       "        text-align: right;\n",
       "    }\n",
       "</style>\n",
       "<table border=\"1\" class=\"dataframe\">\n",
       "  <thead>\n",
       "    <tr style=\"text-align: right;\">\n",
       "      <th></th>\n",
       "      <th>Rating</th>\n",
       "    </tr>\n",
       "    <tr>\n",
       "      <th>Organization</th>\n",
       "      <th></th>\n",
       "    </tr>\n",
       "  </thead>\n",
       "  <tbody>\n",
       "    <tr>\n",
       "      <th>Peter the Great St. Petersburg Polytechnic University</th>\n",
       "      <td>4.400</td>\n",
       "    </tr>\n",
       "    <tr>\n",
       "      <th>American Institute of Business and Economics</th>\n",
       "      <td>4.400</td>\n",
       "    </tr>\n",
       "    <tr>\n",
       "      <th>Icahn School of Medicine at Mount Sinai</th>\n",
       "      <td>4.400</td>\n",
       "    </tr>\n",
       "    <tr>\n",
       "      <th>Novosibirsk State University</th>\n",
       "      <td>4.400</td>\n",
       "    </tr>\n",
       "    <tr>\n",
       "      <th>The Linux Foundation</th>\n",
       "      <td>4.400</td>\n",
       "    </tr>\n",
       "    <tr>\n",
       "      <th>Luther College at the University of Regina</th>\n",
       "      <td>4.400</td>\n",
       "    </tr>\n",
       "    <tr>\n",
       "      <th>Unity</th>\n",
       "      <td>4.350</td>\n",
       "    </tr>\n",
       "    <tr>\n",
       "      <th>New York Institute of Finance</th>\n",
       "      <td>4.300</td>\n",
       "    </tr>\n",
       "    <tr>\n",
       "      <th>Tsinghua University</th>\n",
       "      <td>4.300</td>\n",
       "    </tr>\n",
       "    <tr>\n",
       "      <th>The State University of New York</th>\n",
       "      <td>4.275</td>\n",
       "    </tr>\n",
       "  </tbody>\n",
       "</table>\n",
       "</div>"
      ],
      "text/plain": [
       "                                                    Rating\n",
       "Organization                                              \n",
       "Peter the Great St. Petersburg Polytechnic Univ...   4.400\n",
       "American Institute of Business and Economics         4.400\n",
       "Icahn School of Medicine at Mount Sinai              4.400\n",
       "Novosibirsk State University                         4.400\n",
       "The Linux Foundation                                 4.400\n",
       "Luther College at the University of Regina           4.400\n",
       "Unity                                                4.350\n",
       "New York Institute of Finance                        4.300\n",
       "Tsinghua University                                  4.300\n",
       "The State University of New York                     4.275"
      ]
     },
     "execution_count": 65,
     "metadata": {},
     "output_type": "execute_result"
    }
   ],
   "source": [
    "ratings = coursera.pivot_table('Rating', index = 'Organization')\n",
    "ratings.sort_values('Rating', ascending = False).tail(10)"
   ]
  },
  {
   "cell_type": "markdown",
   "id": "pregnant-karen",
   "metadata": {},
   "source": [
    "### Correlations"
   ]
  },
  {
   "cell_type": "markdown",
   "id": "complimentary-firewall",
   "metadata": {},
   "source": [
    "What is the corrleations between difficulty level of a course and enrollment?\n",
    "What is the corrleations between difficulty level and rating?\n",
    "What is the correlation between certificate type and enrollement?\n",
    "What is the correlation between certificate type and rating?"
   ]
  },
  {
   "cell_type": "code",
   "execution_count": null,
   "id": "institutional-qatar",
   "metadata": {},
   "outputs": [],
   "source": []
  }
 ],
 "metadata": {
  "kernelspec": {
   "display_name": "Python 3",
   "language": "python",
   "name": "python3"
  },
  "language_info": {
   "codemirror_mode": {
    "name": "ipython",
    "version": 3
   },
   "file_extension": ".py",
   "mimetype": "text/x-python",
   "name": "python",
   "nbconvert_exporter": "python",
   "pygments_lexer": "ipython3",
   "version": "3.9.6"
  },
  "toc": {
   "base_numbering": 1,
   "nav_menu": {},
   "number_sections": true,
   "sideBar": true,
   "skip_h1_title": false,
   "title_cell": "Table of Contents",
   "title_sidebar": "Contents",
   "toc_cell": false,
   "toc_position": {},
   "toc_section_display": true,
   "toc_window_display": false
  }
 },
 "nbformat": 4,
 "nbformat_minor": 5
}
